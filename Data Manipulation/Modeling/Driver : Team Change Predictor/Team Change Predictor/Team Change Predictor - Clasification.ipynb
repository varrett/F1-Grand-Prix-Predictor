{
 "metadata": {
  "language_info": {
   "codemirror_mode": {
    "name": "ipython",
    "version": 3
   },
   "file_extension": ".py",
   "mimetype": "text/x-python",
   "name": "python",
   "nbconvert_exporter": "python",
   "pygments_lexer": "ipython3",
   "version": "3.7.6-final"
  },
  "orig_nbformat": 2,
  "kernelspec": {
   "name": "python_defaultSpec_1599512283137",
   "display_name": "Python 3.7.6 64-bit ('base': conda)"
  }
 },
 "nbformat": 4,
 "nbformat_minor": 2,
 "cells": [
  {
   "cell_type": "code",
   "execution_count": 1,
   "metadata": {},
   "outputs": [],
   "source": [
    "import numpy as np\n",
    "import pandas as pd\n",
    "\n",
    "from sklearn.model_selection import train_test_split\n",
    "from sklearn.metrics import confusion_matrix\n",
    "\n",
    "from sklearn.ensemble import RandomForestClassifier\n",
    "from sklearn.linear_model import LogisticRegression\n",
    "from sklearn.tree import DecisionTreeClassifier\n",
    "from sklearn.discriminant_analysis import  LinearDiscriminantAnalysis\n",
    "from sklearn.naive_bayes import GaussianNB\n",
    "from sklearn.svm import SVC\n",
    "from sklearn.neighbors import KNeighborsClassifier\n",
    "from sklearn.metrics import confusion_matrix,accuracy_score,precision_score,recall_score"
   ]
  },
  {
   "cell_type": "code",
   "execution_count": 2,
   "metadata": {},
   "outputs": [
    {
     "output_type": "execute_result",
     "data": {
      "text/plain": "'\\n\\n- constructor_standings_pos\\n- constructor_wins\\n- driver\\n- qualifying_time\\n- constructor\\n- podium\\n\\n'"
     },
     "metadata": {},
     "execution_count": 2
    }
   ],
   "source": [
    "df = pd.read_csv('/Users/alejandropalacios/Desktop/Ironhack/Data Analytics Bootcamp/Advanced Data Analysis Techniques/Project/F1-Grand-Prix-Predictor/Data Manipulation/Modeling/Modeled Databases/team_change_dummies_dataset.csv')\n",
    "\n",
    "\n",
    "# Moreover, the following Variables will be used based on our results (in order of Predictive Power):\n",
    "\n",
    "\"\"\"\n",
    "\n",
    "- constructor_standings_pos\n",
    "- constructor_wins\n",
    "- driver\n",
    "- qualifying_time\n",
    "- constructor\n",
    "- podium\n",
    "\n",
    "\"\"\""
   ]
  },
  {
   "cell_type": "code",
   "execution_count": 3,
   "metadata": {},
   "outputs": [],
   "source": [
    "df = df[[c for c in df if c not in ['change_teams']] + ['change_teams']]"
   ]
  },
  {
   "cell_type": "code",
   "execution_count": 4,
   "metadata": {},
   "outputs": [],
   "source": [
    "# Train the Model\n",
    "\n",
    "train = df[df.season < 2019]\n",
    "test = df[df.season == 2019]\n",
    "\n",
    "X_train = train.drop('change_teams',axis=1)\n",
    "y_train = train.change_teams\n",
    "\n",
    "X_test = test.drop('change_teams',axis=1)\n",
    "y_test = test.change_teams"
   ]
  },
  {
   "cell_type": "code",
   "execution_count": 5,
   "metadata": {
    "tags": []
   },
   "outputs": [
    {
     "output_type": "stream",
     "name": "stdout",
     "text": "\nConfusion Matrix:\n [[370   0]\n [  2  20]]\n\nModel Accuracy Score:\n 0.9948979591836735\n\nModel Precision Score:\n 1.0\n\nModel Recall Score:\n 0.9090909090909091\n"
    }
   ],
   "source": [
    "# Logistic Regression\n",
    "\n",
    "logistic_model = LogisticRegression()\n",
    "logistic_model.fit(X_train, y_train)\n",
    "y_pred = logistic_model.predict(X_test)\n",
    "\n",
    "print(\"\\nConfusion Matrix:\\n\",confusion_matrix(y_test,y_pred))\n",
    "print(\"\\nModel Accuracy Score:\\n\",accuracy_score(y_test,y_pred))\n",
    "print(\"\\nModel Precision Score:\\n\",precision_score(y_test,y_pred))\n",
    "print(\"\\nModel Recall Score:\\n\",recall_score(y_test,y_pred))\n"
   ]
  },
  {
   "cell_type": "code",
   "execution_count": 6,
   "metadata": {
    "tags": []
   },
   "outputs": [
    {
     "output_type": "stream",
     "name": "stdout",
     "text": "\nConfusion Matrix:\n [[364   6]\n [  2  20]]\n\nModel Accuracy Score:\n 0.9795918367346939\n\nModel Precision Score:\n 0.7692307692307693\n\nModel Recall Score:\n 0.9090909090909091\n"
    }
   ],
   "source": [
    "# Decision Tree Classifier\n",
    "\n",
    "tree_model = DecisionTreeClassifier()\n",
    "tree_model.fit(X_train,y_train)\n",
    "y_pred = tree_model.predict(X_test)\n",
    "\n",
    "print(\"\\nConfusion Matrix:\\n\",confusion_matrix(y_test,y_pred))\n",
    "print(\"\\nModel Accuracy Score:\\n\",accuracy_score(y_test, y_pred))\n",
    "print(\"\\nModel Precision Score:\\n\",precision_score(y_test,y_pred))\n",
    "print(\"\\nModel Recall Score:\\n\",recall_score(y_test,y_pred))"
   ]
  },
  {
   "cell_type": "code",
   "execution_count": 7,
   "metadata": {
    "tags": []
   },
   "outputs": [
    {
     "output_type": "stream",
     "name": "stdout",
     "text": "\nConfusion Matrix:\n [[365   5]\n [  3  19]]\n\nModel Accuracy Score:\n 0.9795918367346939\n\nModel Precision Score:\n 0.7916666666666666\n\nModel Recall Score:\n 0.8636363636363636\n"
    }
   ],
   "source": [
    "# Linear Discriminant Analysis\n",
    "\n",
    "linear_model = LinearDiscriminantAnalysis()\n",
    "linear_model.fit(X_train, y_train)\n",
    "y_pred = linear_model.predict(X_test)\n",
    "\n",
    "print(\"\\nConfusion Matrix:\\n\",confusion_matrix(y_test,y_pred))\n",
    "print(\"\\nModel Accuracy Score:\\n\",accuracy_score(y_test, y_pred))\n",
    "print(\"\\nModel Precision Score:\\n\",precision_score(y_test,y_pred))\n",
    "print(\"\\nModel Recall Score:\\n\",recall_score(y_test,y_pred))"
   ]
  },
  {
   "cell_type": "code",
   "execution_count": 8,
   "metadata": {
    "tags": []
   },
   "outputs": [
    {
     "output_type": "stream",
     "name": "stdout",
     "text": "\nConfusion Matrix:\n [[370   0]\n [  2  20]]\n\nModel Accuracy Score:\n 0.9948979591836735\n\nModel Precision Score:\n 1.0\n\nModel Recall Score:\n 0.9090909090909091\n"
    }
   ],
   "source": [
    "# Random Forest Classifier\n",
    "\n",
    "forest_model = RandomForestClassifier(n_jobs=2, random_state=0)\n",
    "forest_model.fit(X_train, y_train)\n",
    "y_pred = forest_model.predict(X_test)\n",
    "\n",
    "print(\"\\nConfusion Matrix:\\n\",confusion_matrix(y_test,y_pred))\n",
    "print(\"\\nModel Accuracy Score:\\n\",accuracy_score(y_test, y_pred))\n",
    "print(\"\\nModel Precision Score:\\n\",precision_score(y_test,y_pred))\n",
    "print(\"\\nModel Recall Score:\\n\",recall_score(y_test,y_pred))"
   ]
  },
  {
   "cell_type": "code",
   "execution_count": 9,
   "metadata": {
    "tags": []
   },
   "outputs": [
    {
     "output_type": "stream",
     "name": "stdout",
     "text": "\nConfusion Matrix:\n [[370   0]\n [ 22   0]]\n\nModel Accuracy Score:\n 0.9438775510204082\n\nModel Precision Score:\n 0.0\n\nModel Recall Score:\n 0.0\n"
    }
   ],
   "source": [
    "# Support Vector Classifier\n",
    "\n",
    "svc_model = SVC()\n",
    "svc_model.fit(X_train, y_train)\n",
    "y_pred = svc_model.predict(X_test)\n",
    "\n",
    "print(\"\\nConfusion Matrix:\\n\",confusion_matrix(y_test,y_pred))\n",
    "print(\"\\nModel Accuracy Score:\\n\",accuracy_score(y_test, y_pred))\n",
    "print(\"\\nModel Precision Score:\\n\",precision_score(y_test,y_pred))\n",
    "print(\"\\nModel Recall Score:\\n\",recall_score(y_test,y_pred))"
   ]
  },
  {
   "cell_type": "code",
   "execution_count": 10,
   "metadata": {
    "tags": []
   },
   "outputs": [
    {
     "output_type": "stream",
     "name": "stdout",
     "text": "\nConfusion Matrix:\n [[370   0]\n [  2  20]]\n\nModel Accuracy Score:\n 0.9948979591836735\n\nModel Precision Score:\n 1.0\n\nModel Recall Score:\n 0.9090909090909091\n"
    }
   ],
   "source": [
    "# K Neighbors Classifier\n",
    "\n",
    "knn_model = KNeighborsClassifier()\n",
    "knn_model.fit(X_train, y_train)\n",
    "y_pred = knn_model.predict(X_test)\n",
    "\n",
    "print(\"\\nConfusion Matrix:\\n\",confusion_matrix(y_test,y_pred))\n",
    "print(\"\\nModel Accuracy Score:\\n\",accuracy_score(y_test, y_pred))\n",
    "print(\"\\nModel Precision Score:\\n\",precision_score(y_test,y_pred))\n",
    "print(\"\\nModel Recall Score:\\n\",recall_score(y_test,y_pred))"
   ]
  },
  {
   "cell_type": "code",
   "execution_count": null,
   "metadata": {},
   "outputs": [],
   "source": []
  }
 ]
}