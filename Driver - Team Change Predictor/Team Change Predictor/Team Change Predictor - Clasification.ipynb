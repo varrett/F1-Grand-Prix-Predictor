{
 "metadata": {
  "language_info": {
   "codemirror_mode": {
    "name": "ipython",
    "version": 3
   },
   "file_extension": ".py",
   "mimetype": "text/x-python",
   "name": "python",
   "nbconvert_exporter": "python",
   "pygments_lexer": "ipython3",
   "version": "3.7.6-final"
  },
  "orig_nbformat": 2,
  "kernelspec": {
   "name": "python_defaultSpec_1599861308165",
   "display_name": "Python 3.7.6 64-bit ('base': conda)"
  }
 },
 "nbformat": 4,
 "nbformat_minor": 2,
 "cells": [
  {
   "cell_type": "code",
   "execution_count": 1,
   "metadata": {},
   "outputs": [],
   "source": [
    "import numpy as np\n",
    "import pandas as pd\n",
    "\n",
    "from sklearn.model_selection import train_test_split\n",
    "from sklearn.metrics import confusion_matrix\n",
    "\n",
    "from sklearn.ensemble import RandomForestClassifier\n",
    "from sklearn.linear_model import LogisticRegression\n",
    "from sklearn.tree import DecisionTreeClassifier\n",
    "from sklearn.discriminant_analysis import  LinearDiscriminantAnalysis\n",
    "from sklearn.naive_bayes import GaussianNB\n",
    "from sklearn.svm import SVC\n",
    "from sklearn.neighbors import KNeighborsClassifier\n",
    "from sklearn.metrics import confusion_matrix,accuracy_score,precision_score,recall_score"
   ]
  },
  {
   "cell_type": "code",
   "execution_count": 2,
   "metadata": {},
   "outputs": [
    {
     "output_type": "execute_result",
     "data": {
      "text/plain": "               driver  season  round   circuit_id  weather_warm  weather_cold  \\\n0               baldi    1983      1  jacarepagua         False         False   \n1               serra    1983      1  jacarepagua         False         False   \n2               surer    1983      1  jacarepagua         False         False   \n3  manfred_winkelhock    1983      1  jacarepagua         False         False   \n4             patrese    1983      1  jacarepagua         False         False   \n\n   weather_dry  weather_wet  weather_cloudy nationality  ... driver_points  \\\n0         True        False           False     Italian  ...             0   \n1         True        False           False   Brazilian  ...             0   \n2         True        False           False       Swiss  ...             0   \n3         True        False           False      German  ...             0   \n4         True        False           False     Italian  ...             0   \n\n   driver_wins  driver_standings_pos  constructor_points  constructor_wins  \\\n0            0                     0                   0                 0   \n1            0                     0                   0                 0   \n2            0                     0                   0                 0   \n3            0                     0                   0                 0   \n4            0                     0                   0                 0   \n\n   constructor_standings_pos  qualifying_time  driver_age  wins_percentage  \\\n0                          0            1.454          29              NaN   \n1                          0            5.293          26              0.0   \n2                          0            3.796          31              NaN   \n3                          0            6.481          31              NaN   \n4                          0            1.286          28              NaN   \n\n   change_teams  \n0             1  \n1             1  \n2             1  \n3             1  \n4             1  \n\n[5 rows x 26 columns]",
      "text/html": "<div>\n<style scoped>\n    .dataframe tbody tr th:only-of-type {\n        vertical-align: middle;\n    }\n\n    .dataframe tbody tr th {\n        vertical-align: top;\n    }\n\n    .dataframe thead th {\n        text-align: right;\n    }\n</style>\n<table border=\"1\" class=\"dataframe\">\n  <thead>\n    <tr style=\"text-align: right;\">\n      <th></th>\n      <th>driver</th>\n      <th>season</th>\n      <th>round</th>\n      <th>circuit_id</th>\n      <th>weather_warm</th>\n      <th>weather_cold</th>\n      <th>weather_dry</th>\n      <th>weather_wet</th>\n      <th>weather_cloudy</th>\n      <th>nationality</th>\n      <th>...</th>\n      <th>driver_points</th>\n      <th>driver_wins</th>\n      <th>driver_standings_pos</th>\n      <th>constructor_points</th>\n      <th>constructor_wins</th>\n      <th>constructor_standings_pos</th>\n      <th>qualifying_time</th>\n      <th>driver_age</th>\n      <th>wins_percentage</th>\n      <th>change_teams</th>\n    </tr>\n  </thead>\n  <tbody>\n    <tr>\n      <th>0</th>\n      <td>baldi</td>\n      <td>1983</td>\n      <td>1</td>\n      <td>jacarepagua</td>\n      <td>False</td>\n      <td>False</td>\n      <td>True</td>\n      <td>False</td>\n      <td>False</td>\n      <td>Italian</td>\n      <td>...</td>\n      <td>0</td>\n      <td>0</td>\n      <td>0</td>\n      <td>0</td>\n      <td>0</td>\n      <td>0</td>\n      <td>1.454</td>\n      <td>29</td>\n      <td>NaN</td>\n      <td>1</td>\n    </tr>\n    <tr>\n      <th>1</th>\n      <td>serra</td>\n      <td>1983</td>\n      <td>1</td>\n      <td>jacarepagua</td>\n      <td>False</td>\n      <td>False</td>\n      <td>True</td>\n      <td>False</td>\n      <td>False</td>\n      <td>Brazilian</td>\n      <td>...</td>\n      <td>0</td>\n      <td>0</td>\n      <td>0</td>\n      <td>0</td>\n      <td>0</td>\n      <td>0</td>\n      <td>5.293</td>\n      <td>26</td>\n      <td>0.0</td>\n      <td>1</td>\n    </tr>\n    <tr>\n      <th>2</th>\n      <td>surer</td>\n      <td>1983</td>\n      <td>1</td>\n      <td>jacarepagua</td>\n      <td>False</td>\n      <td>False</td>\n      <td>True</td>\n      <td>False</td>\n      <td>False</td>\n      <td>Swiss</td>\n      <td>...</td>\n      <td>0</td>\n      <td>0</td>\n      <td>0</td>\n      <td>0</td>\n      <td>0</td>\n      <td>0</td>\n      <td>3.796</td>\n      <td>31</td>\n      <td>NaN</td>\n      <td>1</td>\n    </tr>\n    <tr>\n      <th>3</th>\n      <td>manfred_winkelhock</td>\n      <td>1983</td>\n      <td>1</td>\n      <td>jacarepagua</td>\n      <td>False</td>\n      <td>False</td>\n      <td>True</td>\n      <td>False</td>\n      <td>False</td>\n      <td>German</td>\n      <td>...</td>\n      <td>0</td>\n      <td>0</td>\n      <td>0</td>\n      <td>0</td>\n      <td>0</td>\n      <td>0</td>\n      <td>6.481</td>\n      <td>31</td>\n      <td>NaN</td>\n      <td>1</td>\n    </tr>\n    <tr>\n      <th>4</th>\n      <td>patrese</td>\n      <td>1983</td>\n      <td>1</td>\n      <td>jacarepagua</td>\n      <td>False</td>\n      <td>False</td>\n      <td>True</td>\n      <td>False</td>\n      <td>False</td>\n      <td>Italian</td>\n      <td>...</td>\n      <td>0</td>\n      <td>0</td>\n      <td>0</td>\n      <td>0</td>\n      <td>0</td>\n      <td>0</td>\n      <td>1.286</td>\n      <td>28</td>\n      <td>NaN</td>\n      <td>1</td>\n    </tr>\n  </tbody>\n</table>\n<p>5 rows × 26 columns</p>\n</div>"
     },
     "metadata": {},
     "execution_count": 2
    }
   ],
   "source": [
    "# The following exercise will study the Accuracy Score of various Regression Models to predict a Team Change for any given Driver based on the factors WOE and IV defined as Strong Predictors.\n",
    "\n",
    "# As always, let's deploy our Dataset first. \n",
    "\n",
    "data = pd.read_csv('/Users/alejandropalacios/Desktop/Ironhack/Data Analytics Bootcamp/Advanced Data Analysis Techniques/Project/F1-Grand-Prix-Predictor/Data Manipulation/Modeling/Modeled Databases/team_change_dataset_shift.csv')\n",
    "\n",
    "data.head()"
   ]
  },
  {
   "cell_type": "code",
   "execution_count": 3,
   "metadata": {},
   "outputs": [],
   "source": [
    "# We must get dummies for the categorical variables dataset in order to properly run our Model.\n",
    "\n",
    "df_woeiv = data[['season','constructor_standings_pos','constructor_wins','driver','qualifying_time','constructor','podium','change_teams']]\n",
    "\n",
    "df_dum = pd.get_dummies(df_woeiv, columns = ['constructor','driver'] )\n",
    "\n",
    "for col in df_dum.columns:\n",
    "    if 'constructor' in col and df_dum[col].sum() < 140:\n",
    "        df_dum.drop(col, axis = 1, inplace = True)\n",
    "    \n",
    "    elif 'driver' in col and df_dum[col].sum() < 140:\n",
    "        df_dum.drop(col, axis = 1, inplace = True)\n",
    "    else:\n",
    "        pass\n",
    "\n",
    "df_dum.to_csv('/Users/alejandropalacios/Desktop/Ironhack/Data Analytics Bootcamp/Advanced Data Analysis Techniques/Project/F1-Grand-Prix-Predictor/Data Manipulation/Modeling/Modeled Databases/team_change_dummies_dataset.csv', index = False)"
   ]
  },
  {
   "cell_type": "code",
   "execution_count": 4,
   "metadata": {},
   "outputs": [
    {
     "output_type": "execute_result",
     "data": {
      "text/plain": "'\\n\\n- constructor_standings_pos\\n- constructor_wins\\n- driver\\n- qualifying_time\\n- constructor\\n- podium\\n\\n'"
     },
     "metadata": {},
     "execution_count": 4
    }
   ],
   "source": [
    "# Now let's actually do some good good stuff.   \n",
    "\n",
    "df = pd.read_csv('/Users/alejandropalacios/Desktop/Ironhack/Data Analytics Bootcamp/Advanced Data Analysis Techniques/Project/F1-Grand-Prix-Predictor/Data Manipulation/Modeling/Modeled Databases/team_change_dummies_dataset.csv')\n",
    "\n",
    "\n",
    "# Moreover, the following Variables will be used based on our results (in order of Predictive Power):\n",
    "\n",
    "\"\"\"\n",
    "\n",
    "- constructor_standings_pos\n",
    "- constructor_wins\n",
    "- driver\n",
    "- qualifying_time\n",
    "- constructor\n",
    "- podium\n",
    "\n",
    "\"\"\""
   ]
  },
  {
   "cell_type": "code",
   "execution_count": 5,
   "metadata": {},
   "outputs": [],
   "source": [
    "df = df[[c for c in df if c not in ['change_teams']] + ['change_teams']]"
   ]
  },
  {
   "cell_type": "code",
   "execution_count": 6,
   "metadata": {},
   "outputs": [],
   "source": [
    "# Train the Model\n",
    "\n",
    "train = df[df.season < 2000]\n",
    "test = df[df.season >= 2000]\n",
    "\n",
    "X_train = train.drop('change_teams',axis=1)\n",
    "y_train = train.change_teams\n",
    "\n",
    "X_test = test.drop('change_teams',axis=1)\n",
    "y_test = test.change_teams"
   ]
  },
  {
   "cell_type": "code",
   "execution_count": 7,
   "metadata": {
    "tags": []
   },
   "outputs": [
    {
     "output_type": "stream",
     "name": "stdout",
     "text": "\nConfusion Matrix:\n [[6935    6]\n [ 170  326]]\n\nModel Accuracy Score:\n 0.9763345434987226\n\nModel Precision Score:\n 0.9819277108433735\n\nModel Recall Score:\n 0.657258064516129\n"
    }
   ],
   "source": [
    "# Logistic Regression\n",
    "\n",
    "logistic_model = LogisticRegression()\n",
    "logistic_model.fit(X_train, y_train)\n",
    "y_pred = logistic_model.predict(X_test)\n",
    "\n",
    "print(\"\\nConfusion Matrix:\\n\",confusion_matrix(y_test,y_pred))\n",
    "print(\"\\nModel Accuracy Score:\\n\",accuracy_score(y_test,y_pred))\n",
    "print(\"\\nModel Precision Score:\\n\",precision_score(y_test,y_pred))\n",
    "print(\"\\nModel Recall Score:\\n\",recall_score(y_test,y_pred))\n"
   ]
  },
  {
   "cell_type": "code",
   "execution_count": 8,
   "metadata": {
    "tags": []
   },
   "outputs": [
    {
     "output_type": "stream",
     "name": "stdout",
     "text": "\nConfusion Matrix:\n [[6709  232]\n [ 124  372]]\n\nModel Accuracy Score:\n 0.9521312357133253\n\nModel Precision Score:\n 0.6158940397350994\n\nModel Recall Score:\n 0.75\n"
    }
   ],
   "source": [
    "# Decision Tree Classifier\n",
    "\n",
    "tree_model = DecisionTreeClassifier()\n",
    "tree_model.fit(X_train,y_train)\n",
    "y_pred = tree_model.predict(X_test)\n",
    "\n",
    "print(\"\\nConfusion Matrix:\\n\",confusion_matrix(y_test,y_pred))\n",
    "print(\"\\nModel Accuracy Score:\\n\",accuracy_score(y_test, y_pred))\n",
    "print(\"\\nModel Precision Score:\\n\",precision_score(y_test,y_pred))\n",
    "print(\"\\nModel Recall Score:\\n\",recall_score(y_test,y_pred))"
   ]
  },
  {
   "cell_type": "code",
   "execution_count": 9,
   "metadata": {
    "tags": []
   },
   "outputs": [
    {
     "output_type": "stream",
     "name": "stdout",
     "text": "\nConfusion Matrix:\n [[6019  922]\n [ 249  247]]\n\nModel Accuracy Score:\n 0.8425440365738873\n\nModel Precision Score:\n 0.21129170230966637\n\nModel Recall Score:\n 0.49798387096774194\n"
    }
   ],
   "source": [
    "# Linear Discriminant Analysis\n",
    "\n",
    "linear_model = LinearDiscriminantAnalysis()\n",
    "linear_model.fit(X_train, y_train)\n",
    "y_pred = linear_model.predict(X_test)\n",
    "\n",
    "print(\"\\nConfusion Matrix:\\n\",confusion_matrix(y_test,y_pred))\n",
    "print(\"\\nModel Accuracy Score:\\n\",accuracy_score(y_test, y_pred))\n",
    "print(\"\\nModel Precision Score:\\n\",precision_score(y_test,y_pred))\n",
    "print(\"\\nModel Recall Score:\\n\",recall_score(y_test,y_pred))"
   ]
  },
  {
   "cell_type": "code",
   "execution_count": 10,
   "metadata": {
    "tags": []
   },
   "outputs": [
    {
     "output_type": "stream",
     "name": "stdout",
     "text": "\nConfusion Matrix:\n [[6937    4]\n [ 134  362]]\n\nModel Accuracy Score:\n 0.9814441306978621\n\nModel Precision Score:\n 0.9890710382513661\n\nModel Recall Score:\n 0.7298387096774194\n"
    }
   ],
   "source": [
    "# Random Forest Classifier\n",
    "\n",
    "forest_model = RandomForestClassifier(n_jobs=2, random_state=0)\n",
    "forest_model.fit(X_train, y_train)\n",
    "y_pred = forest_model.predict(X_test)\n",
    "\n",
    "print(\"\\nConfusion Matrix:\\n\",confusion_matrix(y_test,y_pred))\n",
    "print(\"\\nModel Accuracy Score:\\n\",accuracy_score(y_test, y_pred))\n",
    "print(\"\\nModel Precision Score:\\n\",precision_score(y_test,y_pred))\n",
    "print(\"\\nModel Recall Score:\\n\",recall_score(y_test,y_pred))"
   ]
  },
  {
   "cell_type": "code",
   "execution_count": 11,
   "metadata": {
    "tags": []
   },
   "outputs": [
    {
     "output_type": "stream",
     "name": "stdout",
     "text": "\nConfusion Matrix:\n [[6941    0]\n [ 496    0]]\n\nModel Accuracy Score:\n 0.9333064407691274\n\nModel Precision Score:\n 0.0\n\nModel Recall Score:\n 0.0\n"
    }
   ],
   "source": [
    "# Support Vector Classifier\n",
    "\n",
    "svc_model = SVC()\n",
    "svc_model.fit(X_train, y_train)\n",
    "y_pred = svc_model.predict(X_test)\n",
    "\n",
    "print(\"\\nConfusion Matrix:\\n\",confusion_matrix(y_test,y_pred))\n",
    "print(\"\\nModel Accuracy Score:\\n\",accuracy_score(y_test, y_pred))\n",
    "print(\"\\nModel Precision Score:\\n\",precision_score(y_test,y_pred))\n",
    "print(\"\\nModel Recall Score:\\n\",recall_score(y_test,y_pred))"
   ]
  },
  {
   "cell_type": "code",
   "execution_count": 12,
   "metadata": {
    "tags": []
   },
   "outputs": [
    {
     "output_type": "stream",
     "name": "stdout",
     "text": "\nConfusion Matrix:\n [[6930   11]\n [ 283  213]]\n\nModel Accuracy Score:\n 0.9604679306171844\n\nModel Precision Score:\n 0.9508928571428571\n\nModel Recall Score:\n 0.42943548387096775\n"
    }
   ],
   "source": [
    "# K Neighbors Classifier\n",
    "\n",
    "knn_model = KNeighborsClassifier()\n",
    "knn_model.fit(X_train, y_train)\n",
    "y_pred = knn_model.predict(X_test)\n",
    "\n",
    "print(\"\\nConfusion Matrix:\\n\",confusion_matrix(y_test,y_pred))\n",
    "print(\"\\nModel Accuracy Score:\\n\",accuracy_score(y_test, y_pred))\n",
    "print(\"\\nModel Precision Score:\\n\",precision_score(y_test,y_pred))\n",
    "print(\"\\nModel Recall Score:\\n\",recall_score(y_test,y_pred))"
   ]
  },
  {
   "cell_type": "code",
   "execution_count": null,
   "metadata": {},
   "outputs": [],
   "source": []
  }
 ]
}