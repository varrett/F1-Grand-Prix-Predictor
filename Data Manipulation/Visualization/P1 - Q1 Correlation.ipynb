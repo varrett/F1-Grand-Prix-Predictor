{
 "cells": [
  {
   "cell_type": "code",
   "execution_count": 1,
   "metadata": {},
   "outputs": [],
   "source": [
    "import pandas as pd\n",
    "import numpy as np"
   ]
  },
  {
   "cell_type": "code",
   "execution_count": 2,
   "metadata": {},
   "outputs": [],
   "source": [
    "results = pd.read_csv('/Users/alejandropalacios/Desktop/Ironhack/Data Analytics Bootcamp/Advanced Data Analysis Techniques/Project/F1-Grand-Prix-Predictor/Data Collection/results.csv')"
   ]
  },
  {
   "cell_type": "code",
   "execution_count": 3,
   "metadata": {},
   "outputs": [
    {
     "output_type": "execute_result",
     "data": {
      "text/plain": "   season  round   circuit_id       driver date_of_birth nationality  \\\n0    1950      1  silverstone       farina    1906-10-30     Italian   \n1    1950      1  silverstone      fagioli    1898-06-09     Italian   \n2    1950      1  silverstone  reg_parnell    1911-07-02     British   \n3    1950      1  silverstone    cabantous    1904-10-08      French   \n4    1950      1  silverstone       rosier    1905-11-05      French   \n\n  constructor  grid       time    status  points  podium  \n0        alfa     1  8003600.0  Finished     9.0       1  \n1        alfa     2  8006200.0  Finished     6.0       2  \n2        alfa     4  8055600.0  Finished     4.0       3  \n3        lago     6        NaN   +2 Laps     3.0       4  \n4        lago     9        NaN   +2 Laps     2.0       5  ",
      "text/html": "<div>\n<style scoped>\n    .dataframe tbody tr th:only-of-type {\n        vertical-align: middle;\n    }\n\n    .dataframe tbody tr th {\n        vertical-align: top;\n    }\n\n    .dataframe thead th {\n        text-align: right;\n    }\n</style>\n<table border=\"1\" class=\"dataframe\">\n  <thead>\n    <tr style=\"text-align: right;\">\n      <th></th>\n      <th>season</th>\n      <th>round</th>\n      <th>circuit_id</th>\n      <th>driver</th>\n      <th>date_of_birth</th>\n      <th>nationality</th>\n      <th>constructor</th>\n      <th>grid</th>\n      <th>time</th>\n      <th>status</th>\n      <th>points</th>\n      <th>podium</th>\n    </tr>\n  </thead>\n  <tbody>\n    <tr>\n      <th>0</th>\n      <td>1950</td>\n      <td>1</td>\n      <td>silverstone</td>\n      <td>farina</td>\n      <td>1906-10-30</td>\n      <td>Italian</td>\n      <td>alfa</td>\n      <td>1</td>\n      <td>8003600.0</td>\n      <td>Finished</td>\n      <td>9.0</td>\n      <td>1</td>\n    </tr>\n    <tr>\n      <th>1</th>\n      <td>1950</td>\n      <td>1</td>\n      <td>silverstone</td>\n      <td>fagioli</td>\n      <td>1898-06-09</td>\n      <td>Italian</td>\n      <td>alfa</td>\n      <td>2</td>\n      <td>8006200.0</td>\n      <td>Finished</td>\n      <td>6.0</td>\n      <td>2</td>\n    </tr>\n    <tr>\n      <th>2</th>\n      <td>1950</td>\n      <td>1</td>\n      <td>silverstone</td>\n      <td>reg_parnell</td>\n      <td>1911-07-02</td>\n      <td>British</td>\n      <td>alfa</td>\n      <td>4</td>\n      <td>8055600.0</td>\n      <td>Finished</td>\n      <td>4.0</td>\n      <td>3</td>\n    </tr>\n    <tr>\n      <th>3</th>\n      <td>1950</td>\n      <td>1</td>\n      <td>silverstone</td>\n      <td>cabantous</td>\n      <td>1904-10-08</td>\n      <td>French</td>\n      <td>lago</td>\n      <td>6</td>\n      <td>NaN</td>\n      <td>+2 Laps</td>\n      <td>3.0</td>\n      <td>4</td>\n    </tr>\n    <tr>\n      <th>4</th>\n      <td>1950</td>\n      <td>1</td>\n      <td>silverstone</td>\n      <td>rosier</td>\n      <td>1905-11-05</td>\n      <td>French</td>\n      <td>lago</td>\n      <td>9</td>\n      <td>NaN</td>\n      <td>+2 Laps</td>\n      <td>2.0</td>\n      <td>5</td>\n    </tr>\n  </tbody>\n</table>\n</div>"
     },
     "metadata": {},
     "execution_count": 3
    }
   ],
   "source": [
    "results.head()"
   ]
  },
  {
   "cell_type": "code",
   "execution_count": null,
   "metadata": {},
   "outputs": [],
   "source": [
    "correlation_subset = results[]"
   ]
  }
 ],
 "metadata": {
  "language_info": {
   "codemirror_mode": {
    "name": "ipython",
    "version": 3
   },
   "file_extension": ".py",
   "mimetype": "text/x-python",
   "name": "python",
   "nbconvert_exporter": "python",
   "pygments_lexer": "ipython3",
   "version": "3.7.6-final"
  },
  "orig_nbformat": 2,
  "kernelspec": {
   "name": "python37664bitanaconda3virtualenv0697af1ee67a458e9253591065064715",
   "display_name": "Python 3.7.6 64-bit ('anaconda3': virtualenv)"
  }
 },
 "nbformat": 4,
 "nbformat_minor": 2
}