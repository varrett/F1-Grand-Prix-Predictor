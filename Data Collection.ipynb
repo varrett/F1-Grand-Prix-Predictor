{
 "cells": [
  {
   "cell_type": "code",
   "execution_count": 1,
   "metadata": {},
   "outputs": [],
   "source": [
    "# In this project I will keep trying to dive deeper and deeper into the Formula One Matrix by designing, at some capacity, a predictory model for results on every race. \n",
    "\n",
    "import numpy as np\n",
    "import pandas as pd\n",
    "import requests\n",
    "from selenium import webdriver\n",
    "import bs4\n",
    "from bs4 import BeautifulSoup\n",
    "import time\n"
   ]
  },
  {
   "cell_type": "code",
   "execution_count": 5,
   "metadata": {},
   "outputs": [],
   "source": [
    "# Let's start from the begining though, gathering our data from Ergast, the lead providor of every single F1 statistic.\n",
    "\n",
    "# This First DataFrame will output Race information only.\n",
    "\n",
    "races = {'season': [],\n",
    "        'round': [],\n",
    "        'circuit_id': [],\n",
    "        'lat': [],\n",
    "        'long': [],\n",
    "        'country': [],\n",
    "        'date': [],\n",
    "        'url': []}\n",
    "\n",
    "for year in list(range(1950,2020)):\n",
    "    \n",
    "    url = 'https://ergast.com/api/f1/{}.json'\n",
    "    r = requests.get(url.format(year))\n",
    "    json = r.json()\n",
    "\n",
    "    for item in json['MRData']['RaceTable']['Races']:\n",
    "        try:\n",
    "            races['season'].append(int(item['season']))\n",
    "        except:\n",
    "            races['season'].append(None)\n",
    "\n",
    "        try:\n",
    "            races['round'].append(int(item['round']))\n",
    "        except:\n",
    "            races['round'].append(None)\n",
    "\n",
    "        try:\n",
    "            races['circuit_id'].append(item['Circuit']['circuitId'])\n",
    "        except:\n",
    "            races['circuit_id'].append(None)\n",
    "\n",
    "        try:\n",
    "            races['lat'].append(float(item['Circuit']['Location']['lat']))\n",
    "        except:\n",
    "            races['lat'].append(None)\n",
    "\n",
    "        try:\n",
    "            races['long'].append(float(item['Circuit']['Location']['long']))\n",
    "        except:\n",
    "            races['long'].append(None)\n",
    "\n",
    "        try:\n",
    "            races['country'].append(item['Circuit']['Location']['country'])\n",
    "        except:\n",
    "            races['country'].append(None)\n",
    "\n",
    "        try:\n",
    "            races['date'].append(item['date'])\n",
    "        except:\n",
    "            races['date'].append(None)\n",
    "\n",
    "        try:\n",
    "            races['url'].append(item['url'])\n",
    "        except:\n",
    "            races['url'].append(None)\n",
    "        \n",
    "races = pd.DataFrame(races)"
   ]
  },
  {
   "cell_type": "code",
   "execution_count": 11,
   "metadata": {},
   "outputs": [
    {
     "output_type": "execute_result",
     "data": {
      "text/plain": "   season  round    circuit_id      lat      long      country        date  \\\n0    1950      1   silverstone  52.0786  -1.01694           UK  1950-05-13   \n1    1950      2        monaco  43.7347   7.42056       Monaco  1950-05-21   \n2    1950      3  indianapolis  39.7950 -86.23470          USA  1950-05-30   \n3    1950      4    bremgarten  46.9589   7.40194  Switzerland  1950-06-04   \n4    1950      5           spa  50.4372   5.97139      Belgium  1950-06-18   \n\n                                                 url  \n0  http://en.wikipedia.org/wiki/1950_British_Gran...  \n1  http://en.wikipedia.org/wiki/1950_Monaco_Grand...  \n2  http://en.wikipedia.org/wiki/1950_Indianapolis...  \n3  http://en.wikipedia.org/wiki/1950_Swiss_Grand_...  \n4  http://en.wikipedia.org/wiki/1950_Belgian_Gran...  ",
      "text/html": "<div>\n<style scoped>\n    .dataframe tbody tr th:only-of-type {\n        vertical-align: middle;\n    }\n\n    .dataframe tbody tr th {\n        vertical-align: top;\n    }\n\n    .dataframe thead th {\n        text-align: right;\n    }\n</style>\n<table border=\"1\" class=\"dataframe\">\n  <thead>\n    <tr style=\"text-align: right;\">\n      <th></th>\n      <th>season</th>\n      <th>round</th>\n      <th>circuit_id</th>\n      <th>lat</th>\n      <th>long</th>\n      <th>country</th>\n      <th>date</th>\n      <th>url</th>\n    </tr>\n  </thead>\n  <tbody>\n    <tr>\n      <th>0</th>\n      <td>1950</td>\n      <td>1</td>\n      <td>silverstone</td>\n      <td>52.0786</td>\n      <td>-1.01694</td>\n      <td>UK</td>\n      <td>1950-05-13</td>\n      <td>http://en.wikipedia.org/wiki/1950_British_Gran...</td>\n    </tr>\n    <tr>\n      <th>1</th>\n      <td>1950</td>\n      <td>2</td>\n      <td>monaco</td>\n      <td>43.7347</td>\n      <td>7.42056</td>\n      <td>Monaco</td>\n      <td>1950-05-21</td>\n      <td>http://en.wikipedia.org/wiki/1950_Monaco_Grand...</td>\n    </tr>\n    <tr>\n      <th>2</th>\n      <td>1950</td>\n      <td>3</td>\n      <td>indianapolis</td>\n      <td>39.7950</td>\n      <td>-86.23470</td>\n      <td>USA</td>\n      <td>1950-05-30</td>\n      <td>http://en.wikipedia.org/wiki/1950_Indianapolis...</td>\n    </tr>\n    <tr>\n      <th>3</th>\n      <td>1950</td>\n      <td>4</td>\n      <td>bremgarten</td>\n      <td>46.9589</td>\n      <td>7.40194</td>\n      <td>Switzerland</td>\n      <td>1950-06-04</td>\n      <td>http://en.wikipedia.org/wiki/1950_Swiss_Grand_...</td>\n    </tr>\n    <tr>\n      <th>4</th>\n      <td>1950</td>\n      <td>5</td>\n      <td>spa</td>\n      <td>50.4372</td>\n      <td>5.97139</td>\n      <td>Belgium</td>\n      <td>1950-06-18</td>\n      <td>http://en.wikipedia.org/wiki/1950_Belgian_Gran...</td>\n    </tr>\n  </tbody>\n</table>\n</div>"
     },
     "metadata": {},
     "execution_count": 11
    }
   ],
   "source": [
    "# Here we have a nice dataframe which has every race from 1950 until 2019 (at the moment of coding this project, we have already had the 2020 Austrian GP, but information hasn't been uploaded yet).\n",
    "\n",
    "races.head()"
   ]
  },
  {
   "cell_type": "code",
   "execution_count": 12,
   "metadata": {},
   "outputs": [],
   "source": [
    "# Now let's pass it to a .csv file so we can optimize our workload moving forward. \n",
    "\n",
    "races.to_csv('races.csv', index = False)"
   ]
  },
  {
   "cell_type": "code",
   "execution_count": 16,
   "metadata": {},
   "outputs": [],
   "source": [
    "# Appending the number of rounds to each season from the races dataframe.\n",
    "\n",
    "race = pd.read_csv('races.csv')\n",
    "\n",
    "rounds = []\n",
    "for year in np.array(race.season.unique()):\n",
    "    rounds.append([year, list(race[race.season == year]['round'])])"
   ]
  },
  {
   "cell_type": "code",
   "execution_count": 17,
   "metadata": {},
   "outputs": [
    {
     "output_type": "execute_result",
     "data": {
      "text/plain": "[[1950, [1, 2, 3, 4, 5, 6, 7]],\n [1951, [1, 2, 3, 4, 5, 6, 7, 8]],\n [1952, [1, 2, 3, 4, 5, 6, 7, 8]],\n [1953, [1, 2, 3, 4, 5, 6, 7, 8, 9]],\n [1954, [1, 2, 3, 4, 5, 6, 7, 8, 9]]]"
     },
     "metadata": {},
     "execution_count": 17
    }
   ],
   "source": [
    "# Here is the spread of rounds per year, from the first Grand Prix ever held, to the 5th.\n",
    "\n",
    "rounds[:5]"
   ]
  },
  {
   "cell_type": "code",
   "execution_count": 21,
   "metadata": {},
   "outputs": [],
   "source": [
    "# Now let's get all the results from said Races. \n",
    "\n",
    "# Query API\n",
    "    \n",
    "results = {'season': [],\n",
    "            'round':[],\n",
    "            'circuit_id':[],\n",
    "            'driver': [],\n",
    "            'date_of_birth': [],\n",
    "            'nationality': [],\n",
    "            'constructor': [],\n",
    "            'grid': [],\n",
    "            'time': [],\n",
    "            'status': [],\n",
    "            'points': [],\n",
    "            'podium': []}\n",
    "\n",
    "for n in list(range(len(rounds))):\n",
    "    for i in rounds[n][1]:\n",
    "    \n",
    "        url = 'http://ergast.com/api/f1/{}/{}/results.json'\n",
    "        r = requests.get(url.format(rounds[n][0], i))\n",
    "        json = r.json()\n",
    "\n",
    "        for item in json['MRData']['RaceTable']['Races'][0]['Results']:\n",
    "            try:\n",
    "                results['season'].append(int(json['MRData']['RaceTable']['Races'][0]['season']))\n",
    "            except:\n",
    "                results['season'].append(None)\n",
    "\n",
    "            try:\n",
    "                results['round'].append(int(json['MRData']['RaceTable']['Races'][0]['round']))\n",
    "            except:\n",
    "                results['round'].append(None)\n",
    "\n",
    "            try:\n",
    "                results['circuit_id'].append(json['MRData']['RaceTable']['Races'][0]['Circuit']['circuitId'])\n",
    "            except:\n",
    "                results['circuit_id'].append(None)\n",
    "\n",
    "            try:\n",
    "                results['driver'].append(item['Driver']['driverId'])\n",
    "            except:\n",
    "                results['driver'].append(None)\n",
    "            \n",
    "            try:\n",
    "                results['date_of_birth'].append(item['Driver']['dateOfBirth'])\n",
    "            except:\n",
    "                results['date_of_birth'].append(None)\n",
    "                \n",
    "            try:\n",
    "                results['nationality'].append(item['Driver']['nationality'])\n",
    "            except:\n",
    "                results['nationality'].append(None)\n",
    "\n",
    "            try:\n",
    "                results['constructor'].append(item['Constructor']['constructorId'])\n",
    "            except:\n",
    "                results['constructor'].append(None)\n",
    "\n",
    "            try:\n",
    "                results['grid'].append(int(item['grid']))\n",
    "            except:\n",
    "                results['grid'].append(None)\n",
    "\n",
    "            try:\n",
    "                results['time'].append(int(item['Time']['millis']))\n",
    "            except:\n",
    "                results['time'].append(None)\n",
    "\n",
    "            try:\n",
    "                results['status'].append(item['status'])\n",
    "            except:\n",
    "                results['status'].append(None)\n",
    "\n",
    "            try:\n",
    "                results['points'].append(int(item['points']))\n",
    "            except:\n",
    "                results['points'].append(None)\n",
    "\n",
    "            try:\n",
    "                results['podium'].append(int(item['position']))\n",
    "            except:\n",
    "                results['podium'].append(None)\n",
    "\n",
    "           \n",
    "results = pd.DataFrame(results)"
   ]
  },
  {
   "cell_type": "code",
   "execution_count": 22,
   "metadata": {},
   "outputs": [
    {
     "output_type": "execute_result",
     "data": {
      "text/plain": "   season  round   circuit_id       driver date_of_birth nationality  \\\n0    1950      1  silverstone       farina    1906-10-30     Italian   \n1    1950      1  silverstone      fagioli    1898-06-09     Italian   \n2    1950      1  silverstone  reg_parnell    1911-07-02     British   \n3    1950      1  silverstone    cabantous    1904-10-08      French   \n4    1950      1  silverstone       rosier    1905-11-05      French   \n\n  constructor  grid       time    status  points  podium  \n0        alfa     1  8003600.0  Finished     9.0       1  \n1        alfa     2  8006200.0  Finished     6.0       2  \n2        alfa     4  8055600.0  Finished     4.0       3  \n3        lago     6        NaN   +2 Laps     3.0       4  \n4        lago     9        NaN   +2 Laps     2.0       5  ",
      "text/html": "<div>\n<style scoped>\n    .dataframe tbody tr th:only-of-type {\n        vertical-align: middle;\n    }\n\n    .dataframe tbody tr th {\n        vertical-align: top;\n    }\n\n    .dataframe thead th {\n        text-align: right;\n    }\n</style>\n<table border=\"1\" class=\"dataframe\">\n  <thead>\n    <tr style=\"text-align: right;\">\n      <th></th>\n      <th>season</th>\n      <th>round</th>\n      <th>circuit_id</th>\n      <th>driver</th>\n      <th>date_of_birth</th>\n      <th>nationality</th>\n      <th>constructor</th>\n      <th>grid</th>\n      <th>time</th>\n      <th>status</th>\n      <th>points</th>\n      <th>podium</th>\n    </tr>\n  </thead>\n  <tbody>\n    <tr>\n      <th>0</th>\n      <td>1950</td>\n      <td>1</td>\n      <td>silverstone</td>\n      <td>farina</td>\n      <td>1906-10-30</td>\n      <td>Italian</td>\n      <td>alfa</td>\n      <td>1</td>\n      <td>8003600.0</td>\n      <td>Finished</td>\n      <td>9.0</td>\n      <td>1</td>\n    </tr>\n    <tr>\n      <th>1</th>\n      <td>1950</td>\n      <td>1</td>\n      <td>silverstone</td>\n      <td>fagioli</td>\n      <td>1898-06-09</td>\n      <td>Italian</td>\n      <td>alfa</td>\n      <td>2</td>\n      <td>8006200.0</td>\n      <td>Finished</td>\n      <td>6.0</td>\n      <td>2</td>\n    </tr>\n    <tr>\n      <th>2</th>\n      <td>1950</td>\n      <td>1</td>\n      <td>silverstone</td>\n      <td>reg_parnell</td>\n      <td>1911-07-02</td>\n      <td>British</td>\n      <td>alfa</td>\n      <td>4</td>\n      <td>8055600.0</td>\n      <td>Finished</td>\n      <td>4.0</td>\n      <td>3</td>\n    </tr>\n    <tr>\n      <th>3</th>\n      <td>1950</td>\n      <td>1</td>\n      <td>silverstone</td>\n      <td>cabantous</td>\n      <td>1904-10-08</td>\n      <td>French</td>\n      <td>lago</td>\n      <td>6</td>\n      <td>NaN</td>\n      <td>+2 Laps</td>\n      <td>3.0</td>\n      <td>4</td>\n    </tr>\n    <tr>\n      <th>4</th>\n      <td>1950</td>\n      <td>1</td>\n      <td>silverstone</td>\n      <td>rosier</td>\n      <td>1905-11-05</td>\n      <td>French</td>\n      <td>lago</td>\n      <td>9</td>\n      <td>NaN</td>\n      <td>+2 Laps</td>\n      <td>2.0</td>\n      <td>5</td>\n    </tr>\n  </tbody>\n</table>\n</div>"
     },
     "metadata": {},
     "execution_count": 22
    }
   ],
   "source": [
    "results.head()"
   ]
  },
  {
   "cell_type": "code",
   "execution_count": 23,
   "metadata": {},
   "outputs": [],
   "source": [
    "# Just as we did with the race DataFrame, let's pass results to a .csv file in order to optimize our analysis pipeline later. \n",
    "\n",
    "results.to_csv('results.csv', index = False)"
   ]
  },
  {
   "cell_type": "code",
   "execution_count": 24,
   "metadata": {},
   "outputs": [],
   "source": [
    "# Next, let's retrieve Driver Standings with the same methodology.\n",
    "\n",
    "driver_standings = {'season': [],\n",
    "                    'round':[],\n",
    "                    'driver': [],\n",
    "                    'driver_points': [],\n",
    "                    'driver_wins': [],\n",
    "                   'driver_standings_pos': []}\n",
    "\n",
    "for n in list(range(len(rounds))):\n",
    "    for i in rounds[n][1]:\n",
    "    \n",
    "        url = 'https://ergast.com/api/f1/{}/{}/driverStandings.json'\n",
    "        r = requests.get(url.format(rounds[n][0], i))\n",
    "        json = r.json()\n",
    "\n",
    "        for item in json['MRData']['StandingsTable']['StandingsLists'][0]['DriverStandings']:\n",
    "            try:\n",
    "                driver_standings['season'].append(int(json['MRData']['StandingsTable']['StandingsLists'][0]['season']))\n",
    "            except:\n",
    "                driver_standings['season'].append(None)\n",
    "\n",
    "            try:\n",
    "                driver_standings['round'].append(int(json['MRData']['StandingsTable']['StandingsLists'][0]['round']))\n",
    "            except:\n",
    "                driver_standings['round'].append(None)\n",
    "                                         \n",
    "            try:\n",
    "                driver_standings['driver'].append(item['Driver']['driverId'])\n",
    "            except:\n",
    "                driver_standings['driver'].append(None)\n",
    "            \n",
    "            try:\n",
    "                driver_standings['driver_points'].append(int(item['points']))\n",
    "            except:\n",
    "                driver_standings['driver_points'].append(None)\n",
    "            \n",
    "            try:\n",
    "                driver_standings['driver_wins'].append(int(item['wins']))\n",
    "            except:\n",
    "                driver_standings['driver_wins'].append(None)\n",
    "                \n",
    "            try:\n",
    "                driver_standings['driver_standings_pos'].append(int(item['position']))\n",
    "            except:\n",
    "                driver_standings['driver_standings_pos'].append(None)\n",
    "            \n",
    "driver_standings = pd.DataFrame(driver_standings)"
   ]
  },
  {
   "cell_type": "code",
   "execution_count": 26,
   "metadata": {},
   "outputs": [],
   "source": [
    "# This next step is really interesting because we will input our data into a Lookup function designed by us. This lookup will calculate points and wins prior to the race.  \n",
    "\n",
    "def lookup (df, team, points):\n",
    "    df['lookup1'] = df.season.astype(str) + df[team] + df['round'].astype(str)\n",
    "    df['lookup2'] = df.season.astype(str) + df[team] + (df['round']-1).astype(str)\n",
    "    new_df = df.merge(df[['lookup1', points]], how = 'left', left_on='lookup2',right_on='lookup1')\n",
    "    new_df.drop(['lookup1_x', 'lookup2', 'lookup1_y'], axis = 1, inplace = True)\n",
    "    new_df.rename(columns = {points+'_x': points+'_after_race', points+'_y': points}, inplace = True)\n",
    "    new_df[points].fillna(0, inplace = True)\n",
    "    return new_df\n",
    "\n",
    "driver_standings = lookup(driver_standings, 'driver', 'driver_points')\n",
    "driver_standings = lookup(driver_standings, 'driver', 'driver_wins')\n",
    "driver_standings = lookup(driver_standings, 'driver', 'driver_standings_pos')"
   ]
  },
  {
   "cell_type": "code",
   "execution_count": 27,
   "metadata": {},
   "outputs": [
    {
     "output_type": "execute_result",
     "data": {
      "text/plain": "   season  round       driver  driver_points_after_race  \\\n0    1950      1       farina                       9.0   \n1    1950      1      fagioli                       6.0   \n2    1950      1  reg_parnell                       4.0   \n3    1950      1    cabantous                       3.0   \n4    1950      1       rosier                       2.0   \n\n   driver_wins_after_race  driver_standings_pos_after_race  \\\n0                       1                                1   \n1                       0                                2   \n2                       0                                3   \n3                       0                                4   \n4                       0                                5   \n\n   driver_points_after_race  driver_wins_after_race  \\\n0                       0.0                     0.0   \n1                       0.0                     0.0   \n2                       0.0                     0.0   \n3                       0.0                     0.0   \n4                       0.0                     0.0   \n\n   driver_standings_pos_after_race  driver_points  driver_wins  \\\n0                              0.0            NaN          NaN   \n1                              0.0            NaN          NaN   \n2                              0.0            NaN          NaN   \n3                              0.0            NaN          NaN   \n4                              0.0            NaN          NaN   \n\n   driver_standings_pos  \n0                   NaN  \n1                   NaN  \n2                   NaN  \n3                   NaN  \n4                   NaN  ",
      "text/html": "<div>\n<style scoped>\n    .dataframe tbody tr th:only-of-type {\n        vertical-align: middle;\n    }\n\n    .dataframe tbody tr th {\n        vertical-align: top;\n    }\n\n    .dataframe thead th {\n        text-align: right;\n    }\n</style>\n<table border=\"1\" class=\"dataframe\">\n  <thead>\n    <tr style=\"text-align: right;\">\n      <th></th>\n      <th>season</th>\n      <th>round</th>\n      <th>driver</th>\n      <th>driver_points_after_race</th>\n      <th>driver_wins_after_race</th>\n      <th>driver_standings_pos_after_race</th>\n      <th>driver_points_after_race</th>\n      <th>driver_wins_after_race</th>\n      <th>driver_standings_pos_after_race</th>\n      <th>driver_points</th>\n      <th>driver_wins</th>\n      <th>driver_standings_pos</th>\n    </tr>\n  </thead>\n  <tbody>\n    <tr>\n      <th>0</th>\n      <td>1950</td>\n      <td>1</td>\n      <td>farina</td>\n      <td>9.0</td>\n      <td>1</td>\n      <td>1</td>\n      <td>0.0</td>\n      <td>0.0</td>\n      <td>0.0</td>\n      <td>NaN</td>\n      <td>NaN</td>\n      <td>NaN</td>\n    </tr>\n    <tr>\n      <th>1</th>\n      <td>1950</td>\n      <td>1</td>\n      <td>fagioli</td>\n      <td>6.0</td>\n      <td>0</td>\n      <td>2</td>\n      <td>0.0</td>\n      <td>0.0</td>\n      <td>0.0</td>\n      <td>NaN</td>\n      <td>NaN</td>\n      <td>NaN</td>\n    </tr>\n    <tr>\n      <th>2</th>\n      <td>1950</td>\n      <td>1</td>\n      <td>reg_parnell</td>\n      <td>4.0</td>\n      <td>0</td>\n      <td>3</td>\n      <td>0.0</td>\n      <td>0.0</td>\n      <td>0.0</td>\n      <td>NaN</td>\n      <td>NaN</td>\n      <td>NaN</td>\n    </tr>\n    <tr>\n      <th>3</th>\n      <td>1950</td>\n      <td>1</td>\n      <td>cabantous</td>\n      <td>3.0</td>\n      <td>0</td>\n      <td>4</td>\n      <td>0.0</td>\n      <td>0.0</td>\n      <td>0.0</td>\n      <td>NaN</td>\n      <td>NaN</td>\n      <td>NaN</td>\n    </tr>\n    <tr>\n      <th>4</th>\n      <td>1950</td>\n      <td>1</td>\n      <td>rosier</td>\n      <td>2.0</td>\n      <td>0</td>\n      <td>5</td>\n      <td>0.0</td>\n      <td>0.0</td>\n      <td>0.0</td>\n      <td>NaN</td>\n      <td>NaN</td>\n      <td>NaN</td>\n    </tr>\n  </tbody>\n</table>\n</div>"
     },
     "metadata": {},
     "execution_count": 27
    }
   ],
   "source": [
    "# Let's check it. \n",
    "\n",
    "driver_standings.head()"
   ]
  },
  {
   "cell_type": "code",
   "execution_count": 28,
   "metadata": {},
   "outputs": [],
   "source": [
    "# Now let's save it. \n",
    "\n",
    "driver_standings.to_csv('driver_standings.csv', index = False)"
   ]
  },
  {
   "cell_type": "code",
   "execution_count": 29,
   "metadata": {},
   "outputs": [],
   "source": [
    "# Constructor Standings will also be of importance for our analysis. \n",
    "\n",
    "constructor_rounds = rounds[8:]\n",
    "\n",
    "constructor_standings = {'season': [],\n",
    "                    'round':[],\n",
    "                    'constructor': [],\n",
    "                    'constructor_points': [],\n",
    "                    'constructor_wins': [],\n",
    "                   'constructor_standings_pos': []}\n",
    "\n",
    "for n in list(range(len(constructor_rounds))):\n",
    "    for i in constructor_rounds[n][1]:\n",
    "    \n",
    "        url = 'https://ergast.com/api/f1/{}/{}/constructorStandings.json'\n",
    "        r = requests.get(url.format(constructor_rounds[n][0], i))\n",
    "        json = r.json()\n",
    "\n",
    "        for item in json['MRData']['StandingsTable']['StandingsLists'][0]['ConstructorStandings']:\n",
    "            try:\n",
    "                constructor_standings['season'].append(int(json['MRData']['StandingsTable']['StandingsLists'][0]['season']))\n",
    "            except:\n",
    "                constructor_standings['season'].append(None)\n",
    "\n",
    "            try:\n",
    "                constructor_standings['round'].append(int(json['MRData']['StandingsTable']['StandingsLists'][0]['round']))\n",
    "            except:\n",
    "                constructor_standings['round'].append(None)\n",
    "                                         \n",
    "            try:\n",
    "                constructor_standings['constructor'].append(item['Constructor']['constructorId'])\n",
    "            except:\n",
    "                constructor_standings['constructor'].append(None)\n",
    "            \n",
    "            try:\n",
    "                constructor_standings['constructor_points'].append(int(item['points']))\n",
    "            except:\n",
    "                constructor_standings['constructor_points'].append(None)\n",
    "            \n",
    "            try:\n",
    "                constructor_standings['constructor_wins'].append(int(item['wins']))\n",
    "            except:\n",
    "                constructor_standings['constructor_wins'].append(None)\n",
    "                \n",
    "            try:\n",
    "                constructor_standings['constructor_standings_pos'].append(int(item['position']))\n",
    "            except:\n",
    "                constructor_standings['constructor_standings_pos'].append(None)\n",
    "            \n",
    "constructor_standings = pd.DataFrame(constructor_standings)"
   ]
  },
  {
   "cell_type": "code",
   "execution_count": 30,
   "metadata": {},
   "outputs": [],
   "source": [
    "# We will apply the the same function to this dataset as well. \n",
    "\n",
    "constructor_standings = lookup(constructor_standings, 'constructor', 'constructor_points')\n",
    "constructor_standings = lookup(constructor_standings, 'constructor', 'constructor_wins')\n",
    "constructor_standings = lookup(constructor_standings, 'constructor', 'constructor_standings_pos')"
   ]
  },
  {
   "cell_type": "code",
   "execution_count": 31,
   "metadata": {},
   "outputs": [
    {
     "output_type": "execute_result",
     "data": {
      "text/plain": "   season  round constructor  constructor_points_after_race  \\\n0    1958      1      cooper                            8.0   \n1    1958      1     ferrari                            6.0   \n2    1958      1    maserati                            3.0   \n3    1958      2      cooper                           16.0   \n4    1958      2     ferrari                           12.0   \n\n   constructor_wins_after_race  constructor_standings_pos_after_race  \\\n0                            1                                     1   \n1                            0                                     2   \n2                            0                                     3   \n3                            2                                     1   \n4                            0                                     2   \n\n   constructor_points  constructor_wins  constructor_standings_pos  \n0                 0.0               0.0                        0.0  \n1                 0.0               0.0                        0.0  \n2                 0.0               0.0                        0.0  \n3                 8.0               1.0                        1.0  \n4                 6.0               0.0                        2.0  ",
      "text/html": "<div>\n<style scoped>\n    .dataframe tbody tr th:only-of-type {\n        vertical-align: middle;\n    }\n\n    .dataframe tbody tr th {\n        vertical-align: top;\n    }\n\n    .dataframe thead th {\n        text-align: right;\n    }\n</style>\n<table border=\"1\" class=\"dataframe\">\n  <thead>\n    <tr style=\"text-align: right;\">\n      <th></th>\n      <th>season</th>\n      <th>round</th>\n      <th>constructor</th>\n      <th>constructor_points_after_race</th>\n      <th>constructor_wins_after_race</th>\n      <th>constructor_standings_pos_after_race</th>\n      <th>constructor_points</th>\n      <th>constructor_wins</th>\n      <th>constructor_standings_pos</th>\n    </tr>\n  </thead>\n  <tbody>\n    <tr>\n      <th>0</th>\n      <td>1958</td>\n      <td>1</td>\n      <td>cooper</td>\n      <td>8.0</td>\n      <td>1</td>\n      <td>1</td>\n      <td>0.0</td>\n      <td>0.0</td>\n      <td>0.0</td>\n    </tr>\n    <tr>\n      <th>1</th>\n      <td>1958</td>\n      <td>1</td>\n      <td>ferrari</td>\n      <td>6.0</td>\n      <td>0</td>\n      <td>2</td>\n      <td>0.0</td>\n      <td>0.0</td>\n      <td>0.0</td>\n    </tr>\n    <tr>\n      <th>2</th>\n      <td>1958</td>\n      <td>1</td>\n      <td>maserati</td>\n      <td>3.0</td>\n      <td>0</td>\n      <td>3</td>\n      <td>0.0</td>\n      <td>0.0</td>\n      <td>0.0</td>\n    </tr>\n    <tr>\n      <th>3</th>\n      <td>1958</td>\n      <td>2</td>\n      <td>cooper</td>\n      <td>16.0</td>\n      <td>2</td>\n      <td>1</td>\n      <td>8.0</td>\n      <td>1.0</td>\n      <td>1.0</td>\n    </tr>\n    <tr>\n      <th>4</th>\n      <td>1958</td>\n      <td>2</td>\n      <td>ferrari</td>\n      <td>12.0</td>\n      <td>0</td>\n      <td>2</td>\n      <td>6.0</td>\n      <td>0.0</td>\n      <td>2.0</td>\n    </tr>\n  </tbody>\n</table>\n</div>"
     },
     "metadata": {},
     "execution_count": 31
    }
   ],
   "source": [
    "# Let's check it.\n",
    "\n",
    "constructor_standings.head()"
   ]
  },
  {
   "cell_type": "code",
   "execution_count": 32,
   "metadata": {},
   "outputs": [],
   "source": [
    "# Aaand let's save it for later.\n",
    "\n",
    "constructor_standings.to_csv('constructor_standings.csv', index = False)"
   ]
  },
  {
   "cell_type": "code",
   "execution_count": 35,
   "metadata": {},
   "outputs": [],
   "source": [
    "# Now, for the Qualifying dataset, we will have to scrap direclty into from the F1 Site. \n",
    "\n",
    "qualifying_results = pd.DataFrame()\n",
    "for year in list(range(1983,2020)):\n",
    "    url = 'https://www.formula1.com/en/results.html/{}/races.html'\n",
    "    r = requests.get(url.format(year))\n",
    "    soup = BeautifulSoup(r.text, 'html.parser')\n",
    "    \n",
    "    year_links = []\n",
    "    for page in soup.find_all('a', attrs = {'class':\"resultsarchive-filter-item-link FilterTrigger\"}):\n",
    "        link = page.get('href')\n",
    "        if f'/en/results.html/{year}/races/' in link: \n",
    "            year_links.append(link)\n",
    "\n",
    "    year_df = pd.DataFrame()\n",
    "    new_url = 'https://www.formula1.com{}'\n",
    "    for n, link in list(enumerate(year_links)):\n",
    "        link = link.replace('race-result.html', 'starting-grid.html')\n",
    "        df = pd.read_html(new_url.format(link))\n",
    "        df = df[0]\n",
    "        df['season'] = year\n",
    "        df['round'] = n+1\n",
    "        for col in df:\n",
    "            if 'Unnamed' in col:\n",
    "                df.drop(col, axis = 1, inplace = True)\n",
    "\n",
    "        year_df = pd.concat([year_df, df])\n",
    "\n",
    "    qualifying_results = pd.concat([qualifying_results, year_df])"
   ]
  },
  {
   "cell_type": "code",
   "execution_count": 36,
   "metadata": {},
   "outputs": [
    {
     "output_type": "execute_result",
     "data": {
      "text/plain": "   Pos  No                Driver             Car      Time  season  round\n0    1   1    Keke  Rosberg  ROS  Williams Honda  1:34.526    1983      1\n1    2  15     Alain  Prost  PRO         Renault  1:34.672    1983      1\n2    3  27  Patrick  Tambay  TAM         Ferrari  1:34.758    1983      1\n3    4   5   Nelson  Piquet  PIQ     Brabham BMW  1:35.114    1983      1\n4    5  35   Derek  Warwick  WAR    Toleman Hart  1:35.206    1983      1",
      "text/html": "<div>\n<style scoped>\n    .dataframe tbody tr th:only-of-type {\n        vertical-align: middle;\n    }\n\n    .dataframe tbody tr th {\n        vertical-align: top;\n    }\n\n    .dataframe thead th {\n        text-align: right;\n    }\n</style>\n<table border=\"1\" class=\"dataframe\">\n  <thead>\n    <tr style=\"text-align: right;\">\n      <th></th>\n      <th>Pos</th>\n      <th>No</th>\n      <th>Driver</th>\n      <th>Car</th>\n      <th>Time</th>\n      <th>season</th>\n      <th>round</th>\n    </tr>\n  </thead>\n  <tbody>\n    <tr>\n      <th>0</th>\n      <td>1</td>\n      <td>1</td>\n      <td>Keke  Rosberg  ROS</td>\n      <td>Williams Honda</td>\n      <td>1:34.526</td>\n      <td>1983</td>\n      <td>1</td>\n    </tr>\n    <tr>\n      <th>1</th>\n      <td>2</td>\n      <td>15</td>\n      <td>Alain  Prost  PRO</td>\n      <td>Renault</td>\n      <td>1:34.672</td>\n      <td>1983</td>\n      <td>1</td>\n    </tr>\n    <tr>\n      <th>2</th>\n      <td>3</td>\n      <td>27</td>\n      <td>Patrick  Tambay  TAM</td>\n      <td>Ferrari</td>\n      <td>1:34.758</td>\n      <td>1983</td>\n      <td>1</td>\n    </tr>\n    <tr>\n      <th>3</th>\n      <td>4</td>\n      <td>5</td>\n      <td>Nelson  Piquet  PIQ</td>\n      <td>Brabham BMW</td>\n      <td>1:35.114</td>\n      <td>1983</td>\n      <td>1</td>\n    </tr>\n    <tr>\n      <th>4</th>\n      <td>5</td>\n      <td>35</td>\n      <td>Derek  Warwick  WAR</td>\n      <td>Toleman Hart</td>\n      <td>1:35.206</td>\n      <td>1983</td>\n      <td>1</td>\n    </tr>\n  </tbody>\n</table>\n</div>"
     },
     "metadata": {},
     "execution_count": 36
    }
   ],
   "source": [
    "# Let's check it. \n",
    "\n",
    "qualifying_results.head()"
   ]
  },
  {
   "cell_type": "code",
   "execution_count": 37,
   "metadata": {},
   "outputs": [],
   "source": [
    "#Let's change some things here and some things there.\n",
    "\n",
    "qualifying_results.rename(columns = {'Pos': 'grid_position', 'Driver': 'driver_name', 'Car': 'car', 'Time': 'qualifying_time'}, inplace = True)\n",
    "\n",
    "qualifying_results.drop('No', axis = 1, inplace = True)"
   ]
  },
  {
   "cell_type": "code",
   "execution_count": 38,
   "metadata": {},
   "outputs": [],
   "source": [
    "# And, as the rest, let's save it for later. \n",
    "\n",
    "qualifying_results.to_csv('qualifying.csv', index = False)"
   ]
  },
  {
   "cell_type": "code",
   "execution_count": 6,
   "metadata": {},
   "outputs": [],
   "source": [
    "# Finally, Weather!\n",
    "\n",
    "weather = races.iloc[:,[0,1,2]]\n",
    "\n",
    "info = []\n",
    "\n",
    "# read wikipedia tables\n",
    "\n",
    "for link in races.url:\n",
    "    try:\n",
    "        df = pd.read_html(link)[0]\n",
    "        if 'Weather' in list(df.iloc[:,0]):\n",
    "            n = list(df.iloc[:,0]).index('Weather')\n",
    "            info.append(df.iloc[n,1])\n",
    "        else:\n",
    "            df = pd.read_html(link)[1]\n",
    "            if 'Weather' in list(df.iloc[:,0]):\n",
    "                n = list(df.iloc[:,0]).index('Weather')\n",
    "                info.append(df.iloc[n,1])\n",
    "            else:\n",
    "                df = pd.read_html(link)[2]\n",
    "                if 'Weather' in list(df.iloc[:,0]):\n",
    "                    n = list(df.iloc[:,0]).index('Weather')\n",
    "                    info.append(df.iloc[n,1])\n",
    "                else:\n",
    "                    df = pd.read_html(link)[3]\n",
    "                    if 'Weather' in list(df.iloc[:,0]):\n",
    "                        n = list(df.iloc[:,0]).index('Weather')\n",
    "                        info.append(df.iloc[n,1])\n",
    "                    else:\n",
    "                        driver = webdriver.Chrome()\n",
    "                        driver.get(link)\n",
    "\n",
    "                        # click language button\n",
    "                        button = driver.find_element_by_link_text('Italiano')\n",
    "                        button.click()\n",
    "                        \n",
    "                        # find weather in italian with selenium\n",
    "                        \n",
    "                        clima = driver.find_element_by_xpath('//*[@id=\"mw-content-text\"]/div/table[1]/tbody/tr[9]/td').text\n",
    "                        info.append(clima) \n",
    "                                \n",
    "    except:\n",
    "        info.append('not found')\n",
    "\n",
    "# append column with weather information to dataframe  \n",
    "  \n",
    "weather['weather'] = info\n",
    "\n",
    "# set up a dictionary to convert weather information into keywords\n",
    "\n",
    "weather_dict = {'weather_warm': ['soleggiato', 'clear', 'warm', 'hot', 'sunny', 'fine', 'mild', 'sereno'],\n",
    "               'weather_cold': ['cold', 'fresh', 'chilly', 'cool'],\n",
    "               'weather_dry': ['dry', 'asciutto'],\n",
    "               'weather_wet': ['showers', 'wet', 'rain', 'pioggia', 'damp', 'thunderstorms', 'rainy'],\n",
    "               'weather_cloudy': ['overcast', 'nuvoloso', 'clouds', 'cloudy', 'grey', 'coperto']}\n",
    "\n",
    "# map new df according to weather dictionary\n",
    "\n",
    "weather_df = pd.DataFrame(columns = weather_dict.keys())\n",
    "for col in weather_df:\n",
    "    weather_df[col] = weather['weather'].map(lambda x: 1 if any(i in weather_dict[col] for i in x.lower().split()) else 0)\n",
    "   \n",
    "weather_info = pd.concat([weather, weather_df], axis = 1)"
   ]
  },
  {
   "cell_type": "code",
   "execution_count": 7,
   "metadata": {},
   "outputs": [
    {
     "output_type": "execute_result",
     "data": {
      "text/plain": "   season  round    circuit_id              weather  weather_warm  \\\n0    1950      1   silverstone     Sunny, Mild, Dry             0   \n1    1950      2        monaco            not found             0   \n2    1950      3  indianapolis                Rainy             0   \n3    1950      4    bremgarten  Warm, dry and sunny             1   \n4    1950      5           spa  Warm, dry and sunny             1   \n\n   weather_cold  weather_dry  weather_wet  weather_cloudy  \n0             0            1            0               0  \n1             0            0            0               0  \n2             0            0            1               0  \n3             0            1            0               0  \n4             0            1            0               0  ",
      "text/html": "<div>\n<style scoped>\n    .dataframe tbody tr th:only-of-type {\n        vertical-align: middle;\n    }\n\n    .dataframe tbody tr th {\n        vertical-align: top;\n    }\n\n    .dataframe thead th {\n        text-align: right;\n    }\n</style>\n<table border=\"1\" class=\"dataframe\">\n  <thead>\n    <tr style=\"text-align: right;\">\n      <th></th>\n      <th>season</th>\n      <th>round</th>\n      <th>circuit_id</th>\n      <th>weather</th>\n      <th>weather_warm</th>\n      <th>weather_cold</th>\n      <th>weather_dry</th>\n      <th>weather_wet</th>\n      <th>weather_cloudy</th>\n    </tr>\n  </thead>\n  <tbody>\n    <tr>\n      <th>0</th>\n      <td>1950</td>\n      <td>1</td>\n      <td>silverstone</td>\n      <td>Sunny, Mild, Dry</td>\n      <td>0</td>\n      <td>0</td>\n      <td>1</td>\n      <td>0</td>\n      <td>0</td>\n    </tr>\n    <tr>\n      <th>1</th>\n      <td>1950</td>\n      <td>2</td>\n      <td>monaco</td>\n      <td>not found</td>\n      <td>0</td>\n      <td>0</td>\n      <td>0</td>\n      <td>0</td>\n      <td>0</td>\n    </tr>\n    <tr>\n      <th>2</th>\n      <td>1950</td>\n      <td>3</td>\n      <td>indianapolis</td>\n      <td>Rainy</td>\n      <td>0</td>\n      <td>0</td>\n      <td>0</td>\n      <td>1</td>\n      <td>0</td>\n    </tr>\n    <tr>\n      <th>3</th>\n      <td>1950</td>\n      <td>4</td>\n      <td>bremgarten</td>\n      <td>Warm, dry and sunny</td>\n      <td>1</td>\n      <td>0</td>\n      <td>1</td>\n      <td>0</td>\n      <td>0</td>\n    </tr>\n    <tr>\n      <th>4</th>\n      <td>1950</td>\n      <td>5</td>\n      <td>spa</td>\n      <td>Warm, dry and sunny</td>\n      <td>1</td>\n      <td>0</td>\n      <td>1</td>\n      <td>0</td>\n      <td>0</td>\n    </tr>\n  </tbody>\n</table>\n</div>"
     },
     "metadata": {},
     "execution_count": 7
    }
   ],
   "source": [
    "weather_info.head()"
   ]
  },
  {
   "cell_type": "code",
   "execution_count": 8,
   "metadata": {},
   "outputs": [],
   "source": [
    "weather_info.to_csv('weather.csv', index= False)"
   ]
  }
 ],
 "metadata": {
  "language_info": {
   "codemirror_mode": {
    "name": "ipython",
    "version": 3
   },
   "file_extension": ".py",
   "mimetype": "text/x-python",
   "name": "python",
   "nbconvert_exporter": "python",
   "pygments_lexer": "ipython3",
   "version": "3.7.6-final"
  },
  "orig_nbformat": 2,
  "kernelspec": {
   "name": "python37664bitanaconda3virtualenv0697af1ee67a458e9253591065064715",
   "display_name": "Python 3.7.6 64-bit ('anaconda3': virtualenv)"
  }
 },
 "nbformat": 4,
 "nbformat_minor": 2
}