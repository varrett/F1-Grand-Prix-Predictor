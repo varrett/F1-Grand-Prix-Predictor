{
 "metadata": {
  "language_info": {
   "codemirror_mode": {
    "name": "ipython",
    "version": 3
   },
   "file_extension": ".py",
   "mimetype": "text/x-python",
   "name": "python",
   "nbconvert_exporter": "python",
   "pygments_lexer": "ipython3",
   "version": "3.7.6-final"
  },
  "orig_nbformat": 2,
  "kernelspec": {
   "name": "python_defaultSpec_1599336623372",
   "display_name": "Python 3.7.6 64-bit ('base': conda)"
  }
 },
 "nbformat": 4,
 "nbformat_minor": 2,
 "cells": [
  {
   "cell_type": "code",
   "execution_count": 1,
   "metadata": {},
   "outputs": [],
   "source": [
    "import pandas as pd\n",
    "import numpy as np\n",
    "\n",
    "import pandas.core.algorithms as algos\n",
    "from pandas import Series\n",
    "import scipy.stats.stats as stats\n",
    "import re\n",
    "import traceback\n",
    "import string\n"
   ]
  },
  {
   "cell_type": "code",
   "execution_count": 2,
   "metadata": {
    "tags": []
   },
   "outputs": [
    {
     "output_type": "stream",
     "name": "stdout",
     "text": "<class 'pandas.core.frame.DataFrame'>\nRangeIndex: 13720 entries, 0 to 13719\nData columns (total 26 columns):\n #   Column                             Non-Null Count  Dtype  \n---  ------                             --------------  -----  \n 0   driver                             13720 non-null  object \n 1   season                             13720 non-null  int64  \n 2   round                              13720 non-null  int64  \n 3   circuit_id                         13720 non-null  object \n 4   weather_warm                       13720 non-null  bool   \n 5   weather_cold                       13720 non-null  bool   \n 6   weather_dry                        13720 non-null  bool   \n 7   weather_wet                        13720 non-null  bool   \n 8   weather_cloudy                     13720 non-null  bool   \n 9   nationality                        13720 non-null  object \n 10  constructor                        13720 non-null  object \n 11  grid                               13720 non-null  int64  \n 12  podium                             13720 non-null  int64  \n 13  driver_points_after_race.1         13720 non-null  int64  \n 14  driver_wins_after_race.1           13720 non-null  int64  \n 15  driver_standings_pos_after_race.1  13720 non-null  int64  \n 16  driver_points                      13720 non-null  int64  \n 17  driver_wins                        13720 non-null  int64  \n 18  driver_standings_pos               13720 non-null  int64  \n 19  constructor_points                 13720 non-null  int64  \n 20  constructor_wins                   13720 non-null  int64  \n 21  constructor_standings_pos          13720 non-null  int64  \n 22  qualifying_time                    13720 non-null  float64\n 23  driver_age                         13720 non-null  int64  \n 24  wins_percentage                    8304 non-null   float64\n 25  change_teams                       13720 non-null  int64  \ndtypes: bool(5), float64(2), int64(15), object(4)\nmemory usage: 2.3+ MB\n"
    }
   ],
   "source": [
    "# First, let's read our Dataset.\n",
    "\n",
    "df = pd.read_csv('/Users/alejandropalacios/Desktop/Ironhack/Data Analytics Bootcamp/Advanced Data Analysis Techniques/Project/F1-Grand-Prix-Predictor/Data Manipulation/Modeling/Modeled Databases/team_change_dataset.csv')\n",
    "\n",
    "df.info()"
   ]
  },
  {
   "cell_type": "code",
   "execution_count": 3,
   "metadata": {},
   "outputs": [],
   "source": [
    "# There are two things that must be taken into account before running a WOE and IV process. \n",
    "\n",
    "# 1. Data must be CLEAN and FULL, no NULL VALUES: \n",
    "\n",
    "df = df.fillna(0)\n",
    "\n",
    "# 2. There should not be any continuous attributes. Attributes which represent age or anything continuous should be binned into 5–10 bins:\n",
    "\n",
    "max_bin = 5\n",
    "force_bin = 5"
   ]
  },
  {
   "cell_type": "code",
   "execution_count": 4,
   "metadata": {},
   "outputs": [],
   "source": [
    "# Now we will set our target variable.\n",
    "\n",
    "df['target'] = df['change_teams']\n",
    "df = df.drop('change_teams',axis=1)\n"
   ]
  },
  {
   "cell_type": "code",
   "execution_count": 5,
   "metadata": {},
   "outputs": [],
   "source": [
    "# define a binning function\n",
    "def mono_bin(Y, X, n = max_bin):\n",
    "    \n",
    "    df1 = pd.DataFrame({\"X\": X, \"Y\": Y})\n",
    "    justmiss = df1[['X','Y']][df1.X.isnull()]\n",
    "    notmiss = df1[['X','Y']][df1.X.notnull()]\n",
    "    r = 0\n",
    "    while np.abs(r) < 1:\n",
    "        try:\n",
    "            d1 = pd.DataFrame({\"X\": notmiss.X, \"Y\": notmiss.Y, \"Bucket\": pd.qcut(notmiss.X, n)})\n",
    "            d2 = d1.groupby('Bucket', as_index=True)\n",
    "            r, p = stats.spearmanr(d2.mean().X, d2.mean().Y)\n",
    "            n = n - 1 \n",
    "        except Exception as e:\n",
    "            n = n - 1\n",
    "\n",
    "    if len(d2) == 1:\n",
    "        n = force_bin         \n",
    "        bins = algos.quantile(notmiss.X, np.linspace(0, 1, n))\n",
    "        if len(np.unique(bins)) == 2:\n",
    "            bins = np.insert(bins, 0, 1)\n",
    "            bins[1] = bins[1]-(bins[1]/2)\n",
    "        d1 = pd.DataFrame({\"X\": notmiss.X, \"Y\": notmiss.Y, \"Bucket\": pd.cut(notmiss.X, np.unique(bins),include_lowest=True)}) \n",
    "        d2 = d1.groupby('Bucket', as_index=True)\n",
    "    \n",
    "    d3 = pd.DataFrame({},index=[])\n",
    "    d3[\"MIN_VALUE\"] = d2.min().X\n",
    "    d3[\"MAX_VALUE\"] = d2.max().X\n",
    "    d3[\"COUNT\"] = d2.count().Y\n",
    "    d3[\"EVENT\"] = d2.sum().Y\n",
    "    d3[\"NONEVENT\"] = d2.count().Y - d2.sum().Y\n",
    "    d3=d3.reset_index(drop=True)\n",
    "    \n",
    "    if len(justmiss.index) > 0:\n",
    "        d4 = pd.DataFrame({'MIN_VALUE':np.nan},index=[0])\n",
    "        d4[\"MAX_VALUE\"] = np.nan\n",
    "        d4[\"COUNT\"] = justmiss.count().Y\n",
    "        d4[\"EVENT\"] = justmiss.sum().Y\n",
    "        d4[\"NONEVENT\"] = justmiss.count().Y - justmiss.sum().Y\n",
    "        d3 = d3.append(d4,ignore_index=True)\n",
    "    \n",
    "    d3[\"EVENT_RATE\"] = d3.EVENT/d3.COUNT\n",
    "    d3[\"NON_EVENT_RATE\"] = d3.NONEVENT/d3.COUNT\n",
    "    d3[\"DIST_EVENT\"] = d3.EVENT/d3.sum().EVENT\n",
    "    d3[\"DIST_NON_EVENT\"] = d3.NONEVENT/d3.sum().NONEVENT\n",
    "    d3[\"WOE\"] = np.log(d3.DIST_EVENT/d3.DIST_NON_EVENT)\n",
    "    d3[\"IV\"] = (d3.DIST_EVENT-d3.DIST_NON_EVENT)*np.log(d3.DIST_EVENT/d3.DIST_NON_EVENT)\n",
    "    d3[\"VAR_NAME\"] = \"VAR\"\n",
    "    d3 = d3[['VAR_NAME','MIN_VALUE', 'MAX_VALUE', 'COUNT', 'EVENT', 'EVENT_RATE', 'NONEVENT', 'NON_EVENT_RATE', 'DIST_EVENT','DIST_NON_EVENT','WOE', 'IV']]       \n",
    "    d3 = d3.replace([np.inf, -np.inf], 0)\n",
    "    d3.IV = d3.IV.sum()\n",
    "    \n",
    "    return(d3)\n",
    "\n",
    "def char_bin(Y, X):\n",
    "        \n",
    "    df1 = pd.DataFrame({\"X\": X, \"Y\": Y})\n",
    "    justmiss = df1[['X','Y']][df1.X.isnull()]\n",
    "    notmiss = df1[['X','Y']][df1.X.notnull()]    \n",
    "    df2 = notmiss.groupby('X',as_index=True)\n",
    "    \n",
    "    d3 = pd.DataFrame({},index=[])\n",
    "    d3[\"COUNT\"] = df2.count().Y\n",
    "    d3[\"MIN_VALUE\"] = df2.sum().Y.index\n",
    "    d3[\"MAX_VALUE\"] = d3[\"MIN_VALUE\"]\n",
    "    d3[\"EVENT\"] = df2.sum().Y\n",
    "    d3[\"NONEVENT\"] = df2.count().Y - df2.sum().Y\n",
    "    \n",
    "    if len(justmiss.index) > 0:\n",
    "        d4 = pd.DataFrame({'MIN_VALUE':np.nan},index=[0])\n",
    "        d4[\"MAX_VALUE\"] = np.nan\n",
    "        d4[\"COUNT\"] = justmiss.count().Y\n",
    "        d4[\"EVENT\"] = justmiss.sum().Y\n",
    "        d4[\"NONEVENT\"] = justmiss.count().Y - justmiss.sum().Y\n",
    "        d3 = d3.append(d4,ignore_index=True)\n",
    "    \n",
    "    d3[\"EVENT_RATE\"] = d3.EVENT/d3.COUNT\n",
    "    d3[\"NON_EVENT_RATE\"] = d3.NONEVENT/d3.COUNT\n",
    "    d3[\"DIST_EVENT\"] = d3.EVENT/d3.sum().EVENT\n",
    "    d3[\"DIST_NON_EVENT\"] = d3.NONEVENT/d3.sum().NONEVENT\n",
    "    d3[\"WOE\"] = np.log(d3.DIST_EVENT/d3.DIST_NON_EVENT)\n",
    "    d3[\"IV\"] = (d3.DIST_EVENT-d3.DIST_NON_EVENT)*np.log(d3.DIST_EVENT/d3.DIST_NON_EVENT)\n",
    "    d3[\"VAR_NAME\"] = \"VAR\"\n",
    "    d3 = d3[['VAR_NAME','MIN_VALUE', 'MAX_VALUE', 'COUNT', 'EVENT', 'EVENT_RATE', 'NONEVENT', 'NON_EVENT_RATE', 'DIST_EVENT','DIST_NON_EVENT','WOE', 'IV']]      \n",
    "    d3 = d3.replace([np.inf, -np.inf], 0)\n",
    "    d3.IV = d3.IV.sum()\n",
    "    d3 = d3.reset_index(drop=True)\n",
    "    \n",
    "    return(d3)\n",
    "\n",
    "def data_vars(df1, target):\n",
    "    \n",
    "    stack = traceback.extract_stack()\n",
    "    filename, lineno, function_name, code = stack[-2]\n",
    "    vars_name = re.compile(r'\\((.*?)\\).*$').search(code).groups()[0]\n",
    "    final = (re.findall(r\"[\\w']+\", vars_name))[-1]\n",
    "    \n",
    "    x = df1.dtypes.index\n",
    "    count = -1\n",
    "    \n",
    "    for i in x:\n",
    "        if i.upper() not in (final.upper()):\n",
    "            if np.issubdtype(df1[i], np.number) and len(Series.unique(df1[i])) > 2:\n",
    "                conv = mono_bin(target, df1[i])\n",
    "                conv[\"VAR_NAME\"] = i\n",
    "                count = count + 1\n",
    "            else:\n",
    "                conv = char_bin(target, df1[i])\n",
    "                conv[\"VAR_NAME\"] = i            \n",
    "                count = count + 1\n",
    "                \n",
    "            if count == 0:\n",
    "                iv_df = conv\n",
    "            else:\n",
    "                iv_df = iv_df.append(conv,ignore_index=True)\n",
    "    \n",
    "    iv = pd.DataFrame({'IV':iv_df.groupby('VAR_NAME').IV.max()})\n",
    "    iv = iv.reset_index()\n",
    "    return(iv_df,iv)"
   ]
  },
  {
   "cell_type": "code",
   "execution_count": 6,
   "metadata": {},
   "outputs": [],
   "source": [
    "final_iv, IV = data_vars(df,df.target)"
   ]
  },
  {
   "cell_type": "code",
   "execution_count": 7,
   "metadata": {},
   "outputs": [
    {
     "output_type": "execute_result",
     "data": {
      "text/plain": "            VAR_NAME MIN_VALUE MAX_VALUE  COUNT  EVENT  EVENT_RATE  NONEVENT  \\\n0             driver   acheson   acheson      3      2    0.666667         1   \n1             driver    albers    albers     39      4    0.102564        35   \n2             driver     albon     albon     18      2    0.111111        16   \n3             driver  alboreto  alboreto    160     13    0.081250       147   \n4             driver     alesi     alesi    191     14    0.073298       177   \n..               ...       ...       ...    ...    ...         ...       ...   \n415  qualifying_time     3.524   904.617   3429    368    0.107320      3061   \n416       driver_age        17        26   4884    404    0.082719      4480   \n417       driver_age        27        31   5087    383    0.075290      4704   \n418       driver_age        32        43   3749    258    0.068818      3491   \n419  wins_percentage         0         1  13720   1045    0.076166     12675   \n\n     NON_EVENT_RATE  DIST_EVENT  DIST_NON_EVENT       WOE        IV  \n0          0.333333    0.001914        0.000079  3.188762  0.146788  \n1          0.897436    0.003828        0.002761  0.326561  0.146788  \n2          0.888889    0.001914        0.001262  0.416173  0.146788  \n3          0.918750    0.012440        0.011598  0.070131  0.146788  \n4          0.926702    0.013397        0.013964 -0.041478  0.146788  \n..              ...         ...             ...       ...       ...  \n415        0.892680    0.352153        0.241499  0.377201  0.067722  \n416        0.917281    0.386603        0.353452  0.089651  0.006151  \n417        0.924710    0.366507        0.371124 -0.012519  0.006151  \n418        0.931182    0.246890        0.275424 -0.109369  0.006151  \n419        0.923834    1.000000        1.000000  0.000000  0.000000  \n\n[420 rows x 12 columns]",
      "text/html": "<div>\n<style scoped>\n    .dataframe tbody tr th:only-of-type {\n        vertical-align: middle;\n    }\n\n    .dataframe tbody tr th {\n        vertical-align: top;\n    }\n\n    .dataframe thead th {\n        text-align: right;\n    }\n</style>\n<table border=\"1\" class=\"dataframe\">\n  <thead>\n    <tr style=\"text-align: right;\">\n      <th></th>\n      <th>VAR_NAME</th>\n      <th>MIN_VALUE</th>\n      <th>MAX_VALUE</th>\n      <th>COUNT</th>\n      <th>EVENT</th>\n      <th>EVENT_RATE</th>\n      <th>NONEVENT</th>\n      <th>NON_EVENT_RATE</th>\n      <th>DIST_EVENT</th>\n      <th>DIST_NON_EVENT</th>\n      <th>WOE</th>\n      <th>IV</th>\n    </tr>\n  </thead>\n  <tbody>\n    <tr>\n      <th>0</th>\n      <td>driver</td>\n      <td>acheson</td>\n      <td>acheson</td>\n      <td>3</td>\n      <td>2</td>\n      <td>0.666667</td>\n      <td>1</td>\n      <td>0.333333</td>\n      <td>0.001914</td>\n      <td>0.000079</td>\n      <td>3.188762</td>\n      <td>0.146788</td>\n    </tr>\n    <tr>\n      <th>1</th>\n      <td>driver</td>\n      <td>albers</td>\n      <td>albers</td>\n      <td>39</td>\n      <td>4</td>\n      <td>0.102564</td>\n      <td>35</td>\n      <td>0.897436</td>\n      <td>0.003828</td>\n      <td>0.002761</td>\n      <td>0.326561</td>\n      <td>0.146788</td>\n    </tr>\n    <tr>\n      <th>2</th>\n      <td>driver</td>\n      <td>albon</td>\n      <td>albon</td>\n      <td>18</td>\n      <td>2</td>\n      <td>0.111111</td>\n      <td>16</td>\n      <td>0.888889</td>\n      <td>0.001914</td>\n      <td>0.001262</td>\n      <td>0.416173</td>\n      <td>0.146788</td>\n    </tr>\n    <tr>\n      <th>3</th>\n      <td>driver</td>\n      <td>alboreto</td>\n      <td>alboreto</td>\n      <td>160</td>\n      <td>13</td>\n      <td>0.081250</td>\n      <td>147</td>\n      <td>0.918750</td>\n      <td>0.012440</td>\n      <td>0.011598</td>\n      <td>0.070131</td>\n      <td>0.146788</td>\n    </tr>\n    <tr>\n      <th>4</th>\n      <td>driver</td>\n      <td>alesi</td>\n      <td>alesi</td>\n      <td>191</td>\n      <td>14</td>\n      <td>0.073298</td>\n      <td>177</td>\n      <td>0.926702</td>\n      <td>0.013397</td>\n      <td>0.013964</td>\n      <td>-0.041478</td>\n      <td>0.146788</td>\n    </tr>\n    <tr>\n      <th>...</th>\n      <td>...</td>\n      <td>...</td>\n      <td>...</td>\n      <td>...</td>\n      <td>...</td>\n      <td>...</td>\n      <td>...</td>\n      <td>...</td>\n      <td>...</td>\n      <td>...</td>\n      <td>...</td>\n      <td>...</td>\n    </tr>\n    <tr>\n      <th>415</th>\n      <td>qualifying_time</td>\n      <td>3.524</td>\n      <td>904.617</td>\n      <td>3429</td>\n      <td>368</td>\n      <td>0.107320</td>\n      <td>3061</td>\n      <td>0.892680</td>\n      <td>0.352153</td>\n      <td>0.241499</td>\n      <td>0.377201</td>\n      <td>0.067722</td>\n    </tr>\n    <tr>\n      <th>416</th>\n      <td>driver_age</td>\n      <td>17</td>\n      <td>26</td>\n      <td>4884</td>\n      <td>404</td>\n      <td>0.082719</td>\n      <td>4480</td>\n      <td>0.917281</td>\n      <td>0.386603</td>\n      <td>0.353452</td>\n      <td>0.089651</td>\n      <td>0.006151</td>\n    </tr>\n    <tr>\n      <th>417</th>\n      <td>driver_age</td>\n      <td>27</td>\n      <td>31</td>\n      <td>5087</td>\n      <td>383</td>\n      <td>0.075290</td>\n      <td>4704</td>\n      <td>0.924710</td>\n      <td>0.366507</td>\n      <td>0.371124</td>\n      <td>-0.012519</td>\n      <td>0.006151</td>\n    </tr>\n    <tr>\n      <th>418</th>\n      <td>driver_age</td>\n      <td>32</td>\n      <td>43</td>\n      <td>3749</td>\n      <td>258</td>\n      <td>0.068818</td>\n      <td>3491</td>\n      <td>0.931182</td>\n      <td>0.246890</td>\n      <td>0.275424</td>\n      <td>-0.109369</td>\n      <td>0.006151</td>\n    </tr>\n    <tr>\n      <th>419</th>\n      <td>wins_percentage</td>\n      <td>0</td>\n      <td>1</td>\n      <td>13720</td>\n      <td>1045</td>\n      <td>0.076166</td>\n      <td>12675</td>\n      <td>0.923834</td>\n      <td>1.000000</td>\n      <td>1.000000</td>\n      <td>0.000000</td>\n      <td>0.000000</td>\n    </tr>\n  </tbody>\n</table>\n<p>420 rows × 12 columns</p>\n</div>"
     },
     "metadata": {},
     "execution_count": 7
    }
   ],
   "source": [
    "final_iv"
   ]
  },
  {
   "cell_type": "code",
   "execution_count": 8,
   "metadata": {},
   "outputs": [
    {
     "output_type": "execute_result",
     "data": {
      "text/plain": "                             VAR_NAME        IV\n24                    wins_percentage  0.000000\n22                       weather_warm  0.000195\n20                       weather_cold  0.001285\n6                          driver_age  0.006151\n11                        driver_wins  0.007150\n12           driver_wins_after_race.1  0.008909\n19                     weather_cloudy  0.011416\n23                        weather_wet  0.012338\n14                        nationality  0.023715\n13                               grid  0.025929\n18                             season  0.028393\n21                        weather_dry  0.029223\n15                             podium  0.041596\n1                         constructor  0.066808\n16                    qualifying_time  0.067722\n5                              driver  0.146788\n4                    constructor_wins  0.404063\n3           constructor_standings_pos  0.999039\n2                  constructor_points  1.668593\n17                              round  1.907339\n8          driver_points_after_race.1  2.190972\n7                       driver_points  2.273534\n10  driver_standings_pos_after_race.1  2.632172\n0                          circuit_id  2.708566\n9                driver_standings_pos  3.550039",
      "text/html": "<div>\n<style scoped>\n    .dataframe tbody tr th:only-of-type {\n        vertical-align: middle;\n    }\n\n    .dataframe tbody tr th {\n        vertical-align: top;\n    }\n\n    .dataframe thead th {\n        text-align: right;\n    }\n</style>\n<table border=\"1\" class=\"dataframe\">\n  <thead>\n    <tr style=\"text-align: right;\">\n      <th></th>\n      <th>VAR_NAME</th>\n      <th>IV</th>\n    </tr>\n  </thead>\n  <tbody>\n    <tr>\n      <th>24</th>\n      <td>wins_percentage</td>\n      <td>0.000000</td>\n    </tr>\n    <tr>\n      <th>22</th>\n      <td>weather_warm</td>\n      <td>0.000195</td>\n    </tr>\n    <tr>\n      <th>20</th>\n      <td>weather_cold</td>\n      <td>0.001285</td>\n    </tr>\n    <tr>\n      <th>6</th>\n      <td>driver_age</td>\n      <td>0.006151</td>\n    </tr>\n    <tr>\n      <th>11</th>\n      <td>driver_wins</td>\n      <td>0.007150</td>\n    </tr>\n    <tr>\n      <th>12</th>\n      <td>driver_wins_after_race.1</td>\n      <td>0.008909</td>\n    </tr>\n    <tr>\n      <th>19</th>\n      <td>weather_cloudy</td>\n      <td>0.011416</td>\n    </tr>\n    <tr>\n      <th>23</th>\n      <td>weather_wet</td>\n      <td>0.012338</td>\n    </tr>\n    <tr>\n      <th>14</th>\n      <td>nationality</td>\n      <td>0.023715</td>\n    </tr>\n    <tr>\n      <th>13</th>\n      <td>grid</td>\n      <td>0.025929</td>\n    </tr>\n    <tr>\n      <th>18</th>\n      <td>season</td>\n      <td>0.028393</td>\n    </tr>\n    <tr>\n      <th>21</th>\n      <td>weather_dry</td>\n      <td>0.029223</td>\n    </tr>\n    <tr>\n      <th>15</th>\n      <td>podium</td>\n      <td>0.041596</td>\n    </tr>\n    <tr>\n      <th>1</th>\n      <td>constructor</td>\n      <td>0.066808</td>\n    </tr>\n    <tr>\n      <th>16</th>\n      <td>qualifying_time</td>\n      <td>0.067722</td>\n    </tr>\n    <tr>\n      <th>5</th>\n      <td>driver</td>\n      <td>0.146788</td>\n    </tr>\n    <tr>\n      <th>4</th>\n      <td>constructor_wins</td>\n      <td>0.404063</td>\n    </tr>\n    <tr>\n      <th>3</th>\n      <td>constructor_standings_pos</td>\n      <td>0.999039</td>\n    </tr>\n    <tr>\n      <th>2</th>\n      <td>constructor_points</td>\n      <td>1.668593</td>\n    </tr>\n    <tr>\n      <th>17</th>\n      <td>round</td>\n      <td>1.907339</td>\n    </tr>\n    <tr>\n      <th>8</th>\n      <td>driver_points_after_race.1</td>\n      <td>2.190972</td>\n    </tr>\n    <tr>\n      <th>7</th>\n      <td>driver_points</td>\n      <td>2.273534</td>\n    </tr>\n    <tr>\n      <th>10</th>\n      <td>driver_standings_pos_after_race.1</td>\n      <td>2.632172</td>\n    </tr>\n    <tr>\n      <th>0</th>\n      <td>circuit_id</td>\n      <td>2.708566</td>\n    </tr>\n    <tr>\n      <th>9</th>\n      <td>driver_standings_pos</td>\n      <td>3.550039</td>\n    </tr>\n  </tbody>\n</table>\n</div>"
     },
     "metadata": {},
     "execution_count": 8
    }
   ],
   "source": [
    "IV.sort_values('IV')"
   ]
  },
  {
   "cell_type": "code",
   "execution_count": null,
   "metadata": {},
   "outputs": [],
   "source": [
    "\"\"\" \n",
    "\n",
    "Important notes:\n",
    "\n",
    "By the Sturges Rule, the number of groups or classes is 1 + 3.3 log n, where n is the number of observations. Thus, using the number of our registrations:\n",
    "\n",
    "1 + 3.3 log(13720) = 5.1373541114\n",
    "\n",
    "This means we should be using 5 bins for our WOE and IV Studies. \n",
    "\n",
    "Moreover, the following Variables will be used based on our results (in order of Predictive Power):\n",
    "\n",
    "- constructor_standings_pos\n",
    "- constructor_wins\n",
    "- driver\n",
    "- qualifying_time\n",
    "- constructor\n",
    "- podium\n"
   ]
  }
 ]
}