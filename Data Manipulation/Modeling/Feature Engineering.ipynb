{
 "metadata": {
  "language_info": {
   "codemirror_mode": {
    "name": "ipython",
    "version": 3
   },
   "file_extension": ".py",
   "mimetype": "text/x-python",
   "name": "python",
   "nbconvert_exporter": "python",
   "pygments_lexer": "ipython3",
   "version": "3.7.6-final"
  },
  "orig_nbformat": 2,
  "kernelspec": {
   "name": "python_defaultSpec_1599009650668",
   "display_name": "Python 3.7.6 64-bit ('base': conda)"
  }
 },
 "nbformat": 4,
 "nbformat_minor": 2,
 "cells": [
  {
   "cell_type": "code",
   "execution_count": 1,
   "metadata": {},
   "outputs": [],
   "source": [
    "import numpy as np\n",
    "import pandas as pd"
   ]
  },
  {
   "cell_type": "code",
   "execution_count": 2,
   "metadata": {
    "tags": []
   },
   "outputs": [
    {
     "output_type": "stream",
     "name": "stdout",
     "text": "<class 'pandas.core.frame.DataFrame'>\nRangeIndex: 13720 entries, 0 to 13719\nData columns (total 25 columns):\n #   Column                             Non-Null Count  Dtype  \n---  ------                             --------------  -----  \n 0   season                             13720 non-null  int64  \n 1   round                              13720 non-null  int64  \n 2   circuit_id                         13720 non-null  object \n 3   weather_warm                       13720 non-null  bool   \n 4   weather_cold                       13720 non-null  bool   \n 5   weather_dry                        13720 non-null  bool   \n 6   weather_wet                        13720 non-null  bool   \n 7   weather_cloudy                     13720 non-null  bool   \n 8   driver                             13720 non-null  object \n 9   nationality                        13720 non-null  object \n 10  constructor                        13720 non-null  object \n 11  grid                               13720 non-null  int64  \n 12  podium                             13720 non-null  int64  \n 13  driver_points_after_race.1         13720 non-null  int64  \n 14  driver_wins_after_race.1           13720 non-null  int64  \n 15  driver_standings_pos_after_race.1  13720 non-null  int64  \n 16  driver_points                      13720 non-null  int64  \n 17  driver_wins                        13720 non-null  int64  \n 18  driver_standings_pos               13720 non-null  int64  \n 19  constructor_points                 13720 non-null  int64  \n 20  constructor_wins                   13720 non-null  int64  \n 21  constructor_standings_pos          13720 non-null  int64  \n 22  qualifying_time                    13720 non-null  float64\n 23  driver_age                         13720 non-null  int64  \n 24  wins_percentage                    8304 non-null   float64\ndtypes: bool(5), float64(2), int64(14), object(4)\nmemory usage: 2.2+ MB\n"
    }
   ],
   "source": [
    "dataset = pd.read_csv(\"/Users/alejandropalacios/Desktop/Ironhack/Data Analytics Bootcamp/Advanced Data Analysis Techniques/Project/F1-Grand-Prix-Predictor/Data Manipulation/Modeling/final_df_complete.csv\")\n",
    "dataset.info()"
   ]
  },
  {
   "cell_type": "code",
   "execution_count": 3,
   "metadata": {
    "tags": []
   },
   "outputs": [
    {
     "output_type": "execute_result",
     "data": {
      "text/plain": "        driver  season constructor\n5264  hamilton    2007     mclaren\n5265  hamilton    2007     mclaren\n5266  hamilton    2007     mclaren\n5267  hamilton    2007     mclaren\n5268  hamilton    2007     mclaren\n...        ...     ...         ...\n5500  hamilton    2019    mercedes\n5501  hamilton    2019    mercedes\n5502  hamilton    2019    mercedes\n5503  hamilton    2019    mercedes\n5504  hamilton    2019    mercedes\n\n[241 rows x 3 columns]",
      "text/html": "<div>\n<style scoped>\n    .dataframe tbody tr th:only-of-type {\n        vertical-align: middle;\n    }\n\n    .dataframe tbody tr th {\n        vertical-align: top;\n    }\n\n    .dataframe thead th {\n        text-align: right;\n    }\n</style>\n<table border=\"1\" class=\"dataframe\">\n  <thead>\n    <tr style=\"text-align: right;\">\n      <th></th>\n      <th>driver</th>\n      <th>season</th>\n      <th>constructor</th>\n    </tr>\n  </thead>\n  <tbody>\n    <tr>\n      <th>5264</th>\n      <td>hamilton</td>\n      <td>2007</td>\n      <td>mclaren</td>\n    </tr>\n    <tr>\n      <th>5265</th>\n      <td>hamilton</td>\n      <td>2007</td>\n      <td>mclaren</td>\n    </tr>\n    <tr>\n      <th>5266</th>\n      <td>hamilton</td>\n      <td>2007</td>\n      <td>mclaren</td>\n    </tr>\n    <tr>\n      <th>5267</th>\n      <td>hamilton</td>\n      <td>2007</td>\n      <td>mclaren</td>\n    </tr>\n    <tr>\n      <th>5268</th>\n      <td>hamilton</td>\n      <td>2007</td>\n      <td>mclaren</td>\n    </tr>\n    <tr>\n      <th>...</th>\n      <td>...</td>\n      <td>...</td>\n      <td>...</td>\n    </tr>\n    <tr>\n      <th>5500</th>\n      <td>hamilton</td>\n      <td>2019</td>\n      <td>mercedes</td>\n    </tr>\n    <tr>\n      <th>5501</th>\n      <td>hamilton</td>\n      <td>2019</td>\n      <td>mercedes</td>\n    </tr>\n    <tr>\n      <th>5502</th>\n      <td>hamilton</td>\n      <td>2019</td>\n      <td>mercedes</td>\n    </tr>\n    <tr>\n      <th>5503</th>\n      <td>hamilton</td>\n      <td>2019</td>\n      <td>mercedes</td>\n    </tr>\n    <tr>\n      <th>5504</th>\n      <td>hamilton</td>\n      <td>2019</td>\n      <td>mercedes</td>\n    </tr>\n  </tbody>\n</table>\n<p>241 rows × 3 columns</p>\n</div>"
     },
     "metadata": {},
     "execution_count": 3
    }
   ],
   "source": [
    "# The goal of this exercise will be, for every Driver, to modelate 0s for repeated Teams after every Season and 1s for different Teams. Thus we will get a binary idea of how many times a Driver switched Teams between Seasons.\n",
    "\n",
    "# Step one, pulverize the problem into various subsets of things. Let's only get the Drivers, their Season, and with which Constructor they drove. \n",
    "\n",
    "drivers = dataset[['driver', 'season', 'constructor']].groupby('driver').apply(lambda a: a.drop('driver', axis=1)[:])\n",
    "df = drivers.reset_index().drop(['level_1'], axis=1)\n",
    "\n",
    "# Let's check Hamilton's career. Please note the fact that having duplicates does not mean we are going through a bad path, on the contrary, we need the duplicates to codify every row to a 0 or 1 value later.\n",
    "\n",
    "df[df['driver'] == 'hamilton']\n"
   ]
  },
  {
   "cell_type": "code",
   "execution_count": 4,
   "metadata": {},
   "outputs": [],
   "source": [
    "# now here's the trick, we will use a where clause to codify our data.\n",
    "\n",
    "df['change_teams'] = np.where((df['driver'] == df['driver'].shift()) & (df['constructor'] == df['constructor'].shift()),0,1)\n"
   ]
  },
  {
   "cell_type": "code",
   "execution_count": 5,
   "metadata": {},
   "outputs": [
    {
     "output_type": "execute_result",
     "data": {
      "text/plain": "        driver  season constructor  change_teams\n5264  hamilton    2007     mclaren             1\n5265  hamilton    2007     mclaren             0\n5266  hamilton    2007     mclaren             0\n5267  hamilton    2007     mclaren             0\n5268  hamilton    2007     mclaren             0\n...        ...     ...         ...           ...\n5500  hamilton    2019    mercedes             0\n5501  hamilton    2019    mercedes             0\n5502  hamilton    2019    mercedes             0\n5503  hamilton    2019    mercedes             0\n5504  hamilton    2019    mercedes             0\n\n[241 rows x 4 columns]",
      "text/html": "<div>\n<style scoped>\n    .dataframe tbody tr th:only-of-type {\n        vertical-align: middle;\n    }\n\n    .dataframe tbody tr th {\n        vertical-align: top;\n    }\n\n    .dataframe thead th {\n        text-align: right;\n    }\n</style>\n<table border=\"1\" class=\"dataframe\">\n  <thead>\n    <tr style=\"text-align: right;\">\n      <th></th>\n      <th>driver</th>\n      <th>season</th>\n      <th>constructor</th>\n      <th>change_teams</th>\n    </tr>\n  </thead>\n  <tbody>\n    <tr>\n      <th>5264</th>\n      <td>hamilton</td>\n      <td>2007</td>\n      <td>mclaren</td>\n      <td>1</td>\n    </tr>\n    <tr>\n      <th>5265</th>\n      <td>hamilton</td>\n      <td>2007</td>\n      <td>mclaren</td>\n      <td>0</td>\n    </tr>\n    <tr>\n      <th>5266</th>\n      <td>hamilton</td>\n      <td>2007</td>\n      <td>mclaren</td>\n      <td>0</td>\n    </tr>\n    <tr>\n      <th>5267</th>\n      <td>hamilton</td>\n      <td>2007</td>\n      <td>mclaren</td>\n      <td>0</td>\n    </tr>\n    <tr>\n      <th>5268</th>\n      <td>hamilton</td>\n      <td>2007</td>\n      <td>mclaren</td>\n      <td>0</td>\n    </tr>\n    <tr>\n      <th>...</th>\n      <td>...</td>\n      <td>...</td>\n      <td>...</td>\n      <td>...</td>\n    </tr>\n    <tr>\n      <th>5500</th>\n      <td>hamilton</td>\n      <td>2019</td>\n      <td>mercedes</td>\n      <td>0</td>\n    </tr>\n    <tr>\n      <th>5501</th>\n      <td>hamilton</td>\n      <td>2019</td>\n      <td>mercedes</td>\n      <td>0</td>\n    </tr>\n    <tr>\n      <th>5502</th>\n      <td>hamilton</td>\n      <td>2019</td>\n      <td>mercedes</td>\n      <td>0</td>\n    </tr>\n    <tr>\n      <th>5503</th>\n      <td>hamilton</td>\n      <td>2019</td>\n      <td>mercedes</td>\n      <td>0</td>\n    </tr>\n    <tr>\n      <th>5504</th>\n      <td>hamilton</td>\n      <td>2019</td>\n      <td>mercedes</td>\n      <td>0</td>\n    </tr>\n  </tbody>\n</table>\n<p>241 rows × 4 columns</p>\n</div>"
     },
     "metadata": {},
     "execution_count": 5
    }
   ],
   "source": [
    "# Let's check Lewis career again. Sweet, we codified the thing already!\n",
    "\n",
    "df[df['driver'] == 'hamilton']\n"
   ]
  },
  {
   "cell_type": "code",
   "execution_count": 6,
   "metadata": {},
   "outputs": [],
   "source": [
    "# For the next trick, we will design an id column to later merge the codification to the main dataframe. \n",
    "\n",
    "df['driver_season_id'] = df['driver'] + df['season'].astype(str)"
   ]
  },
  {
   "cell_type": "code",
   "execution_count": 7,
   "metadata": {},
   "outputs": [],
   "source": [
    "# Same for the main dataset (so our left join has something to grasp from).\n",
    "\n",
    "dataset['driver_season_id'] = dataset['driver'] + dataset['season'].astype(str)"
   ]
  },
  {
   "cell_type": "code",
   "execution_count": 11,
   "metadata": {},
   "outputs": [],
   "source": [
    "# Now we merge everything together, and drop the columns which got duplicated. \n",
    "\n",
    "dataset = dataset.merge(df, left_on='driver_season_id', right_on='driver_season_id', how='left').drop(columns=['driver_season_id', 'driver_y', 'season_y', 'constructor_y'])"
   ]
  },
  {
   "cell_type": "code",
   "execution_count": 12,
   "metadata": {
    "tags": []
   },
   "outputs": [
    {
     "output_type": "stream",
     "name": "stdout",
     "text": "<class 'pandas.core.frame.DataFrame'>\nInt64Index: 215428 entries, 0 to 215427\nData columns (total 26 columns):\n #   Column                             Non-Null Count   Dtype  \n---  ------                             --------------   -----  \n 0   season_x                           215428 non-null  int64  \n 1   round                              215428 non-null  int64  \n 2   circuit_id                         215428 non-null  object \n 3   weather_warm                       215428 non-null  bool   \n 4   weather_cold                       215428 non-null  bool   \n 5   weather_dry                        215428 non-null  bool   \n 6   weather_wet                        215428 non-null  bool   \n 7   weather_cloudy                     215428 non-null  bool   \n 8   driver_x                           215428 non-null  object \n 9   nationality                        215428 non-null  object \n 10  constructor_x                      215428 non-null  object \n 11  grid                               215428 non-null  int64  \n 12  podium                             215428 non-null  int64  \n 13  driver_points_after_race.1         215428 non-null  int64  \n 14  driver_wins_after_race.1           215428 non-null  int64  \n 15  driver_standings_pos_after_race.1  215428 non-null  int64  \n 16  driver_points                      215428 non-null  int64  \n 17  driver_wins                        215428 non-null  int64  \n 18  driver_standings_pos               215428 non-null  int64  \n 19  constructor_points                 215428 non-null  int64  \n 20  constructor_wins                   215428 non-null  int64  \n 21  constructor_standings_pos          215428 non-null  int64  \n 22  qualifying_time                    215428 non-null  float64\n 23  driver_age                         215428 non-null  int64  \n 24  wins_percentage                    131305 non-null  float64\n 25  change_teams                       215428 non-null  int64  \ndtypes: bool(5), float64(2), int64(15), object(4)\nmemory usage: 37.2+ MB\n"
    }
   ],
   "source": [
    "dataset.info()"
   ]
  },
  {
   "cell_type": "code",
   "execution_count": 15,
   "metadata": {},
   "outputs": [],
   "source": [
    "# Let's finally re-name everything to its original state.\n",
    "\n",
    "dataset.rename(columns={'season_x':'season', 'driver_x':'driver', 'constructor_x':'constructor'}, inplace=True)"
   ]
  },
  {
   "cell_type": "code",
   "execution_count": 17,
   "metadata": {},
   "outputs": [
    {
     "output_type": "execute_result",
     "data": {
      "text/plain": "        season  round   circuit_id  weather_warm  weather_cold  weather_dry  \\\n124643    2007      1  albert_park          True         False        False   \n124644    2007      1  albert_park          True         False        False   \n124645    2007      1  albert_park          True         False        False   \n124646    2007      1  albert_park          True         False        False   \n124647    2007      1  albert_park          True         False        False   \n...        ...    ...          ...           ...           ...          ...   \n215052    2019     21   yas_marina          True         False        False   \n215053    2019     21   yas_marina          True         False        False   \n215054    2019     21   yas_marina          True         False        False   \n215055    2019     21   yas_marina          True         False        False   \n215056    2019     21   yas_marina          True         False        False   \n\n        weather_wet  weather_cloudy    driver nationality  ... driver_points  \\\n124643        False           False  hamilton     British  ...             0   \n124644        False           False  hamilton     British  ...             0   \n124645        False           False  hamilton     British  ...             0   \n124646        False           False  hamilton     British  ...             0   \n124647        False           False  hamilton     British  ...             0   \n...             ...             ...       ...         ...  ...           ...   \n215052        False           False  hamilton     British  ...           381   \n215053        False           False  hamilton     British  ...           381   \n215054        False           False  hamilton     British  ...           381   \n215055        False           False  hamilton     British  ...           381   \n215056        False           False  hamilton     British  ...           381   \n\n        driver_wins  driver_standings_pos  constructor_points  \\\n124643            0                     0                   0   \n124644            0                     0                   0   \n124645            0                     0                   0   \n124646            0                     0                   0   \n124647            0                     0                   0   \n...             ...                   ...                 ...   \n215052           10                     1                 701   \n215053           10                     1                 701   \n215054           10                     1                 701   \n215055           10                     1                 701   \n215056           10                     1                 701   \n\n        constructor_wins  constructor_standings_pos  qualifying_time  \\\n124643                 0                          0            0.683   \n124644                 0                          0            0.683   \n124645                 0                          0            0.683   \n124646                 0                          0            0.683   \n124647                 0                          0            0.683   \n...                  ...                        ...              ...   \n215052                14                          1            0.000   \n215053                14                          1            0.000   \n215054                14                          1            0.000   \n215055                14                          1            0.000   \n215056                14                          1            0.000   \n\n        driver_age  wins_percentage  change_teams  \n124643          22              0.0             1  \n124644          22              0.0             0  \n124645          22              0.0             0  \n124646          22              0.0             0  \n124647          22              0.0             0  \n...            ...              ...           ...  \n215052          34              0.2             0  \n215053          34              0.2             0  \n215054          34              0.2             0  \n215055          34              0.2             0  \n215056          34              0.2             0  \n\n[4497 rows x 26 columns]",
      "text/html": "<div>\n<style scoped>\n    .dataframe tbody tr th:only-of-type {\n        vertical-align: middle;\n    }\n\n    .dataframe tbody tr th {\n        vertical-align: top;\n    }\n\n    .dataframe thead th {\n        text-align: right;\n    }\n</style>\n<table border=\"1\" class=\"dataframe\">\n  <thead>\n    <tr style=\"text-align: right;\">\n      <th></th>\n      <th>season</th>\n      <th>round</th>\n      <th>circuit_id</th>\n      <th>weather_warm</th>\n      <th>weather_cold</th>\n      <th>weather_dry</th>\n      <th>weather_wet</th>\n      <th>weather_cloudy</th>\n      <th>driver</th>\n      <th>nationality</th>\n      <th>...</th>\n      <th>driver_points</th>\n      <th>driver_wins</th>\n      <th>driver_standings_pos</th>\n      <th>constructor_points</th>\n      <th>constructor_wins</th>\n      <th>constructor_standings_pos</th>\n      <th>qualifying_time</th>\n      <th>driver_age</th>\n      <th>wins_percentage</th>\n      <th>change_teams</th>\n    </tr>\n  </thead>\n  <tbody>\n    <tr>\n      <th>124643</th>\n      <td>2007</td>\n      <td>1</td>\n      <td>albert_park</td>\n      <td>True</td>\n      <td>False</td>\n      <td>False</td>\n      <td>False</td>\n      <td>False</td>\n      <td>hamilton</td>\n      <td>British</td>\n      <td>...</td>\n      <td>0</td>\n      <td>0</td>\n      <td>0</td>\n      <td>0</td>\n      <td>0</td>\n      <td>0</td>\n      <td>0.683</td>\n      <td>22</td>\n      <td>0.0</td>\n      <td>1</td>\n    </tr>\n    <tr>\n      <th>124644</th>\n      <td>2007</td>\n      <td>1</td>\n      <td>albert_park</td>\n      <td>True</td>\n      <td>False</td>\n      <td>False</td>\n      <td>False</td>\n      <td>False</td>\n      <td>hamilton</td>\n      <td>British</td>\n      <td>...</td>\n      <td>0</td>\n      <td>0</td>\n      <td>0</td>\n      <td>0</td>\n      <td>0</td>\n      <td>0</td>\n      <td>0.683</td>\n      <td>22</td>\n      <td>0.0</td>\n      <td>0</td>\n    </tr>\n    <tr>\n      <th>124645</th>\n      <td>2007</td>\n      <td>1</td>\n      <td>albert_park</td>\n      <td>True</td>\n      <td>False</td>\n      <td>False</td>\n      <td>False</td>\n      <td>False</td>\n      <td>hamilton</td>\n      <td>British</td>\n      <td>...</td>\n      <td>0</td>\n      <td>0</td>\n      <td>0</td>\n      <td>0</td>\n      <td>0</td>\n      <td>0</td>\n      <td>0.683</td>\n      <td>22</td>\n      <td>0.0</td>\n      <td>0</td>\n    </tr>\n    <tr>\n      <th>124646</th>\n      <td>2007</td>\n      <td>1</td>\n      <td>albert_park</td>\n      <td>True</td>\n      <td>False</td>\n      <td>False</td>\n      <td>False</td>\n      <td>False</td>\n      <td>hamilton</td>\n      <td>British</td>\n      <td>...</td>\n      <td>0</td>\n      <td>0</td>\n      <td>0</td>\n      <td>0</td>\n      <td>0</td>\n      <td>0</td>\n      <td>0.683</td>\n      <td>22</td>\n      <td>0.0</td>\n      <td>0</td>\n    </tr>\n    <tr>\n      <th>124647</th>\n      <td>2007</td>\n      <td>1</td>\n      <td>albert_park</td>\n      <td>True</td>\n      <td>False</td>\n      <td>False</td>\n      <td>False</td>\n      <td>False</td>\n      <td>hamilton</td>\n      <td>British</td>\n      <td>...</td>\n      <td>0</td>\n      <td>0</td>\n      <td>0</td>\n      <td>0</td>\n      <td>0</td>\n      <td>0</td>\n      <td>0.683</td>\n      <td>22</td>\n      <td>0.0</td>\n      <td>0</td>\n    </tr>\n    <tr>\n      <th>...</th>\n      <td>...</td>\n      <td>...</td>\n      <td>...</td>\n      <td>...</td>\n      <td>...</td>\n      <td>...</td>\n      <td>...</td>\n      <td>...</td>\n      <td>...</td>\n      <td>...</td>\n      <td>...</td>\n      <td>...</td>\n      <td>...</td>\n      <td>...</td>\n      <td>...</td>\n      <td>...</td>\n      <td>...</td>\n      <td>...</td>\n      <td>...</td>\n      <td>...</td>\n      <td>...</td>\n    </tr>\n    <tr>\n      <th>215052</th>\n      <td>2019</td>\n      <td>21</td>\n      <td>yas_marina</td>\n      <td>True</td>\n      <td>False</td>\n      <td>False</td>\n      <td>False</td>\n      <td>False</td>\n      <td>hamilton</td>\n      <td>British</td>\n      <td>...</td>\n      <td>381</td>\n      <td>10</td>\n      <td>1</td>\n      <td>701</td>\n      <td>14</td>\n      <td>1</td>\n      <td>0.000</td>\n      <td>34</td>\n      <td>0.2</td>\n      <td>0</td>\n    </tr>\n    <tr>\n      <th>215053</th>\n      <td>2019</td>\n      <td>21</td>\n      <td>yas_marina</td>\n      <td>True</td>\n      <td>False</td>\n      <td>False</td>\n      <td>False</td>\n      <td>False</td>\n      <td>hamilton</td>\n      <td>British</td>\n      <td>...</td>\n      <td>381</td>\n      <td>10</td>\n      <td>1</td>\n      <td>701</td>\n      <td>14</td>\n      <td>1</td>\n      <td>0.000</td>\n      <td>34</td>\n      <td>0.2</td>\n      <td>0</td>\n    </tr>\n    <tr>\n      <th>215054</th>\n      <td>2019</td>\n      <td>21</td>\n      <td>yas_marina</td>\n      <td>True</td>\n      <td>False</td>\n      <td>False</td>\n      <td>False</td>\n      <td>False</td>\n      <td>hamilton</td>\n      <td>British</td>\n      <td>...</td>\n      <td>381</td>\n      <td>10</td>\n      <td>1</td>\n      <td>701</td>\n      <td>14</td>\n      <td>1</td>\n      <td>0.000</td>\n      <td>34</td>\n      <td>0.2</td>\n      <td>0</td>\n    </tr>\n    <tr>\n      <th>215055</th>\n      <td>2019</td>\n      <td>21</td>\n      <td>yas_marina</td>\n      <td>True</td>\n      <td>False</td>\n      <td>False</td>\n      <td>False</td>\n      <td>False</td>\n      <td>hamilton</td>\n      <td>British</td>\n      <td>...</td>\n      <td>381</td>\n      <td>10</td>\n      <td>1</td>\n      <td>701</td>\n      <td>14</td>\n      <td>1</td>\n      <td>0.000</td>\n      <td>34</td>\n      <td>0.2</td>\n      <td>0</td>\n    </tr>\n    <tr>\n      <th>215056</th>\n      <td>2019</td>\n      <td>21</td>\n      <td>yas_marina</td>\n      <td>True</td>\n      <td>False</td>\n      <td>False</td>\n      <td>False</td>\n      <td>False</td>\n      <td>hamilton</td>\n      <td>British</td>\n      <td>...</td>\n      <td>381</td>\n      <td>10</td>\n      <td>1</td>\n      <td>701</td>\n      <td>14</td>\n      <td>1</td>\n      <td>0.000</td>\n      <td>34</td>\n      <td>0.2</td>\n      <td>0</td>\n    </tr>\n  </tbody>\n</table>\n<p>4497 rows × 26 columns</p>\n</div>"
     },
     "metadata": {},
     "execution_count": 17
    }
   ],
   "source": [
    "# And yeah, here's the final stage of our First Step.\n",
    "\n",
    "dataset[dataset['driver'] == 'hamilton']"
   ]
  }
 ]
}