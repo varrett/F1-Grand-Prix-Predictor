{
 "metadata": {
  "language_info": {
   "codemirror_mode": {
    "name": "ipython",
    "version": 3
   },
   "file_extension": ".py",
   "mimetype": "text/x-python",
   "name": "python",
   "nbconvert_exporter": "python",
   "pygments_lexer": "ipython3",
   "version": "3.7.6-final"
  },
  "orig_nbformat": 2,
  "kernelspec": {
   "name": "python_defaultSpec_1599512444972",
   "display_name": "Python 3.7.6 64-bit ('base': conda)"
  }
 },
 "nbformat": 4,
 "nbformat_minor": 2,
 "cells": [
  {
   "cell_type": "code",
   "execution_count": 1,
   "metadata": {},
   "outputs": [],
   "source": [
    "import numpy as np\n",
    "import pandas as pd\n",
    "\n",
    "from sklearn.model_selection import train_test_split\n",
    "from sklearn.metrics import confusion_matrix\n",
    "\n",
    "from sklearn.ensemble import RandomForestClassifier\n",
    "from sklearn.linear_model import LogisticRegression\n",
    "from sklearn.tree import DecisionTreeClassifier\n",
    "from sklearn.discriminant_analysis import  LinearDiscriminantAnalysis\n",
    "from sklearn.naive_bayes import GaussianNB\n",
    "from sklearn.svm import SVC\n",
    "from sklearn.neighbors import KNeighborsClassifier\n",
    "from sklearn.metrics import confusion_matrix,accuracy_score,precision_score,recall_score"
   ]
  },
  {
   "cell_type": "code",
   "execution_count": 2,
   "metadata": {},
   "outputs": [],
   "source": [
    "data = pd.read_csv('/Users/alejandropalacios/Desktop/Ironhack/Data Analytics Bootcamp/Advanced Data Analysis Techniques/Project/F1-Grand-Prix-Predictor/Data Manipulation/Modeling/Modeled Databases/driver_change_dataset.csv')"
   ]
  },
  {
   "cell_type": "code",
   "execution_count": 3,
   "metadata": {},
   "outputs": [],
   "source": [
    "# We must get dummies for the categorical variables dataset in order to properly run our Model.\n",
    "\n",
    "# Moreover, the following Variables will be used based on our results (in reverse order of Predictive Power):\n",
    "\n",
    "\"\"\"\n",
    "\n",
    "- nationality\n",
    "- grid\t\n",
    "- qualifying_time\n",
    "- constructor\n",
    "- constructor_wins\n",
    "- constructor_standings_pos\n",
    "- driver\n",
    "\n",
    "\"\"\"\n",
    "\n",
    "df_woeiv = data[['season','nationality','grid','qualifying_time','constructor','constructor_wins','constructor_standings_pos','driver','change_drivers']]\n",
    "\n",
    "df_dum = pd.get_dummies(df_woeiv, columns = ['constructor','driver','nationality'] )\n",
    "\n",
    "for col in df_dum.columns:\n",
    "    if 'constructor' in col and df_dum[col].sum() < 140:\n",
    "        df_dum.drop(col, axis = 1, inplace = True)\n",
    "    \n",
    "    elif 'driver' in col and df_dum[col].sum() < 140:\n",
    "        df_dum.drop(col, axis = 1, inplace = True)\n",
    "\n",
    "    elif 'nationality' in col and df_dum[col].sum() < 140:\n",
    "        df_dum.drop(col, axis = 1, inplace = True)\n",
    "\n",
    "    else:\n",
    "        pass\n",
    "\n",
    "df_dum.to_csv('/Users/alejandropalacios/Desktop/Ironhack/Data Analytics Bootcamp/Advanced Data Analysis Techniques/Project/F1-Grand-Prix-Predictor/Data Manipulation/Modeling/Modeled Databases/driver_change_dummies_dataset.csv', index = False)"
   ]
  },
  {
   "cell_type": "code",
   "execution_count": 4,
   "metadata": {},
   "outputs": [],
   "source": [
    "df = pd.read_csv('/Users/alejandropalacios/Desktop/Ironhack/Data Analytics Bootcamp/Advanced Data Analysis Techniques/Project/F1-Grand-Prix-Predictor/Data Manipulation/Modeling/Modeled Databases/driver_change_dummies_dataset.csv')"
   ]
  },
  {
   "cell_type": "code",
   "execution_count": 5,
   "metadata": {},
   "outputs": [],
   "source": [
    "df = df[[c for c in df if c not in ['change_drivers']] + ['change_drivers']]"
   ]
  },
  {
   "cell_type": "code",
   "execution_count": 6,
   "metadata": {},
   "outputs": [],
   "source": [
    "# Train the Model\n",
    "\n",
    "train = df[df.season < 2019]\n",
    "test = df[df.season == 2019]\n",
    "\n",
    "X_train = train.drop('change_drivers',axis=1)\n",
    "y_train = train.change_drivers\n",
    "\n",
    "X_test = test.drop('change_drivers',axis=1)\n",
    "y_test = test.change_drivers"
   ]
  },
  {
   "cell_type": "code",
   "execution_count": 7,
   "metadata": {
    "tags": []
   },
   "outputs": [
    {
     "output_type": "stream",
     "name": "stdout",
     "text": "\nConfusion Matrix:\n [[379   0]\n [ 13   0]]\n\nModel Accuracy Score:\n 0.9668367346938775\n\nModel Precision Score:\n 0.0\n\nModel Recall Score:\n 0.0\n"
    }
   ],
   "source": [
    "# Logistic Regression\n",
    "\n",
    "logistic_model = LogisticRegression()\n",
    "logistic_model.fit(X_train, y_train)\n",
    "y_pred = logistic_model.predict(X_test)\n",
    "\n",
    "print(\"\\nConfusion Matrix:\\n\",confusion_matrix(y_test,y_pred))\n",
    "print(\"\\nModel Accuracy Score:\\n\",accuracy_score(y_test,y_pred))\n",
    "print(\"\\nModel Precision Score:\\n\",precision_score(y_test,y_pred))\n",
    "print(\"\\nModel Recall Score:\\n\",recall_score(y_test,y_pred))\n"
   ]
  },
  {
   "cell_type": "code",
   "execution_count": 8,
   "metadata": {
    "tags": []
   },
   "outputs": [
    {
     "output_type": "stream",
     "name": "stdout",
     "text": "\nConfusion Matrix:\n [[376   3]\n [ 11   2]]\n\nModel Accuracy Score:\n 0.9642857142857143\n\nModel Precision Score:\n 0.4\n\nModel Recall Score:\n 0.15384615384615385\n"
    }
   ],
   "source": [
    "# Decision Tree Classifier\n",
    "\n",
    "tree_model = DecisionTreeClassifier()\n",
    "tree_model.fit(X_train,y_train)\n",
    "y_pred = tree_model.predict(X_test)\n",
    "\n",
    "print(\"\\nConfusion Matrix:\\n\",confusion_matrix(y_test,y_pred))\n",
    "print(\"\\nModel Accuracy Score:\\n\",accuracy_score(y_test, y_pred))\n",
    "print(\"\\nModel Precision Score:\\n\",precision_score(y_test,y_pred))\n",
    "print(\"\\nModel Recall Score:\\n\",recall_score(y_test,y_pred))"
   ]
  },
  {
   "cell_type": "code",
   "execution_count": 9,
   "metadata": {
    "tags": []
   },
   "outputs": [
    {
     "output_type": "stream",
     "name": "stdout",
     "text": "\nConfusion Matrix:\n [[378   1]\n [  8   5]]\n\nModel Accuracy Score:\n 0.9770408163265306\n\nModel Precision Score:\n 0.8333333333333334\n\nModel Recall Score:\n 0.38461538461538464\n"
    }
   ],
   "source": [
    "# Linear Discriminant Analysis\n",
    "\n",
    "linear_model = LinearDiscriminantAnalysis()\n",
    "linear_model.fit(X_train, y_train)\n",
    "y_pred = linear_model.predict(X_test)\n",
    "\n",
    "print(\"\\nConfusion Matrix:\\n\",confusion_matrix(y_test,y_pred))\n",
    "print(\"\\nModel Accuracy Score:\\n\",accuracy_score(y_test, y_pred))\n",
    "print(\"\\nModel Precision Score:\\n\",precision_score(y_test,y_pred))\n",
    "print(\"\\nModel Recall Score:\\n\",recall_score(y_test,y_pred))"
   ]
  },
  {
   "cell_type": "code",
   "execution_count": 10,
   "metadata": {
    "tags": []
   },
   "outputs": [
    {
     "output_type": "stream",
     "name": "stdout",
     "text": "\nConfusion Matrix:\n [[379   0]\n [ 11   2]]\n\nModel Accuracy Score:\n 0.9719387755102041\n\nModel Precision Score:\n 1.0\n\nModel Recall Score:\n 0.15384615384615385\n"
    }
   ],
   "source": [
    "# Random Forest Classifier\n",
    "\n",
    "forest_model = RandomForestClassifier(n_jobs=2, random_state=0)\n",
    "forest_model.fit(X_train, y_train)\n",
    "y_pred = forest_model.predict(X_test)\n",
    "\n",
    "print(\"\\nConfusion Matrix:\\n\",confusion_matrix(y_test,y_pred))\n",
    "print(\"\\nModel Accuracy Score:\\n\",accuracy_score(y_test, y_pred))\n",
    "print(\"\\nModel Precision Score:\\n\",precision_score(y_test,y_pred))\n",
    "print(\"\\nModel Recall Score:\\n\",recall_score(y_test,y_pred))"
   ]
  },
  {
   "cell_type": "code",
   "execution_count": 11,
   "metadata": {
    "tags": []
   },
   "outputs": [
    {
     "output_type": "stream",
     "name": "stdout",
     "text": "\nConfusion Matrix:\n [[379   0]\n [ 13   0]]\n\nModel Accuracy Score:\n 0.9668367346938775\n\nModel Precision Score:\n 0.0\n\nModel Recall Score:\n 0.0\n"
    }
   ],
   "source": [
    "# Support Vector Classifier\n",
    "\n",
    "svc_model = SVC()\n",
    "svc_model.fit(X_train, y_train)\n",
    "y_pred = svc_model.predict(X_test)\n",
    "\n",
    "print(\"\\nConfusion Matrix:\\n\",confusion_matrix(y_test,y_pred))\n",
    "print(\"\\nModel Accuracy Score:\\n\",accuracy_score(y_test, y_pred))\n",
    "print(\"\\nModel Precision Score:\\n\",precision_score(y_test,y_pred))\n",
    "print(\"\\nModel Recall Score:\\n\",recall_score(y_test,y_pred))"
   ]
  },
  {
   "cell_type": "code",
   "execution_count": 12,
   "metadata": {
    "tags": []
   },
   "outputs": [
    {
     "output_type": "stream",
     "name": "stdout",
     "text": "\nConfusion Matrix:\n [[379   0]\n [ 10   3]]\n\nModel Accuracy Score:\n 0.9744897959183674\n\nModel Precision Score:\n 1.0\n\nModel Recall Score:\n 0.23076923076923078\n"
    }
   ],
   "source": [
    "# K Neighbors Classifier\n",
    "\n",
    "knn_model = KNeighborsClassifier()\n",
    "knn_model.fit(X_train, y_train)\n",
    "y_pred = knn_model.predict(X_test)\n",
    "\n",
    "print(\"\\nConfusion Matrix:\\n\",confusion_matrix(y_test,y_pred))\n",
    "print(\"\\nModel Accuracy Score:\\n\",accuracy_score(y_test, y_pred))\n",
    "print(\"\\nModel Precision Score:\\n\",precision_score(y_test,y_pred))\n",
    "print(\"\\nModel Recall Score:\\n\",recall_score(y_test,y_pred))"
   ]
  },
  {
   "cell_type": "code",
   "execution_count": null,
   "metadata": {},
   "outputs": [],
   "source": []
  }
 ]
}