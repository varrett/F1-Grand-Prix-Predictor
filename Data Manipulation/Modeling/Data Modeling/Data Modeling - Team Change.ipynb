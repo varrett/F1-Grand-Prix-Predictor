{
 "metadata": {
  "language_info": {
   "codemirror_mode": {
    "name": "ipython",
    "version": 3
   },
   "file_extension": ".py",
   "mimetype": "text/x-python",
   "name": "python",
   "nbconvert_exporter": "python",
   "pygments_lexer": "ipython3",
   "version": "3.7.6-final"
  },
  "orig_nbformat": 2,
  "kernelspec": {
   "name": "python_defaultSpec_1599706008326",
   "display_name": "Python 3.7.6 64-bit ('base': conda)"
  }
 },
 "nbformat": 4,
 "nbformat_minor": 2,
 "cells": [
  {
   "cell_type": "code",
   "execution_count": 1,
   "metadata": {},
   "outputs": [],
   "source": [
    "import numpy as np\n",
    "import pandas as pd"
   ]
  },
  {
   "cell_type": "code",
   "execution_count": 2,
   "metadata": {
    "tags": []
   },
   "outputs": [],
   "source": [
    "dataset = pd.read_csv(\"/Users/alejandropalacios/Desktop/Ironhack/Data Analytics Bootcamp/Advanced Data Analysis Techniques/Project/F1-Grand-Prix-Predictor/Data Manipulation/Modeling/Modeled Databases/final_df_complete.csv\")"
   ]
  },
  {
   "cell_type": "code",
   "execution_count": 3,
   "metadata": {
    "tags": []
   },
   "outputs": [
    {
     "output_type": "execute_result",
     "data": {
      "text/plain": "         driver  season  round   circuit_id  weather_warm  weather_cold  \\\n8753   hamilton    2007      1  albert_park          True         False   \n8754   hamilton    2007      2       sepang         False         False   \n8755   hamilton    2007      3      bahrain         False         False   \n8756   hamilton    2007      4    catalunya          True         False   \n8757   hamilton    2007      5       monaco         False         False   \n...         ...     ...    ...          ...           ...           ...   \n13519  hamilton    2019     17       suzuka          True         False   \n13520  hamilton    2019     18    rodriguez         False         False   \n13521  hamilton    2019     19     americas          True         False   \n13522  hamilton    2019     20   interlagos          True         False   \n13523  hamilton    2019     21   yas_marina          True         False   \n\n       weather_dry  weather_wet  weather_cloudy nationality  ...  \\\n8753         False        False           False     British  ...   \n8754         False        False           False     British  ...   \n8755         False        False           False     British  ...   \n8756         False        False           False     British  ...   \n8757         False        False            True     British  ...   \n...            ...          ...             ...         ...  ...   \n13519        False        False           False     British  ...   \n13520        False        False            True     British  ...   \n13521        False        False           False     British  ...   \n13522        False        False           False     British  ...   \n13523        False        False           False     British  ...   \n\n      driver_standings_pos_after_race.1  driver_points  driver_wins  \\\n8753                                  0              0            0   \n8754                                  3              0            0   \n8755                                  3              6            0   \n8756                                  3             14            0   \n8757                                  1             22            0   \n...                                 ...            ...          ...   \n13519                                 1            296            8   \n13520                                 1            322            9   \n13521                                 1            338            9   \n13522                                 1            363           10   \n13523                                 1            381           10   \n\n       driver_standings_pos  constructor_points  constructor_wins  \\\n8753                      0                   0                 0   \n8754                      0                  14                 0   \n8755                      3                  32                 1   \n8756                      3                  44                 1   \n8757                      3                  58                 1   \n...                     ...                 ...               ...   \n13519                     1                 571                11   \n13520                     1                 612                12   \n13521                     1                 652                13   \n13522                     1                 695                14   \n13523                     1                 701                14   \n\n       constructor_standings_pos  qualifying_time  driver_age  wins_percentage  \n8753                           0            0.683          22             0.00  \n8754                          11            1.002          22             0.00  \n8755                          11            0.283          22             0.00  \n8756                          11            0.364          22             0.00  \n8757                          11            0.179          22             0.00  \n...                          ...              ...         ...              ...  \n13519                          1            0.238          34             0.00  \n13520                          1            0.238          34             0.25  \n13521                          1            0.292          34             0.00  \n13522                          1            0.191          34             0.00  \n13523                          1            0.000          34             0.20  \n\n[241 rows x 25 columns]",
      "text/html": "<div>\n<style scoped>\n    .dataframe tbody tr th:only-of-type {\n        vertical-align: middle;\n    }\n\n    .dataframe tbody tr th {\n        vertical-align: top;\n    }\n\n    .dataframe thead th {\n        text-align: right;\n    }\n</style>\n<table border=\"1\" class=\"dataframe\">\n  <thead>\n    <tr style=\"text-align: right;\">\n      <th></th>\n      <th>driver</th>\n      <th>season</th>\n      <th>round</th>\n      <th>circuit_id</th>\n      <th>weather_warm</th>\n      <th>weather_cold</th>\n      <th>weather_dry</th>\n      <th>weather_wet</th>\n      <th>weather_cloudy</th>\n      <th>nationality</th>\n      <th>...</th>\n      <th>driver_standings_pos_after_race.1</th>\n      <th>driver_points</th>\n      <th>driver_wins</th>\n      <th>driver_standings_pos</th>\n      <th>constructor_points</th>\n      <th>constructor_wins</th>\n      <th>constructor_standings_pos</th>\n      <th>qualifying_time</th>\n      <th>driver_age</th>\n      <th>wins_percentage</th>\n    </tr>\n  </thead>\n  <tbody>\n    <tr>\n      <th>8753</th>\n      <td>hamilton</td>\n      <td>2007</td>\n      <td>1</td>\n      <td>albert_park</td>\n      <td>True</td>\n      <td>False</td>\n      <td>False</td>\n      <td>False</td>\n      <td>False</td>\n      <td>British</td>\n      <td>...</td>\n      <td>0</td>\n      <td>0</td>\n      <td>0</td>\n      <td>0</td>\n      <td>0</td>\n      <td>0</td>\n      <td>0</td>\n      <td>0.683</td>\n      <td>22</td>\n      <td>0.00</td>\n    </tr>\n    <tr>\n      <th>8754</th>\n      <td>hamilton</td>\n      <td>2007</td>\n      <td>2</td>\n      <td>sepang</td>\n      <td>False</td>\n      <td>False</td>\n      <td>False</td>\n      <td>False</td>\n      <td>False</td>\n      <td>British</td>\n      <td>...</td>\n      <td>3</td>\n      <td>0</td>\n      <td>0</td>\n      <td>0</td>\n      <td>14</td>\n      <td>0</td>\n      <td>11</td>\n      <td>1.002</td>\n      <td>22</td>\n      <td>0.00</td>\n    </tr>\n    <tr>\n      <th>8755</th>\n      <td>hamilton</td>\n      <td>2007</td>\n      <td>3</td>\n      <td>bahrain</td>\n      <td>False</td>\n      <td>False</td>\n      <td>False</td>\n      <td>False</td>\n      <td>False</td>\n      <td>British</td>\n      <td>...</td>\n      <td>3</td>\n      <td>6</td>\n      <td>0</td>\n      <td>3</td>\n      <td>32</td>\n      <td>1</td>\n      <td>11</td>\n      <td>0.283</td>\n      <td>22</td>\n      <td>0.00</td>\n    </tr>\n    <tr>\n      <th>8756</th>\n      <td>hamilton</td>\n      <td>2007</td>\n      <td>4</td>\n      <td>catalunya</td>\n      <td>True</td>\n      <td>False</td>\n      <td>False</td>\n      <td>False</td>\n      <td>False</td>\n      <td>British</td>\n      <td>...</td>\n      <td>3</td>\n      <td>14</td>\n      <td>0</td>\n      <td>3</td>\n      <td>44</td>\n      <td>1</td>\n      <td>11</td>\n      <td>0.364</td>\n      <td>22</td>\n      <td>0.00</td>\n    </tr>\n    <tr>\n      <th>8757</th>\n      <td>hamilton</td>\n      <td>2007</td>\n      <td>5</td>\n      <td>monaco</td>\n      <td>False</td>\n      <td>False</td>\n      <td>False</td>\n      <td>False</td>\n      <td>True</td>\n      <td>British</td>\n      <td>...</td>\n      <td>1</td>\n      <td>22</td>\n      <td>0</td>\n      <td>3</td>\n      <td>58</td>\n      <td>1</td>\n      <td>11</td>\n      <td>0.179</td>\n      <td>22</td>\n      <td>0.00</td>\n    </tr>\n    <tr>\n      <th>...</th>\n      <td>...</td>\n      <td>...</td>\n      <td>...</td>\n      <td>...</td>\n      <td>...</td>\n      <td>...</td>\n      <td>...</td>\n      <td>...</td>\n      <td>...</td>\n      <td>...</td>\n      <td>...</td>\n      <td>...</td>\n      <td>...</td>\n      <td>...</td>\n      <td>...</td>\n      <td>...</td>\n      <td>...</td>\n      <td>...</td>\n      <td>...</td>\n      <td>...</td>\n      <td>...</td>\n    </tr>\n    <tr>\n      <th>13519</th>\n      <td>hamilton</td>\n      <td>2019</td>\n      <td>17</td>\n      <td>suzuka</td>\n      <td>True</td>\n      <td>False</td>\n      <td>False</td>\n      <td>False</td>\n      <td>False</td>\n      <td>British</td>\n      <td>...</td>\n      <td>1</td>\n      <td>296</td>\n      <td>8</td>\n      <td>1</td>\n      <td>571</td>\n      <td>11</td>\n      <td>1</td>\n      <td>0.238</td>\n      <td>34</td>\n      <td>0.00</td>\n    </tr>\n    <tr>\n      <th>13520</th>\n      <td>hamilton</td>\n      <td>2019</td>\n      <td>18</td>\n      <td>rodriguez</td>\n      <td>False</td>\n      <td>False</td>\n      <td>False</td>\n      <td>False</td>\n      <td>True</td>\n      <td>British</td>\n      <td>...</td>\n      <td>1</td>\n      <td>322</td>\n      <td>9</td>\n      <td>1</td>\n      <td>612</td>\n      <td>12</td>\n      <td>1</td>\n      <td>0.238</td>\n      <td>34</td>\n      <td>0.25</td>\n    </tr>\n    <tr>\n      <th>13521</th>\n      <td>hamilton</td>\n      <td>2019</td>\n      <td>19</td>\n      <td>americas</td>\n      <td>True</td>\n      <td>False</td>\n      <td>False</td>\n      <td>False</td>\n      <td>False</td>\n      <td>British</td>\n      <td>...</td>\n      <td>1</td>\n      <td>338</td>\n      <td>9</td>\n      <td>1</td>\n      <td>652</td>\n      <td>13</td>\n      <td>1</td>\n      <td>0.292</td>\n      <td>34</td>\n      <td>0.00</td>\n    </tr>\n    <tr>\n      <th>13522</th>\n      <td>hamilton</td>\n      <td>2019</td>\n      <td>20</td>\n      <td>interlagos</td>\n      <td>True</td>\n      <td>False</td>\n      <td>False</td>\n      <td>False</td>\n      <td>False</td>\n      <td>British</td>\n      <td>...</td>\n      <td>1</td>\n      <td>363</td>\n      <td>10</td>\n      <td>1</td>\n      <td>695</td>\n      <td>14</td>\n      <td>1</td>\n      <td>0.191</td>\n      <td>34</td>\n      <td>0.00</td>\n    </tr>\n    <tr>\n      <th>13523</th>\n      <td>hamilton</td>\n      <td>2019</td>\n      <td>21</td>\n      <td>yas_marina</td>\n      <td>True</td>\n      <td>False</td>\n      <td>False</td>\n      <td>False</td>\n      <td>False</td>\n      <td>British</td>\n      <td>...</td>\n      <td>1</td>\n      <td>381</td>\n      <td>10</td>\n      <td>1</td>\n      <td>701</td>\n      <td>14</td>\n      <td>1</td>\n      <td>0.000</td>\n      <td>34</td>\n      <td>0.20</td>\n    </tr>\n  </tbody>\n</table>\n<p>241 rows × 25 columns</p>\n</div>"
     },
     "metadata": {},
     "execution_count": 3
    }
   ],
   "source": [
    "# The goal of this exercise will be, for every Driver, to modelate 0s for repeated Teams after every Season and 1s for different Teams. Thus we will get a binary idea of how many times a Driver switched Teams between Seasons.\n",
    "\n",
    "# Furthermore, we will do the exact same but for Teams, we will see how many times a Team switched Drivers between seasons. \n",
    "\n",
    "# Step one, pulverize the problem into various subsets of things. Let's only get the Drivers, their Season, and with which Constructor they drove. \n",
    "\n",
    "drivers = dataset.groupby('driver').apply(lambda a: a.drop('driver', axis=1)[:])\n",
    "\n",
    "df = drivers.reset_index().drop(['level_1'], axis=1)\n",
    "\n",
    "team_change_dataset = df.sort_values(by=['season','constructor','driver']).reset_index().drop(['index'], axis=1)\n",
    "\n",
    "# Let's check Hamilton's career. Please note the fact that having duplicates does not mean we are going through a bad path, on the contrary, we need the duplicates to codify every row to a 0 or 1 value later.\n",
    "\n",
    "team_change_dataset[team_change_dataset['driver'] == 'hamilton']\n"
   ]
  },
  {
   "cell_type": "code",
   "execution_count": 4,
   "metadata": {},
   "outputs": [],
   "source": [
    "# Now here's the trick, we will use a where clause to codify our data.\n",
    "\n",
    "team_change_dataset['change_teams'] = np.where((team_change_dataset['driver'] == team_change_dataset['driver'].shift(periods=-1,axis=0)) & (team_change_dataset['constructor'] == team_change_dataset['constructor'].shift(periods=-1,axis=0)),0,1)\n"
   ]
  },
  {
   "cell_type": "code",
   "execution_count": 5,
   "metadata": {},
   "outputs": [
    {
     "output_type": "execute_result",
     "data": {
      "text/plain": "         driver  season  round constructor  change_teams\n11183  hamilton    2013      1    mercedes             0\n11184  hamilton    2013      2    mercedes             0\n11185  hamilton    2013      3    mercedes             0\n11186  hamilton    2013      4    mercedes             0\n11187  hamilton    2013      5    mercedes             0\n...         ...     ...    ...         ...           ...\n13519  hamilton    2019     17    mercedes             0\n13520  hamilton    2019     18    mercedes             0\n13521  hamilton    2019     19    mercedes             0\n13522  hamilton    2019     20    mercedes             0\n13523  hamilton    2019     21    mercedes             1\n\n[134 rows x 5 columns]",
      "text/html": "<div>\n<style scoped>\n    .dataframe tbody tr th:only-of-type {\n        vertical-align: middle;\n    }\n\n    .dataframe tbody tr th {\n        vertical-align: top;\n    }\n\n    .dataframe thead th {\n        text-align: right;\n    }\n</style>\n<table border=\"1\" class=\"dataframe\">\n  <thead>\n    <tr style=\"text-align: right;\">\n      <th></th>\n      <th>driver</th>\n      <th>season</th>\n      <th>round</th>\n      <th>constructor</th>\n      <th>change_teams</th>\n    </tr>\n  </thead>\n  <tbody>\n    <tr>\n      <th>11183</th>\n      <td>hamilton</td>\n      <td>2013</td>\n      <td>1</td>\n      <td>mercedes</td>\n      <td>0</td>\n    </tr>\n    <tr>\n      <th>11184</th>\n      <td>hamilton</td>\n      <td>2013</td>\n      <td>2</td>\n      <td>mercedes</td>\n      <td>0</td>\n    </tr>\n    <tr>\n      <th>11185</th>\n      <td>hamilton</td>\n      <td>2013</td>\n      <td>3</td>\n      <td>mercedes</td>\n      <td>0</td>\n    </tr>\n    <tr>\n      <th>11186</th>\n      <td>hamilton</td>\n      <td>2013</td>\n      <td>4</td>\n      <td>mercedes</td>\n      <td>0</td>\n    </tr>\n    <tr>\n      <th>11187</th>\n      <td>hamilton</td>\n      <td>2013</td>\n      <td>5</td>\n      <td>mercedes</td>\n      <td>0</td>\n    </tr>\n    <tr>\n      <th>...</th>\n      <td>...</td>\n      <td>...</td>\n      <td>...</td>\n      <td>...</td>\n      <td>...</td>\n    </tr>\n    <tr>\n      <th>13519</th>\n      <td>hamilton</td>\n      <td>2019</td>\n      <td>17</td>\n      <td>mercedes</td>\n      <td>0</td>\n    </tr>\n    <tr>\n      <th>13520</th>\n      <td>hamilton</td>\n      <td>2019</td>\n      <td>18</td>\n      <td>mercedes</td>\n      <td>0</td>\n    </tr>\n    <tr>\n      <th>13521</th>\n      <td>hamilton</td>\n      <td>2019</td>\n      <td>19</td>\n      <td>mercedes</td>\n      <td>0</td>\n    </tr>\n    <tr>\n      <th>13522</th>\n      <td>hamilton</td>\n      <td>2019</td>\n      <td>20</td>\n      <td>mercedes</td>\n      <td>0</td>\n    </tr>\n    <tr>\n      <th>13523</th>\n      <td>hamilton</td>\n      <td>2019</td>\n      <td>21</td>\n      <td>mercedes</td>\n      <td>1</td>\n    </tr>\n  </tbody>\n</table>\n<p>134 rows × 5 columns</p>\n</div>"
     },
     "metadata": {},
     "execution_count": 5
    }
   ],
   "source": [
    "# A little check\n",
    "\n",
    "team_change_dataset[['driver','season','round','constructor','change_teams']][(team_change_dataset['driver']=='hamilton') & (team_change_dataset['constructor']=='mercedes')]"
   ]
  },
  {
   "cell_type": "code",
   "execution_count": 6,
   "metadata": {},
   "outputs": [],
   "source": [
    "# Now let's sort things out in order to be able to use the dataset as a time series.\n",
    "\n",
    "team_change_dataset = team_change_dataset.sort_values(by=['season','round','constructor','driver']).reset_index().drop(['index'], axis=1)\n"
   ]
  },
  {
   "cell_type": "code",
   "execution_count": 7,
   "metadata": {},
   "outputs": [
    {
     "output_type": "execute_result",
     "data": {
      "text/plain": "      driver  season  round constructor  change_teams\n13344  albon    2019      1  toro_rosso             0\n13364  albon    2019      2  toro_rosso             0\n13397  albon    2019      4  toro_rosso             0\n13415  albon    2019      5  toro_rosso             0\n13435  albon    2019      6  toro_rosso             0\n13453  albon    2019      7  toro_rosso             0\n13473  albon    2019      8  toro_rosso             0\n13492  albon    2019      9  toro_rosso             0\n13511  albon    2019     10  toro_rosso             0\n13529  albon    2019     11  toro_rosso             0\n13549  albon    2019     12  toro_rosso             1\n13564  albon    2019     13    red_bull             0\n13599  albon    2019     15    red_bull             0\n13635  albon    2019     17    red_bull             0\n13654  albon    2019     18    red_bull             0\n13673  albon    2019     19    red_bull             0\n13692  albon    2019     20    red_bull             0\n13712  albon    2019     21    red_bull             1",
      "text/html": "<div>\n<style scoped>\n    .dataframe tbody tr th:only-of-type {\n        vertical-align: middle;\n    }\n\n    .dataframe tbody tr th {\n        vertical-align: top;\n    }\n\n    .dataframe thead th {\n        text-align: right;\n    }\n</style>\n<table border=\"1\" class=\"dataframe\">\n  <thead>\n    <tr style=\"text-align: right;\">\n      <th></th>\n      <th>driver</th>\n      <th>season</th>\n      <th>round</th>\n      <th>constructor</th>\n      <th>change_teams</th>\n    </tr>\n  </thead>\n  <tbody>\n    <tr>\n      <th>13344</th>\n      <td>albon</td>\n      <td>2019</td>\n      <td>1</td>\n      <td>toro_rosso</td>\n      <td>0</td>\n    </tr>\n    <tr>\n      <th>13364</th>\n      <td>albon</td>\n      <td>2019</td>\n      <td>2</td>\n      <td>toro_rosso</td>\n      <td>0</td>\n    </tr>\n    <tr>\n      <th>13397</th>\n      <td>albon</td>\n      <td>2019</td>\n      <td>4</td>\n      <td>toro_rosso</td>\n      <td>0</td>\n    </tr>\n    <tr>\n      <th>13415</th>\n      <td>albon</td>\n      <td>2019</td>\n      <td>5</td>\n      <td>toro_rosso</td>\n      <td>0</td>\n    </tr>\n    <tr>\n      <th>13435</th>\n      <td>albon</td>\n      <td>2019</td>\n      <td>6</td>\n      <td>toro_rosso</td>\n      <td>0</td>\n    </tr>\n    <tr>\n      <th>13453</th>\n      <td>albon</td>\n      <td>2019</td>\n      <td>7</td>\n      <td>toro_rosso</td>\n      <td>0</td>\n    </tr>\n    <tr>\n      <th>13473</th>\n      <td>albon</td>\n      <td>2019</td>\n      <td>8</td>\n      <td>toro_rosso</td>\n      <td>0</td>\n    </tr>\n    <tr>\n      <th>13492</th>\n      <td>albon</td>\n      <td>2019</td>\n      <td>9</td>\n      <td>toro_rosso</td>\n      <td>0</td>\n    </tr>\n    <tr>\n      <th>13511</th>\n      <td>albon</td>\n      <td>2019</td>\n      <td>10</td>\n      <td>toro_rosso</td>\n      <td>0</td>\n    </tr>\n    <tr>\n      <th>13529</th>\n      <td>albon</td>\n      <td>2019</td>\n      <td>11</td>\n      <td>toro_rosso</td>\n      <td>0</td>\n    </tr>\n    <tr>\n      <th>13549</th>\n      <td>albon</td>\n      <td>2019</td>\n      <td>12</td>\n      <td>toro_rosso</td>\n      <td>1</td>\n    </tr>\n    <tr>\n      <th>13564</th>\n      <td>albon</td>\n      <td>2019</td>\n      <td>13</td>\n      <td>red_bull</td>\n      <td>0</td>\n    </tr>\n    <tr>\n      <th>13599</th>\n      <td>albon</td>\n      <td>2019</td>\n      <td>15</td>\n      <td>red_bull</td>\n      <td>0</td>\n    </tr>\n    <tr>\n      <th>13635</th>\n      <td>albon</td>\n      <td>2019</td>\n      <td>17</td>\n      <td>red_bull</td>\n      <td>0</td>\n    </tr>\n    <tr>\n      <th>13654</th>\n      <td>albon</td>\n      <td>2019</td>\n      <td>18</td>\n      <td>red_bull</td>\n      <td>0</td>\n    </tr>\n    <tr>\n      <th>13673</th>\n      <td>albon</td>\n      <td>2019</td>\n      <td>19</td>\n      <td>red_bull</td>\n      <td>0</td>\n    </tr>\n    <tr>\n      <th>13692</th>\n      <td>albon</td>\n      <td>2019</td>\n      <td>20</td>\n      <td>red_bull</td>\n      <td>0</td>\n    </tr>\n    <tr>\n      <th>13712</th>\n      <td>albon</td>\n      <td>2019</td>\n      <td>21</td>\n      <td>red_bull</td>\n      <td>1</td>\n    </tr>\n  </tbody>\n</table>\n</div>"
     },
     "metadata": {},
     "execution_count": 7
    }
   ],
   "source": [
    "team_change_dataset[['driver','season','round','constructor','change_teams']][(team_change_dataset['driver']=='albon') & (team_change_dataset['season']==2019)]"
   ]
  },
  {
   "cell_type": "code",
   "execution_count": 8,
   "metadata": {},
   "outputs": [],
   "source": [
    "team_change_dataset.to_csv(r'/Users/alejandropalacios/Desktop/Ironhack/Data Analytics Bootcamp/Advanced Data Analysis Techniques/Project/F1-Grand-Prix-Predictor/Data Manipulation/Modeling/Modeled Databases/team_change_dataset.csv', index = False)"
   ]
  }
 ]
}