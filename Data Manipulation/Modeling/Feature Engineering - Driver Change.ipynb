{
 "metadata": {
  "language_info": {
   "codemirror_mode": {
    "name": "ipython",
    "version": 3
   },
   "file_extension": ".py",
   "mimetype": "text/x-python",
   "name": "python",
   "nbconvert_exporter": "python",
   "pygments_lexer": "ipython3",
   "version": "3.7.6-final"
  },
  "orig_nbformat": 2,
  "kernelspec": {
   "name": "python_defaultSpec_1599325340288",
   "display_name": "Python 3.7.6 64-bit ('base': conda)"
  }
 },
 "nbformat": 4,
 "nbformat_minor": 2,
 "cells": [
  {
   "cell_type": "code",
   "execution_count": 1,
   "metadata": {},
   "outputs": [],
   "source": [
    "import numpy as np\n",
    "import pandas as pd"
   ]
  },
  {
   "cell_type": "code",
   "execution_count": 2,
   "metadata": {
    "tags": []
   },
   "outputs": [],
   "source": [
    "dataset = pd.read_csv(\"/Users/alejandropalacios/Desktop/Ironhack/Data Analytics Bootcamp/Advanced Data Analysis Techniques/Project/F1-Grand-Prix-Predictor/Data Manipulation/Modeling/final_df_complete.csv\")\n"
   ]
  },
  {
   "cell_type": "code",
   "execution_count": 3,
   "metadata": {},
   "outputs": [
    {
     "output_type": "execute_result",
     "data": {
      "text/plain": "  constructor  season  round      circuit_id  weather_warm  weather_cold  \\\n0         ags    1990      2      interlagos          True         False   \n1         ags    1990     14           jerez          True         False   \n2         ags    1987      1     jacarepagua          True         False   \n3         ags    1987      2           imola          True         False   \n4         ags    1987      3             spa         False          True   \n5         ags    1987      4          monaco          True         False   \n6         ags    1987      5         detroit          True         False   \n7         ags    1987      6          ricard          True         False   \n8         ags    1987      7     silverstone          True         False   \n9         ags    1987      8  hockenheimring         False         False   \n\n   weather_dry  weather_wet  weather_cloudy  driver  ...  \\\n0        False        False           False  dalmas  ...   \n1        False        False           False  dalmas  ...   \n2        False        False           False   fabre  ...   \n3        False        False           False   fabre  ...   \n4        False        False            True   fabre  ...   \n5        False        False           False   fabre  ...   \n6        False         True           False   fabre  ...   \n7        False        False           False   fabre  ...   \n8        False        False           False   fabre  ...   \n9        False        False           False   fabre  ...   \n\n  driver_standings_pos_after_race.1  driver_points  driver_wins  \\\n0                                 0              0            0   \n1                                 0              0            0   \n2                                 0              0            0   \n3                                12              0            0   \n4                                17              0            0   \n5                                19              0            0   \n6                                22              0            0   \n7                                22              0            0   \n8                                22              0            0   \n9                                22              0            0   \n\n   driver_standings_pos  constructor_points  constructor_wins  \\\n0                     0                   0                 0   \n1                     0                   0                 0   \n2                     0                   0                 0   \n3                     0                   0                 0   \n4                    12                   0                 0   \n5                    17                   0                 0   \n6                    19                   0                 0   \n7                    22                   0                 0   \n8                    22                   0                 0   \n9                    22                   0                 0   \n\n   constructor_standings_pos  qualifying_time  driver_age  wins_percentage  \n0                         17            3.810          28              0.0  \n1                         16            4.329          29              0.0  \n2                          0           13.688          27              0.0  \n3                          8            8.046          27              0.0  \n4                         11           15.335          27              0.0  \n5                         12            7.766          27              0.0  \n6                         13           14.380          27              NaN  \n7                         13            8.245          27              0.0  \n8                         13            9.582          27              0.0  \n9                         13           12.381          27              0.0  \n\n[10 rows x 25 columns]",
      "text/html": "<div>\n<style scoped>\n    .dataframe tbody tr th:only-of-type {\n        vertical-align: middle;\n    }\n\n    .dataframe tbody tr th {\n        vertical-align: top;\n    }\n\n    .dataframe thead th {\n        text-align: right;\n    }\n</style>\n<table border=\"1\" class=\"dataframe\">\n  <thead>\n    <tr style=\"text-align: right;\">\n      <th></th>\n      <th>constructor</th>\n      <th>season</th>\n      <th>round</th>\n      <th>circuit_id</th>\n      <th>weather_warm</th>\n      <th>weather_cold</th>\n      <th>weather_dry</th>\n      <th>weather_wet</th>\n      <th>weather_cloudy</th>\n      <th>driver</th>\n      <th>...</th>\n      <th>driver_standings_pos_after_race.1</th>\n      <th>driver_points</th>\n      <th>driver_wins</th>\n      <th>driver_standings_pos</th>\n      <th>constructor_points</th>\n      <th>constructor_wins</th>\n      <th>constructor_standings_pos</th>\n      <th>qualifying_time</th>\n      <th>driver_age</th>\n      <th>wins_percentage</th>\n    </tr>\n  </thead>\n  <tbody>\n    <tr>\n      <th>0</th>\n      <td>ags</td>\n      <td>1990</td>\n      <td>2</td>\n      <td>interlagos</td>\n      <td>True</td>\n      <td>False</td>\n      <td>False</td>\n      <td>False</td>\n      <td>False</td>\n      <td>dalmas</td>\n      <td>...</td>\n      <td>0</td>\n      <td>0</td>\n      <td>0</td>\n      <td>0</td>\n      <td>0</td>\n      <td>0</td>\n      <td>17</td>\n      <td>3.810</td>\n      <td>28</td>\n      <td>0.0</td>\n    </tr>\n    <tr>\n      <th>1</th>\n      <td>ags</td>\n      <td>1990</td>\n      <td>14</td>\n      <td>jerez</td>\n      <td>True</td>\n      <td>False</td>\n      <td>False</td>\n      <td>False</td>\n      <td>False</td>\n      <td>dalmas</td>\n      <td>...</td>\n      <td>0</td>\n      <td>0</td>\n      <td>0</td>\n      <td>0</td>\n      <td>0</td>\n      <td>0</td>\n      <td>16</td>\n      <td>4.329</td>\n      <td>29</td>\n      <td>0.0</td>\n    </tr>\n    <tr>\n      <th>2</th>\n      <td>ags</td>\n      <td>1987</td>\n      <td>1</td>\n      <td>jacarepagua</td>\n      <td>True</td>\n      <td>False</td>\n      <td>False</td>\n      <td>False</td>\n      <td>False</td>\n      <td>fabre</td>\n      <td>...</td>\n      <td>0</td>\n      <td>0</td>\n      <td>0</td>\n      <td>0</td>\n      <td>0</td>\n      <td>0</td>\n      <td>0</td>\n      <td>13.688</td>\n      <td>27</td>\n      <td>0.0</td>\n    </tr>\n    <tr>\n      <th>3</th>\n      <td>ags</td>\n      <td>1987</td>\n      <td>2</td>\n      <td>imola</td>\n      <td>True</td>\n      <td>False</td>\n      <td>False</td>\n      <td>False</td>\n      <td>False</td>\n      <td>fabre</td>\n      <td>...</td>\n      <td>12</td>\n      <td>0</td>\n      <td>0</td>\n      <td>0</td>\n      <td>0</td>\n      <td>0</td>\n      <td>8</td>\n      <td>8.046</td>\n      <td>27</td>\n      <td>0.0</td>\n    </tr>\n    <tr>\n      <th>4</th>\n      <td>ags</td>\n      <td>1987</td>\n      <td>3</td>\n      <td>spa</td>\n      <td>False</td>\n      <td>True</td>\n      <td>False</td>\n      <td>False</td>\n      <td>True</td>\n      <td>fabre</td>\n      <td>...</td>\n      <td>17</td>\n      <td>0</td>\n      <td>0</td>\n      <td>12</td>\n      <td>0</td>\n      <td>0</td>\n      <td>11</td>\n      <td>15.335</td>\n      <td>27</td>\n      <td>0.0</td>\n    </tr>\n    <tr>\n      <th>5</th>\n      <td>ags</td>\n      <td>1987</td>\n      <td>4</td>\n      <td>monaco</td>\n      <td>True</td>\n      <td>False</td>\n      <td>False</td>\n      <td>False</td>\n      <td>False</td>\n      <td>fabre</td>\n      <td>...</td>\n      <td>19</td>\n      <td>0</td>\n      <td>0</td>\n      <td>17</td>\n      <td>0</td>\n      <td>0</td>\n      <td>12</td>\n      <td>7.766</td>\n      <td>27</td>\n      <td>0.0</td>\n    </tr>\n    <tr>\n      <th>6</th>\n      <td>ags</td>\n      <td>1987</td>\n      <td>5</td>\n      <td>detroit</td>\n      <td>True</td>\n      <td>False</td>\n      <td>False</td>\n      <td>True</td>\n      <td>False</td>\n      <td>fabre</td>\n      <td>...</td>\n      <td>22</td>\n      <td>0</td>\n      <td>0</td>\n      <td>19</td>\n      <td>0</td>\n      <td>0</td>\n      <td>13</td>\n      <td>14.380</td>\n      <td>27</td>\n      <td>NaN</td>\n    </tr>\n    <tr>\n      <th>7</th>\n      <td>ags</td>\n      <td>1987</td>\n      <td>6</td>\n      <td>ricard</td>\n      <td>True</td>\n      <td>False</td>\n      <td>False</td>\n      <td>False</td>\n      <td>False</td>\n      <td>fabre</td>\n      <td>...</td>\n      <td>22</td>\n      <td>0</td>\n      <td>0</td>\n      <td>22</td>\n      <td>0</td>\n      <td>0</td>\n      <td>13</td>\n      <td>8.245</td>\n      <td>27</td>\n      <td>0.0</td>\n    </tr>\n    <tr>\n      <th>8</th>\n      <td>ags</td>\n      <td>1987</td>\n      <td>7</td>\n      <td>silverstone</td>\n      <td>True</td>\n      <td>False</td>\n      <td>False</td>\n      <td>False</td>\n      <td>False</td>\n      <td>fabre</td>\n      <td>...</td>\n      <td>22</td>\n      <td>0</td>\n      <td>0</td>\n      <td>22</td>\n      <td>0</td>\n      <td>0</td>\n      <td>13</td>\n      <td>9.582</td>\n      <td>27</td>\n      <td>0.0</td>\n    </tr>\n    <tr>\n      <th>9</th>\n      <td>ags</td>\n      <td>1987</td>\n      <td>8</td>\n      <td>hockenheimring</td>\n      <td>False</td>\n      <td>False</td>\n      <td>False</td>\n      <td>False</td>\n      <td>False</td>\n      <td>fabre</td>\n      <td>...</td>\n      <td>22</td>\n      <td>0</td>\n      <td>0</td>\n      <td>22</td>\n      <td>0</td>\n      <td>0</td>\n      <td>13</td>\n      <td>12.381</td>\n      <td>27</td>\n      <td>0.0</td>\n    </tr>\n  </tbody>\n</table>\n<p>10 rows × 25 columns</p>\n</div>"
     },
     "metadata": {},
     "execution_count": 3
    }
   ],
   "source": [
    "# The goal of this exercise will be, for every Constructor, to modelate 0s for repeated Drivers after every Season and 1s for different ones. Thus we will get a binary idea of how many times a Team switched Drivers between Seasons.\n",
    "\n",
    "# Step one, pulverize the problem into various subsets of things. Let's only get the Constructor, their Season, and with which Driver they competed. \n",
    "\n",
    "constructors = dataset.groupby('constructor').apply(lambda a: a.drop('constructor', axis=1)[:])\n",
    "\n",
    "df = constructors.reset_index().drop(['level_1'], axis=1)\n",
    "\n",
    "driver_change_dataset = df.sort_values(by=['constructor','driver']).reset_index().drop(['index'], axis=1)\n",
    "\n",
    "driver_change_dataset.head(10)"
   ]
  },
  {
   "cell_type": "code",
   "execution_count": 4,
   "metadata": {},
   "outputs": [],
   "source": [
    "# Now here's the trick, we will use a where clause to codify our data.\n",
    "\n",
    "driver_change_dataset['change_drivers'] = np.where((driver_change_dataset['constructor'] == driver_change_dataset['constructor'].shift()) & (driver_change_dataset['driver'] == driver_change_dataset['driver'].shift()),0,1)\n"
   ]
  },
  {
   "cell_type": "code",
   "execution_count": 5,
   "metadata": {},
   "outputs": [
    {
     "output_type": "execute_result",
     "data": {
      "text/plain": "     constructor  season    driver  change_drivers\n5965     mclaren    2007    alonso               1\n5966     mclaren    2007    alonso               0\n5967     mclaren    2007    alonso               0\n5968     mclaren    2007    alonso               0\n5969     mclaren    2007    alonso               0\n...          ...     ...       ...             ...\n6050     mclaren    2018    alonso               0\n6051     mclaren    2018    alonso               0\n6052     mclaren    2018    alonso               0\n6053     mclaren    2018    alonso               0\n6054     mclaren    1993  andretti               1\n\n[90 rows x 4 columns]",
      "text/html": "<div>\n<style scoped>\n    .dataframe tbody tr th:only-of-type {\n        vertical-align: middle;\n    }\n\n    .dataframe tbody tr th {\n        vertical-align: top;\n    }\n\n    .dataframe thead th {\n        text-align: right;\n    }\n</style>\n<table border=\"1\" class=\"dataframe\">\n  <thead>\n    <tr style=\"text-align: right;\">\n      <th></th>\n      <th>constructor</th>\n      <th>season</th>\n      <th>driver</th>\n      <th>change_drivers</th>\n    </tr>\n  </thead>\n  <tbody>\n    <tr>\n      <th>5965</th>\n      <td>mclaren</td>\n      <td>2007</td>\n      <td>alonso</td>\n      <td>1</td>\n    </tr>\n    <tr>\n      <th>5966</th>\n      <td>mclaren</td>\n      <td>2007</td>\n      <td>alonso</td>\n      <td>0</td>\n    </tr>\n    <tr>\n      <th>5967</th>\n      <td>mclaren</td>\n      <td>2007</td>\n      <td>alonso</td>\n      <td>0</td>\n    </tr>\n    <tr>\n      <th>5968</th>\n      <td>mclaren</td>\n      <td>2007</td>\n      <td>alonso</td>\n      <td>0</td>\n    </tr>\n    <tr>\n      <th>5969</th>\n      <td>mclaren</td>\n      <td>2007</td>\n      <td>alonso</td>\n      <td>0</td>\n    </tr>\n    <tr>\n      <th>...</th>\n      <td>...</td>\n      <td>...</td>\n      <td>...</td>\n      <td>...</td>\n    </tr>\n    <tr>\n      <th>6050</th>\n      <td>mclaren</td>\n      <td>2018</td>\n      <td>alonso</td>\n      <td>0</td>\n    </tr>\n    <tr>\n      <th>6051</th>\n      <td>mclaren</td>\n      <td>2018</td>\n      <td>alonso</td>\n      <td>0</td>\n    </tr>\n    <tr>\n      <th>6052</th>\n      <td>mclaren</td>\n      <td>2018</td>\n      <td>alonso</td>\n      <td>0</td>\n    </tr>\n    <tr>\n      <th>6053</th>\n      <td>mclaren</td>\n      <td>2018</td>\n      <td>alonso</td>\n      <td>0</td>\n    </tr>\n    <tr>\n      <th>6054</th>\n      <td>mclaren</td>\n      <td>1993</td>\n      <td>andretti</td>\n      <td>1</td>\n    </tr>\n  </tbody>\n</table>\n<p>90 rows × 4 columns</p>\n</div>"
     },
     "metadata": {},
     "execution_count": 5
    }
   ],
   "source": [
    "# Let's check Mclaren's career again, we should see the correct codification now!\n",
    "\n",
    "driver_change_dataset[['constructor','season','driver','change_drivers']][(driver_change_dataset['constructor']=='mclaren')].head(90)"
   ]
  },
  {
   "cell_type": "code",
   "execution_count": 6,
   "metadata": {},
   "outputs": [],
   "source": [
    "# Now let's sort things out in order to be able to use the dataset as a time series.\n",
    "\n",
    "driver_change_dataset = driver_change_dataset.sort_values(by=['season','round','constructor','driver']).reset_index().drop(['index'], axis=1)\n"
   ]
  },
  {
   "cell_type": "code",
   "execution_count": 7,
   "metadata": {},
   "outputs": [],
   "source": [
    "driver_change_dataset.to_csv(r'/Users/alejandropalacios/Desktop/Ironhack/Data Analytics Bootcamp/Advanced Data Analysis Techniques/Project/F1-Grand-Prix-Predictor/Data Manipulation/Modeling/driver_change_dataset.csv', index = False)"
   ]
  }
 ]
}