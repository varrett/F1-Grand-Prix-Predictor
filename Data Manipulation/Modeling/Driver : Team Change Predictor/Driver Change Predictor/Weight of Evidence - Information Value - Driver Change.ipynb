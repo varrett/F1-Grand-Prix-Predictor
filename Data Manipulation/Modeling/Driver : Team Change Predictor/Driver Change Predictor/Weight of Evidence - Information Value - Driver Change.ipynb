{
 "metadata": {
  "language_info": {
   "codemirror_mode": {
    "name": "ipython",
    "version": 3
   },
   "file_extension": ".py",
   "mimetype": "text/x-python",
   "name": "python",
   "nbconvert_exporter": "python",
   "pygments_lexer": "ipython3",
   "version": "3.7.6-final"
  },
  "orig_nbformat": 2,
  "kernelspec": {
   "name": "python_defaultSpec_1599364690192",
   "display_name": "Python 3.7.6 64-bit ('base': conda)"
  }
 },
 "nbformat": 4,
 "nbformat_minor": 2,
 "cells": [
  {
   "cell_type": "code",
   "execution_count": 1,
   "metadata": {},
   "outputs": [],
   "source": [
    "import pandas as pd\n",
    "import numpy as np\n",
    "\n",
    "import pandas.core.algorithms as algos\n",
    "from pandas import Series\n",
    "import scipy.stats.stats as stats\n",
    "import re\n",
    "import traceback\n",
    "import string"
   ]
  },
  {
   "cell_type": "code",
   "execution_count": 2,
   "metadata": {
    "tags": []
   },
   "outputs": [
    {
     "output_type": "stream",
     "name": "stdout",
     "text": "<class 'pandas.core.frame.DataFrame'>\nRangeIndex: 13720 entries, 0 to 13719\nData columns (total 26 columns):\n #   Column                             Non-Null Count  Dtype  \n---  ------                             --------------  -----  \n 0   constructor                        13720 non-null  object \n 1   season                             13720 non-null  int64  \n 2   round                              13720 non-null  int64  \n 3   circuit_id                         13720 non-null  object \n 4   weather_warm                       13720 non-null  bool   \n 5   weather_cold                       13720 non-null  bool   \n 6   weather_dry                        13720 non-null  bool   \n 7   weather_wet                        13720 non-null  bool   \n 8   weather_cloudy                     13720 non-null  bool   \n 9   driver                             13720 non-null  object \n 10  nationality                        13720 non-null  object \n 11  grid                               13720 non-null  int64  \n 12  podium                             13720 non-null  int64  \n 13  driver_points_after_race.1         13720 non-null  int64  \n 14  driver_wins_after_race.1           13720 non-null  int64  \n 15  driver_standings_pos_after_race.1  13720 non-null  int64  \n 16  driver_points                      13720 non-null  int64  \n 17  driver_wins                        13720 non-null  int64  \n 18  driver_standings_pos               13720 non-null  int64  \n 19  constructor_points                 13720 non-null  int64  \n 20  constructor_wins                   13720 non-null  int64  \n 21  constructor_standings_pos          13720 non-null  int64  \n 22  qualifying_time                    13720 non-null  float64\n 23  driver_age                         13720 non-null  int64  \n 24  wins_percentage                    8304 non-null   float64\n 25  change_drivers                     13720 non-null  int64  \ndtypes: bool(5), float64(2), int64(15), object(4)\nmemory usage: 2.3+ MB\n"
    }
   ],
   "source": [
    "df = pd.read_csv('/Users/alejandropalacios/Desktop/Ironhack/Data Analytics Bootcamp/Advanced Data Analysis Techniques/Project/F1-Grand-Prix-Predictor/Data Manipulation/Modeling/Modeled Databases/driver_change_dataset.csv')\n",
    "\n",
    "df.info()"
   ]
  },
  {
   "cell_type": "code",
   "execution_count": 3,
   "metadata": {},
   "outputs": [],
   "source": [
    "# There are two things that must be taken into account before running a WOE and IV process. \n",
    "\n",
    "# 1. Data must be CLEAN and FULL, no NULL VALUES: \n",
    "\n",
    "df = df.fillna(0)\n",
    "\n",
    "# 2. There should not be any continuous attributes. Attributes which represent age or anything continuous should be binned into 5–10 bins:\n",
    "\n",
    "max_bin = 5\n",
    "force_bin = 5"
   ]
  },
  {
   "cell_type": "code",
   "execution_count": 4,
   "metadata": {},
   "outputs": [],
   "source": [
    "# Now we will set our target variable.\n",
    "\n",
    "df['target'] = df['change_drivers']\n",
    "df = df.drop('change_drivers',axis=1)\n"
   ]
  },
  {
   "cell_type": "code",
   "execution_count": 5,
   "metadata": {},
   "outputs": [],
   "source": [
    "# define a binning function\n",
    "def mono_bin(Y, X, n = max_bin):\n",
    "    \n",
    "    df1 = pd.DataFrame({\"X\": X, \"Y\": Y})\n",
    "    justmiss = df1[['X','Y']][df1.X.isnull()]\n",
    "    notmiss = df1[['X','Y']][df1.X.notnull()]\n",
    "    r = 0\n",
    "    while np.abs(r) < 1:\n",
    "        try:\n",
    "            d1 = pd.DataFrame({\"X\": notmiss.X, \"Y\": notmiss.Y, \"Bucket\": pd.qcut(notmiss.X, n)})\n",
    "            d2 = d1.groupby('Bucket', as_index=True)\n",
    "            r, p = stats.spearmanr(d2.mean().X, d2.mean().Y)\n",
    "            n = n - 1 \n",
    "        except Exception as e:\n",
    "            n = n - 1\n",
    "\n",
    "    if len(d2) == 1:\n",
    "        n = force_bin         \n",
    "        bins = algos.quantile(notmiss.X, np.linspace(0, 1, n))\n",
    "        if len(np.unique(bins)) == 2:\n",
    "            bins = np.insert(bins, 0, 1)\n",
    "            bins[1] = bins[1]-(bins[1]/2)\n",
    "        d1 = pd.DataFrame({\"X\": notmiss.X, \"Y\": notmiss.Y, \"Bucket\": pd.cut(notmiss.X, np.unique(bins),include_lowest=True)}) \n",
    "        d2 = d1.groupby('Bucket', as_index=True)\n",
    "    \n",
    "    d3 = pd.DataFrame({},index=[])\n",
    "    d3[\"MIN_VALUE\"] = d2.min().X\n",
    "    d3[\"MAX_VALUE\"] = d2.max().X\n",
    "    d3[\"COUNT\"] = d2.count().Y\n",
    "    d3[\"EVENT\"] = d2.sum().Y\n",
    "    d3[\"NONEVENT\"] = d2.count().Y - d2.sum().Y\n",
    "    d3=d3.reset_index(drop=True)\n",
    "    \n",
    "    if len(justmiss.index) > 0:\n",
    "        d4 = pd.DataFrame({'MIN_VALUE':np.nan},index=[0])\n",
    "        d4[\"MAX_VALUE\"] = np.nan\n",
    "        d4[\"COUNT\"] = justmiss.count().Y\n",
    "        d4[\"EVENT\"] = justmiss.sum().Y\n",
    "        d4[\"NONEVENT\"] = justmiss.count().Y - justmiss.sum().Y\n",
    "        d3 = d3.append(d4,ignore_index=True)\n",
    "    \n",
    "    d3[\"EVENT_RATE\"] = d3.EVENT/d3.COUNT\n",
    "    d3[\"NON_EVENT_RATE\"] = d3.NONEVENT/d3.COUNT\n",
    "    d3[\"DIST_EVENT\"] = d3.EVENT/d3.sum().EVENT\n",
    "    d3[\"DIST_NON_EVENT\"] = d3.NONEVENT/d3.sum().NONEVENT\n",
    "    d3[\"WOE\"] = np.log(d3.DIST_EVENT/d3.DIST_NON_EVENT)\n",
    "    d3[\"IV\"] = (d3.DIST_EVENT-d3.DIST_NON_EVENT)*np.log(d3.DIST_EVENT/d3.DIST_NON_EVENT)\n",
    "    d3[\"VAR_NAME\"] = \"VAR\"\n",
    "    d3 = d3[['VAR_NAME','MIN_VALUE', 'MAX_VALUE', 'COUNT', 'EVENT', 'EVENT_RATE', 'NONEVENT', 'NON_EVENT_RATE', 'DIST_EVENT','DIST_NON_EVENT','WOE', 'IV']]       \n",
    "    d3 = d3.replace([np.inf, -np.inf], 0)\n",
    "    d3.IV = d3.IV.sum()\n",
    "    \n",
    "    return(d3)\n",
    "\n",
    "def char_bin(Y, X):\n",
    "        \n",
    "    df1 = pd.DataFrame({\"X\": X, \"Y\": Y})\n",
    "    justmiss = df1[['X','Y']][df1.X.isnull()]\n",
    "    notmiss = df1[['X','Y']][df1.X.notnull()]    \n",
    "    df2 = notmiss.groupby('X',as_index=True)\n",
    "    \n",
    "    d3 = pd.DataFrame({},index=[])\n",
    "    d3[\"COUNT\"] = df2.count().Y\n",
    "    d3[\"MIN_VALUE\"] = df2.sum().Y.index\n",
    "    d3[\"MAX_VALUE\"] = d3[\"MIN_VALUE\"]\n",
    "    d3[\"EVENT\"] = df2.sum().Y\n",
    "    d3[\"NONEVENT\"] = df2.count().Y - df2.sum().Y\n",
    "    \n",
    "    if len(justmiss.index) > 0:\n",
    "        d4 = pd.DataFrame({'MIN_VALUE':np.nan},index=[0])\n",
    "        d4[\"MAX_VALUE\"] = np.nan\n",
    "        d4[\"COUNT\"] = justmiss.count().Y\n",
    "        d4[\"EVENT\"] = justmiss.sum().Y\n",
    "        d4[\"NONEVENT\"] = justmiss.count().Y - justmiss.sum().Y\n",
    "        d3 = d3.append(d4,ignore_index=True)\n",
    "    \n",
    "    d3[\"EVENT_RATE\"] = d3.EVENT/d3.COUNT\n",
    "    d3[\"NON_EVENT_RATE\"] = d3.NONEVENT/d3.COUNT\n",
    "    d3[\"DIST_EVENT\"] = d3.EVENT/d3.sum().EVENT\n",
    "    d3[\"DIST_NON_EVENT\"] = d3.NONEVENT/d3.sum().NONEVENT\n",
    "    d3[\"WOE\"] = np.log(d3.DIST_EVENT/d3.DIST_NON_EVENT)\n",
    "    d3[\"IV\"] = (d3.DIST_EVENT-d3.DIST_NON_EVENT)*np.log(d3.DIST_EVENT/d3.DIST_NON_EVENT)\n",
    "    d3[\"VAR_NAME\"] = \"VAR\"\n",
    "    d3 = d3[['VAR_NAME','MIN_VALUE', 'MAX_VALUE', 'COUNT', 'EVENT', 'EVENT_RATE', 'NONEVENT', 'NON_EVENT_RATE', 'DIST_EVENT','DIST_NON_EVENT','WOE', 'IV']]      \n",
    "    d3 = d3.replace([np.inf, -np.inf], 0)\n",
    "    d3.IV = d3.IV.sum()\n",
    "    d3 = d3.reset_index(drop=True)\n",
    "    \n",
    "    return(d3)\n",
    "\n",
    "def data_vars(df1, target):\n",
    "    \n",
    "    stack = traceback.extract_stack()\n",
    "    filename, lineno, function_name, code = stack[-2]\n",
    "    vars_name = re.compile(r'\\((.*?)\\).*$').search(code).groups()[0]\n",
    "    final = (re.findall(r\"[\\w']+\", vars_name))[-1]\n",
    "    \n",
    "    x = df1.dtypes.index\n",
    "    count = -1\n",
    "    \n",
    "    for i in x:\n",
    "        if i.upper() not in (final.upper()):\n",
    "            if np.issubdtype(df1[i], np.number) and len(Series.unique(df1[i])) > 2:\n",
    "                conv = mono_bin(target, df1[i])\n",
    "                conv[\"VAR_NAME\"] = i\n",
    "                count = count + 1\n",
    "            else:\n",
    "                conv = char_bin(target, df1[i])\n",
    "                conv[\"VAR_NAME\"] = i            \n",
    "                count = count + 1\n",
    "                \n",
    "            if count == 0:\n",
    "                iv_df = conv\n",
    "            else:\n",
    "                iv_df = iv_df.append(conv,ignore_index=True)\n",
    "    \n",
    "    iv = pd.DataFrame({'IV':iv_df.groupby('VAR_NAME').IV.max()})\n",
    "    iv = iv.reset_index()\n",
    "    return(iv_df,iv)"
   ]
  },
  {
   "cell_type": "code",
   "execution_count": 6,
   "metadata": {},
   "outputs": [],
   "source": [
    "final_iv, IV = data_vars(df,df.target)"
   ]
  },
  {
   "cell_type": "code",
   "execution_count": 7,
   "metadata": {},
   "outputs": [
    {
     "output_type": "execute_result",
     "data": {
      "text/plain": "            VAR_NAME MIN_VALUE MAX_VALUE  COUNT  EVENT  EVENT_RATE  NONEVENT  \\\n0        constructor       ags       ags     41      5    0.121951        36   \n1        constructor      alfa      alfa    129      6    0.046512       123   \n2        constructor    arrows    arrows    407     20    0.049140       387   \n3        constructor       ats       ats     30      2    0.066667        28   \n4        constructor       bar       bar    198      6    0.030303       192   \n..               ...       ...       ...    ...    ...         ...       ...   \n415       driver_age        17        25   3829    212    0.055367      3617   \n416       driver_age        26        28   3193    125    0.039148      3068   \n417       driver_age        29        32   3704    126    0.034017      3578   \n418       driver_age        33        43   2994     89    0.029726      2905   \n419  wins_percentage         0         1  13720    552    0.040233     13168   \n\n     NON_EVENT_RATE  DIST_EVENT  DIST_NON_EVENT       WOE        IV  \n0          0.878049    0.009058        0.002734  1.197916  0.337368  \n1          0.953488    0.010870        0.009341  0.151572  0.337368  \n2          0.950860    0.036232        0.029389  0.209304  0.337368  \n3          0.933333    0.003623        0.002126  0.532940  0.337368  \n4          0.969697    0.010870        0.014581 -0.293739  0.337368  \n..              ...         ...             ...       ...       ...  \n415        0.944633    0.384058        0.274681  0.335183  0.063040  \n416        0.960852    0.226449        0.232989 -0.028471  0.063040  \n417        0.965983    0.228261        0.271719 -0.174280  0.063040  \n418        0.970274    0.161232        0.220611 -0.313555  0.063040  \n419        0.959767    1.000000        1.000000  0.000000  0.000000  \n\n[420 rows x 12 columns]",
      "text/html": "<div>\n<style scoped>\n    .dataframe tbody tr th:only-of-type {\n        vertical-align: middle;\n    }\n\n    .dataframe tbody tr th {\n        vertical-align: top;\n    }\n\n    .dataframe thead th {\n        text-align: right;\n    }\n</style>\n<table border=\"1\" class=\"dataframe\">\n  <thead>\n    <tr style=\"text-align: right;\">\n      <th></th>\n      <th>VAR_NAME</th>\n      <th>MIN_VALUE</th>\n      <th>MAX_VALUE</th>\n      <th>COUNT</th>\n      <th>EVENT</th>\n      <th>EVENT_RATE</th>\n      <th>NONEVENT</th>\n      <th>NON_EVENT_RATE</th>\n      <th>DIST_EVENT</th>\n      <th>DIST_NON_EVENT</th>\n      <th>WOE</th>\n      <th>IV</th>\n    </tr>\n  </thead>\n  <tbody>\n    <tr>\n      <th>0</th>\n      <td>constructor</td>\n      <td>ags</td>\n      <td>ags</td>\n      <td>41</td>\n      <td>5</td>\n      <td>0.121951</td>\n      <td>36</td>\n      <td>0.878049</td>\n      <td>0.009058</td>\n      <td>0.002734</td>\n      <td>1.197916</td>\n      <td>0.337368</td>\n    </tr>\n    <tr>\n      <th>1</th>\n      <td>constructor</td>\n      <td>alfa</td>\n      <td>alfa</td>\n      <td>129</td>\n      <td>6</td>\n      <td>0.046512</td>\n      <td>123</td>\n      <td>0.953488</td>\n      <td>0.010870</td>\n      <td>0.009341</td>\n      <td>0.151572</td>\n      <td>0.337368</td>\n    </tr>\n    <tr>\n      <th>2</th>\n      <td>constructor</td>\n      <td>arrows</td>\n      <td>arrows</td>\n      <td>407</td>\n      <td>20</td>\n      <td>0.049140</td>\n      <td>387</td>\n      <td>0.950860</td>\n      <td>0.036232</td>\n      <td>0.029389</td>\n      <td>0.209304</td>\n      <td>0.337368</td>\n    </tr>\n    <tr>\n      <th>3</th>\n      <td>constructor</td>\n      <td>ats</td>\n      <td>ats</td>\n      <td>30</td>\n      <td>2</td>\n      <td>0.066667</td>\n      <td>28</td>\n      <td>0.933333</td>\n      <td>0.003623</td>\n      <td>0.002126</td>\n      <td>0.532940</td>\n      <td>0.337368</td>\n    </tr>\n    <tr>\n      <th>4</th>\n      <td>constructor</td>\n      <td>bar</td>\n      <td>bar</td>\n      <td>198</td>\n      <td>6</td>\n      <td>0.030303</td>\n      <td>192</td>\n      <td>0.969697</td>\n      <td>0.010870</td>\n      <td>0.014581</td>\n      <td>-0.293739</td>\n      <td>0.337368</td>\n    </tr>\n    <tr>\n      <th>...</th>\n      <td>...</td>\n      <td>...</td>\n      <td>...</td>\n      <td>...</td>\n      <td>...</td>\n      <td>...</td>\n      <td>...</td>\n      <td>...</td>\n      <td>...</td>\n      <td>...</td>\n      <td>...</td>\n      <td>...</td>\n    </tr>\n    <tr>\n      <th>415</th>\n      <td>driver_age</td>\n      <td>17</td>\n      <td>25</td>\n      <td>3829</td>\n      <td>212</td>\n      <td>0.055367</td>\n      <td>3617</td>\n      <td>0.944633</td>\n      <td>0.384058</td>\n      <td>0.274681</td>\n      <td>0.335183</td>\n      <td>0.063040</td>\n    </tr>\n    <tr>\n      <th>416</th>\n      <td>driver_age</td>\n      <td>26</td>\n      <td>28</td>\n      <td>3193</td>\n      <td>125</td>\n      <td>0.039148</td>\n      <td>3068</td>\n      <td>0.960852</td>\n      <td>0.226449</td>\n      <td>0.232989</td>\n      <td>-0.028471</td>\n      <td>0.063040</td>\n    </tr>\n    <tr>\n      <th>417</th>\n      <td>driver_age</td>\n      <td>29</td>\n      <td>32</td>\n      <td>3704</td>\n      <td>126</td>\n      <td>0.034017</td>\n      <td>3578</td>\n      <td>0.965983</td>\n      <td>0.228261</td>\n      <td>0.271719</td>\n      <td>-0.174280</td>\n      <td>0.063040</td>\n    </tr>\n    <tr>\n      <th>418</th>\n      <td>driver_age</td>\n      <td>33</td>\n      <td>43</td>\n      <td>2994</td>\n      <td>89</td>\n      <td>0.029726</td>\n      <td>2905</td>\n      <td>0.970274</td>\n      <td>0.161232</td>\n      <td>0.220611</td>\n      <td>-0.313555</td>\n      <td>0.063040</td>\n    </tr>\n    <tr>\n      <th>419</th>\n      <td>wins_percentage</td>\n      <td>0</td>\n      <td>1</td>\n      <td>13720</td>\n      <td>552</td>\n      <td>0.040233</td>\n      <td>13168</td>\n      <td>0.959767</td>\n      <td>1.000000</td>\n      <td>1.000000</td>\n      <td>0.000000</td>\n      <td>0.000000</td>\n    </tr>\n  </tbody>\n</table>\n<p>420 rows × 12 columns</p>\n</div>"
     },
     "metadata": {},
     "execution_count": 7
    }
   ],
   "source": [
    "final_iv"
   ]
  },
  {
   "cell_type": "code",
   "execution_count": 8,
   "metadata": {},
   "outputs": [
    {
     "output_type": "execute_result",
     "data": {
      "text/plain": "                             VAR_NAME        IV\n24                    wins_percentage  0.000000\n22                       weather_warm  0.000001\n20                       weather_cold  0.004135\n11                        driver_wins  0.006613\n12           driver_wins_after_race.1  0.008239\n23                        weather_wet  0.008712\n19                     weather_cloudy  0.016528\n21                        weather_dry  0.043525\n6                          driver_age  0.063040\n15                             podium  0.066968\n18                             season  0.094144\n14                        nationality  0.101468\n13                               grid  0.247614\n16                    qualifying_time  0.321425\n1                         constructor  0.337368\n4                    constructor_wins  0.342068\n3           constructor_standings_pos  0.537850\n5                              driver  0.573248\n17                              round  0.888023\n2                  constructor_points  1.262097\n0                          circuit_id  1.791553\n8          driver_points_after_race.1  1.988213\n7                       driver_points  1.990524\n10  driver_standings_pos_after_race.1  2.152149\n9                driver_standings_pos  2.806385",
      "text/html": "<div>\n<style scoped>\n    .dataframe tbody tr th:only-of-type {\n        vertical-align: middle;\n    }\n\n    .dataframe tbody tr th {\n        vertical-align: top;\n    }\n\n    .dataframe thead th {\n        text-align: right;\n    }\n</style>\n<table border=\"1\" class=\"dataframe\">\n  <thead>\n    <tr style=\"text-align: right;\">\n      <th></th>\n      <th>VAR_NAME</th>\n      <th>IV</th>\n    </tr>\n  </thead>\n  <tbody>\n    <tr>\n      <th>24</th>\n      <td>wins_percentage</td>\n      <td>0.000000</td>\n    </tr>\n    <tr>\n      <th>22</th>\n      <td>weather_warm</td>\n      <td>0.000001</td>\n    </tr>\n    <tr>\n      <th>20</th>\n      <td>weather_cold</td>\n      <td>0.004135</td>\n    </tr>\n    <tr>\n      <th>11</th>\n      <td>driver_wins</td>\n      <td>0.006613</td>\n    </tr>\n    <tr>\n      <th>12</th>\n      <td>driver_wins_after_race.1</td>\n      <td>0.008239</td>\n    </tr>\n    <tr>\n      <th>23</th>\n      <td>weather_wet</td>\n      <td>0.008712</td>\n    </tr>\n    <tr>\n      <th>19</th>\n      <td>weather_cloudy</td>\n      <td>0.016528</td>\n    </tr>\n    <tr>\n      <th>21</th>\n      <td>weather_dry</td>\n      <td>0.043525</td>\n    </tr>\n    <tr>\n      <th>6</th>\n      <td>driver_age</td>\n      <td>0.063040</td>\n    </tr>\n    <tr>\n      <th>15</th>\n      <td>podium</td>\n      <td>0.066968</td>\n    </tr>\n    <tr>\n      <th>18</th>\n      <td>season</td>\n      <td>0.094144</td>\n    </tr>\n    <tr>\n      <th>14</th>\n      <td>nationality</td>\n      <td>0.101468</td>\n    </tr>\n    <tr>\n      <th>13</th>\n      <td>grid</td>\n      <td>0.247614</td>\n    </tr>\n    <tr>\n      <th>16</th>\n      <td>qualifying_time</td>\n      <td>0.321425</td>\n    </tr>\n    <tr>\n      <th>1</th>\n      <td>constructor</td>\n      <td>0.337368</td>\n    </tr>\n    <tr>\n      <th>4</th>\n      <td>constructor_wins</td>\n      <td>0.342068</td>\n    </tr>\n    <tr>\n      <th>3</th>\n      <td>constructor_standings_pos</td>\n      <td>0.537850</td>\n    </tr>\n    <tr>\n      <th>5</th>\n      <td>driver</td>\n      <td>0.573248</td>\n    </tr>\n    <tr>\n      <th>17</th>\n      <td>round</td>\n      <td>0.888023</td>\n    </tr>\n    <tr>\n      <th>2</th>\n      <td>constructor_points</td>\n      <td>1.262097</td>\n    </tr>\n    <tr>\n      <th>0</th>\n      <td>circuit_id</td>\n      <td>1.791553</td>\n    </tr>\n    <tr>\n      <th>8</th>\n      <td>driver_points_after_race.1</td>\n      <td>1.988213</td>\n    </tr>\n    <tr>\n      <th>7</th>\n      <td>driver_points</td>\n      <td>1.990524</td>\n    </tr>\n    <tr>\n      <th>10</th>\n      <td>driver_standings_pos_after_race.1</td>\n      <td>2.152149</td>\n    </tr>\n    <tr>\n      <th>9</th>\n      <td>driver_standings_pos</td>\n      <td>2.806385</td>\n    </tr>\n  </tbody>\n</table>\n</div>"
     },
     "metadata": {},
     "execution_count": 8
    }
   ],
   "source": [
    "IV.sort_values('IV')"
   ]
  },
  {
   "cell_type": "code",
   "execution_count": 9,
   "metadata": {},
   "outputs": [
    {
     "output_type": "execute_result",
     "data": {
      "text/plain": "' \\n\\nImportant notes:\\n\\nBy the Sturges Rule, the number of groups or classes is 1 + 3.3 log n, where n is the number of observations. Thus, using the number of our registrations:\\n\\n1 + 3.3 log(13720) = 5.1373541114\\n\\nThis means we should be using 5 bins for our WOE and IV Studies. \\n\\nMoreover, the following Variables will be used based on our results (in order of Predictive Power):\\n\\n- constructor_standings_pos\\n- constructor_wins\\n- driver\\n- qualifying_time\\n- constructor\\n- podium\\n\\n'"
     },
     "metadata": {},
     "execution_count": 9
    }
   ],
   "source": [
    "\"\"\" \n",
    "\n",
    "Important notes:\n",
    "\n",
    "By the Sturges Rule, the number of groups or classes is 1 + 3.3 log n, where n is the number of observations. Thus, using the number of our registrations:\n",
    "\n",
    "1 + 3.3 log(13720) = 5.1373541114\n",
    "\n",
    "This means we should be using 5 bins for our WOE and IV Studies. \n",
    "\n",
    "Moreover, the following Variables will be used based on our results (in order of Predictive Power):\n",
    "\n",
    "- nationality\n",
    "- grid\t\n",
    "- qualifying_time\n",
    "- constructor\n",
    "- constructor_wins\n",
    "- constructor_standings_pos\n",
    "- driver\n",
    "\n",
    "\"\"\""
   ]
  }
 ]
}