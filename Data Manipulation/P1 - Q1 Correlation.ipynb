{
 "cells": [
  {
   "cell_type": "code",
   "execution_count": 1,
   "metadata": {},
   "outputs": [],
   "source": [
    "import pandas as pd\n",
    "import numpy as np"
   ]
  },
  {
   "cell_type": "code",
   "execution_count": 2,
   "metadata": {},
   "outputs": [],
   "source": [
    "results = pd.read_csv('/Users/alejandropalacios/Desktop/Ironhack/Data Analytics Bootcamp/Advanced Data Analysis Techniques/Project/F1-Grand-Prix-Predictor/Data Collection/results.csv')"
   ]
  },
  {
   "cell_type": "code",
   "execution_count": 3,
   "metadata": {},
   "outputs": [
    {
     "output_type": "execute_result",
     "data": {
      "text/plain": "   season  round   circuit_id       driver date_of_birth nationality  \\\n0    1950      1  silverstone       farina    1906-10-30     Italian   \n1    1950      1  silverstone      fagioli    1898-06-09     Italian   \n2    1950      1  silverstone  reg_parnell    1911-07-02     British   \n3    1950      1  silverstone    cabantous    1904-10-08      French   \n4    1950      1  silverstone       rosier    1905-11-05      French   \n\n  constructor  grid       time    status  points  podium  \n0        alfa     1  8003600.0  Finished     9.0       1  \n1        alfa     2  8006200.0  Finished     6.0       2  \n2        alfa     4  8055600.0  Finished     4.0       3  \n3        lago     6        NaN   +2 Laps     3.0       4  \n4        lago     9        NaN   +2 Laps     2.0       5  ",
      "text/html": "<div>\n<style scoped>\n    .dataframe tbody tr th:only-of-type {\n        vertical-align: middle;\n    }\n\n    .dataframe tbody tr th {\n        vertical-align: top;\n    }\n\n    .dataframe thead th {\n        text-align: right;\n    }\n</style>\n<table border=\"1\" class=\"dataframe\">\n  <thead>\n    <tr style=\"text-align: right;\">\n      <th></th>\n      <th>season</th>\n      <th>round</th>\n      <th>circuit_id</th>\n      <th>driver</th>\n      <th>date_of_birth</th>\n      <th>nationality</th>\n      <th>constructor</th>\n      <th>grid</th>\n      <th>time</th>\n      <th>status</th>\n      <th>points</th>\n      <th>podium</th>\n    </tr>\n  </thead>\n  <tbody>\n    <tr>\n      <th>0</th>\n      <td>1950</td>\n      <td>1</td>\n      <td>silverstone</td>\n      <td>farina</td>\n      <td>1906-10-30</td>\n      <td>Italian</td>\n      <td>alfa</td>\n      <td>1</td>\n      <td>8003600.0</td>\n      <td>Finished</td>\n      <td>9.0</td>\n      <td>1</td>\n    </tr>\n    <tr>\n      <th>1</th>\n      <td>1950</td>\n      <td>1</td>\n      <td>silverstone</td>\n      <td>fagioli</td>\n      <td>1898-06-09</td>\n      <td>Italian</td>\n      <td>alfa</td>\n      <td>2</td>\n      <td>8006200.0</td>\n      <td>Finished</td>\n      <td>6.0</td>\n      <td>2</td>\n    </tr>\n    <tr>\n      <th>2</th>\n      <td>1950</td>\n      <td>1</td>\n      <td>silverstone</td>\n      <td>reg_parnell</td>\n      <td>1911-07-02</td>\n      <td>British</td>\n      <td>alfa</td>\n      <td>4</td>\n      <td>8055600.0</td>\n      <td>Finished</td>\n      <td>4.0</td>\n      <td>3</td>\n    </tr>\n    <tr>\n      <th>3</th>\n      <td>1950</td>\n      <td>1</td>\n      <td>silverstone</td>\n      <td>cabantous</td>\n      <td>1904-10-08</td>\n      <td>French</td>\n      <td>lago</td>\n      <td>6</td>\n      <td>NaN</td>\n      <td>+2 Laps</td>\n      <td>3.0</td>\n      <td>4</td>\n    </tr>\n    <tr>\n      <th>4</th>\n      <td>1950</td>\n      <td>1</td>\n      <td>silverstone</td>\n      <td>rosier</td>\n      <td>1905-11-05</td>\n      <td>French</td>\n      <td>lago</td>\n      <td>9</td>\n      <td>NaN</td>\n      <td>+2 Laps</td>\n      <td>2.0</td>\n      <td>5</td>\n    </tr>\n  </tbody>\n</table>\n</div>"
     },
     "metadata": {},
     "execution_count": 3
    }
   ],
   "source": [
    "results.head()"
   ]
  },
  {
   "cell_type": "code",
   "execution_count": 26,
   "metadata": {
    "tags": []
   },
   "outputs": [
    {
     "output_type": "execute_result",
     "data": {
      "text/plain": "      season      circuit_id level_2    podium\n0       2012     hungaroring    grid  0.937391\n1       2007     hungaroring    grid  0.922078\n2       1958        boavista    grid  0.921429\n3       2010         bahrain    grid  0.914783\n4       2010  hockenheimring    grid  0.903478\n...      ...             ...     ...       ...\n1013    1963           monza    grid -0.541563\n1014    1962             spa    grid -0.557500\n1015    1970          jarama    grid -0.583853\n1016    1981          monaco    grid -0.608286\n1017    1958          monaco    grid -0.721949\n\n[1018 rows x 4 columns]",
      "text/html": "<div>\n<style scoped>\n    .dataframe tbody tr th:only-of-type {\n        vertical-align: middle;\n    }\n\n    .dataframe tbody tr th {\n        vertical-align: top;\n    }\n\n    .dataframe thead th {\n        text-align: right;\n    }\n</style>\n<table border=\"1\" class=\"dataframe\">\n  <thead>\n    <tr style=\"text-align: right;\">\n      <th></th>\n      <th>season</th>\n      <th>circuit_id</th>\n      <th>level_2</th>\n      <th>podium</th>\n    </tr>\n  </thead>\n  <tbody>\n    <tr>\n      <th>0</th>\n      <td>2012</td>\n      <td>hungaroring</td>\n      <td>grid</td>\n      <td>0.937391</td>\n    </tr>\n    <tr>\n      <th>1</th>\n      <td>2007</td>\n      <td>hungaroring</td>\n      <td>grid</td>\n      <td>0.922078</td>\n    </tr>\n    <tr>\n      <th>2</th>\n      <td>1958</td>\n      <td>boavista</td>\n      <td>grid</td>\n      <td>0.921429</td>\n    </tr>\n    <tr>\n      <th>3</th>\n      <td>2010</td>\n      <td>bahrain</td>\n      <td>grid</td>\n      <td>0.914783</td>\n    </tr>\n    <tr>\n      <th>4</th>\n      <td>2010</td>\n      <td>hockenheimring</td>\n      <td>grid</td>\n      <td>0.903478</td>\n    </tr>\n    <tr>\n      <th>...</th>\n      <td>...</td>\n      <td>...</td>\n      <td>...</td>\n      <td>...</td>\n    </tr>\n    <tr>\n      <th>1013</th>\n      <td>1963</td>\n      <td>monza</td>\n      <td>grid</td>\n      <td>-0.541563</td>\n    </tr>\n    <tr>\n      <th>1014</th>\n      <td>1962</td>\n      <td>spa</td>\n      <td>grid</td>\n      <td>-0.557500</td>\n    </tr>\n    <tr>\n      <th>1015</th>\n      <td>1970</td>\n      <td>jarama</td>\n      <td>grid</td>\n      <td>-0.583853</td>\n    </tr>\n    <tr>\n      <th>1016</th>\n      <td>1981</td>\n      <td>monaco</td>\n      <td>grid</td>\n      <td>-0.608286</td>\n    </tr>\n    <tr>\n      <th>1017</th>\n      <td>1958</td>\n      <td>monaco</td>\n      <td>grid</td>\n      <td>-0.721949</td>\n    </tr>\n  </tbody>\n</table>\n<p>1018 rows × 4 columns</p>\n</div>"
     },
     "metadata": {},
     "execution_count": 26
    }
   ],
   "source": [
    "Q1_P1 = results.groupby(['season', 'circuit_id'])[['grid', 'podium']].corr().iloc[0::2,-1].sort_values(ascending=False)\n",
    "\n",
    "Q1_P1_df = pd.DataFrame(Q1_P1).reset_index()\n",
    "\n",
    "Q1_P1_df"
   ]
  },
  {
   "cell_type": "code",
   "execution_count": 27,
   "metadata": {},
   "outputs": [],
   "source": [
    "\n",
    "Q1_P1_df.to_csv('/Users/alejandropalacios/Desktop/Ironhack/Data Analytics Bootcamp/Advanced Data Analysis Techniques/Project/F1-Grand-Prix-Predictor/Data Manipulation/Visualization/Q1_P1.csv', index= False)"
   ]
  },
  {
   "cell_type": "code",
   "execution_count": null,
   "metadata": {},
   "outputs": [],
   "source": []
  }
 ],
 "metadata": {
  "language_info": {
   "codemirror_mode": {
    "name": "ipython",
    "version": 3
   },
   "file_extension": ".py",
   "mimetype": "text/x-python",
   "name": "python",
   "nbconvert_exporter": "python",
   "pygments_lexer": "ipython3",
   "version": "3.7.6-final"
  },
  "orig_nbformat": 2,
  "kernelspec": {
   "name": "python37664bitanaconda3virtualenv0697af1ee67a458e9253591065064715",
   "display_name": "Python 3.7.6 64-bit ('anaconda3': virtualenv)"
  }
 },
 "nbformat": 4,
 "nbformat_minor": 2
}