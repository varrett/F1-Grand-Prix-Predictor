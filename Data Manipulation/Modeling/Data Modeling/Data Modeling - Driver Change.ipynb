{
 "metadata": {
  "language_info": {
   "codemirror_mode": {
    "name": "ipython",
    "version": 3
   },
   "file_extension": ".py",
   "mimetype": "text/x-python",
   "name": "python",
   "nbconvert_exporter": "python",
   "pygments_lexer": "ipython3",
   "version": "3.7.6-final"
  },
  "orig_nbformat": 2,
  "kernelspec": {
   "name": "python_defaultSpec_1599704077202",
   "display_name": "Python 3.7.6 64-bit ('base': conda)"
  }
 },
 "nbformat": 4,
 "nbformat_minor": 2,
 "cells": [
  {
   "cell_type": "code",
   "execution_count": 1,
   "metadata": {},
   "outputs": [],
   "source": [
    "import numpy as np\n",
    "import pandas as pd"
   ]
  },
  {
   "cell_type": "code",
   "execution_count": 2,
   "metadata": {
    "tags": []
   },
   "outputs": [],
   "source": [
    "dataset = pd.read_csv(\"/Users/alejandropalacios/Desktop/Ironhack/Data Analytics Bootcamp/Advanced Data Analysis Techniques/Project/F1-Grand-Prix-Predictor/Data Manipulation/Modeling/Modeled Databases/final_df_complete.csv\")\n"
   ]
  },
  {
   "cell_type": "code",
   "execution_count": 3,
   "metadata": {},
   "outputs": [
    {
     "output_type": "execute_result",
     "data": {
      "text/plain": "  constructor  season  round      circuit_id  weather_warm  weather_cold  \\\n0        alfa    1983      1     jacarepagua         False         False   \n1        alfa    1983      2      long_beach          True         False   \n2        alfa    1983      3          ricard         False         False   \n3        alfa    1983      4           imola         False         False   \n4        alfa    1983      5          monaco         False         False   \n5        alfa    1983      6             spa         False         False   \n6        alfa    1983      7         detroit          True         False   \n7        alfa    1983      8      villeneuve          True         False   \n8        alfa    1983      9     silverstone         False         False   \n9        alfa    1983     10  hockenheimring         False         False   \n\n   weather_dry  weather_wet  weather_cloudy driver  ...  \\\n0         True        False           False  baldi  ...   \n1        False        False           False  baldi  ...   \n2        False        False            True  baldi  ...   \n3        False        False           False  baldi  ...   \n4        False         True           False  baldi  ...   \n5        False        False           False  baldi  ...   \n6        False        False           False  baldi  ...   \n7        False        False           False  baldi  ...   \n8        False        False           False  baldi  ...   \n9         True        False           False  baldi  ...   \n\n  driver_standings_pos_after_race.1  driver_points  driver_wins  \\\n0                                 0              0            0   \n1                                19              0            0   \n2                                26              0            0   \n3                                28              0            0   \n4                                19              0            0   \n5                                12              0            0   \n6                                13              1            0   \n7                                14              1            0   \n8                                13              1            0   \n9                                14              1            0   \n\n   driver_standings_pos  constructor_points  constructor_wins  \\\n0                     0                   0                 0   \n1                     0                   0                 0   \n2                    19                   0                 0   \n3                    26                   0                 0   \n4                    28                   0                 0   \n5                    19                   1                 0   \n6                    12                   1                 0   \n7                    13                   1                 0   \n8                    14                   1                 0   \n9                    13                   1                 0   \n\n   constructor_standings_pos  qualifying_time  driver_age  wins_percentage  \n0                          0            1.454          29              NaN  \n1                         14            3.953          29              NaN  \n2                         14            2.946          29              NaN  \n3                         12            3.762          29              0.0  \n4                         11            3.799          29              0.0  \n5                          8            4.610          29              NaN  \n6                          9            5.182          29              0.0  \n7                         10            6.026          29              0.0  \n8                          9            3.398          29              NaN  \n9                          9            2.539          29              NaN  \n\n[10 rows x 25 columns]",
      "text/html": "<div>\n<style scoped>\n    .dataframe tbody tr th:only-of-type {\n        vertical-align: middle;\n    }\n\n    .dataframe tbody tr th {\n        vertical-align: top;\n    }\n\n    .dataframe thead th {\n        text-align: right;\n    }\n</style>\n<table border=\"1\" class=\"dataframe\">\n  <thead>\n    <tr style=\"text-align: right;\">\n      <th></th>\n      <th>constructor</th>\n      <th>season</th>\n      <th>round</th>\n      <th>circuit_id</th>\n      <th>weather_warm</th>\n      <th>weather_cold</th>\n      <th>weather_dry</th>\n      <th>weather_wet</th>\n      <th>weather_cloudy</th>\n      <th>driver</th>\n      <th>...</th>\n      <th>driver_standings_pos_after_race.1</th>\n      <th>driver_points</th>\n      <th>driver_wins</th>\n      <th>driver_standings_pos</th>\n      <th>constructor_points</th>\n      <th>constructor_wins</th>\n      <th>constructor_standings_pos</th>\n      <th>qualifying_time</th>\n      <th>driver_age</th>\n      <th>wins_percentage</th>\n    </tr>\n  </thead>\n  <tbody>\n    <tr>\n      <th>0</th>\n      <td>alfa</td>\n      <td>1983</td>\n      <td>1</td>\n      <td>jacarepagua</td>\n      <td>False</td>\n      <td>False</td>\n      <td>True</td>\n      <td>False</td>\n      <td>False</td>\n      <td>baldi</td>\n      <td>...</td>\n      <td>0</td>\n      <td>0</td>\n      <td>0</td>\n      <td>0</td>\n      <td>0</td>\n      <td>0</td>\n      <td>0</td>\n      <td>1.454</td>\n      <td>29</td>\n      <td>NaN</td>\n    </tr>\n    <tr>\n      <th>1</th>\n      <td>alfa</td>\n      <td>1983</td>\n      <td>2</td>\n      <td>long_beach</td>\n      <td>True</td>\n      <td>False</td>\n      <td>False</td>\n      <td>False</td>\n      <td>False</td>\n      <td>baldi</td>\n      <td>...</td>\n      <td>19</td>\n      <td>0</td>\n      <td>0</td>\n      <td>0</td>\n      <td>0</td>\n      <td>0</td>\n      <td>14</td>\n      <td>3.953</td>\n      <td>29</td>\n      <td>NaN</td>\n    </tr>\n    <tr>\n      <th>2</th>\n      <td>alfa</td>\n      <td>1983</td>\n      <td>3</td>\n      <td>ricard</td>\n      <td>False</td>\n      <td>False</td>\n      <td>False</td>\n      <td>False</td>\n      <td>True</td>\n      <td>baldi</td>\n      <td>...</td>\n      <td>26</td>\n      <td>0</td>\n      <td>0</td>\n      <td>19</td>\n      <td>0</td>\n      <td>0</td>\n      <td>14</td>\n      <td>2.946</td>\n      <td>29</td>\n      <td>NaN</td>\n    </tr>\n    <tr>\n      <th>3</th>\n      <td>alfa</td>\n      <td>1983</td>\n      <td>4</td>\n      <td>imola</td>\n      <td>False</td>\n      <td>False</td>\n      <td>False</td>\n      <td>False</td>\n      <td>False</td>\n      <td>baldi</td>\n      <td>...</td>\n      <td>28</td>\n      <td>0</td>\n      <td>0</td>\n      <td>26</td>\n      <td>0</td>\n      <td>0</td>\n      <td>12</td>\n      <td>3.762</td>\n      <td>29</td>\n      <td>0.0</td>\n    </tr>\n    <tr>\n      <th>4</th>\n      <td>alfa</td>\n      <td>1983</td>\n      <td>5</td>\n      <td>monaco</td>\n      <td>False</td>\n      <td>False</td>\n      <td>False</td>\n      <td>True</td>\n      <td>False</td>\n      <td>baldi</td>\n      <td>...</td>\n      <td>19</td>\n      <td>0</td>\n      <td>0</td>\n      <td>28</td>\n      <td>0</td>\n      <td>0</td>\n      <td>11</td>\n      <td>3.799</td>\n      <td>29</td>\n      <td>0.0</td>\n    </tr>\n    <tr>\n      <th>5</th>\n      <td>alfa</td>\n      <td>1983</td>\n      <td>6</td>\n      <td>spa</td>\n      <td>False</td>\n      <td>False</td>\n      <td>False</td>\n      <td>False</td>\n      <td>False</td>\n      <td>baldi</td>\n      <td>...</td>\n      <td>12</td>\n      <td>0</td>\n      <td>0</td>\n      <td>19</td>\n      <td>1</td>\n      <td>0</td>\n      <td>8</td>\n      <td>4.610</td>\n      <td>29</td>\n      <td>NaN</td>\n    </tr>\n    <tr>\n      <th>6</th>\n      <td>alfa</td>\n      <td>1983</td>\n      <td>7</td>\n      <td>detroit</td>\n      <td>True</td>\n      <td>False</td>\n      <td>False</td>\n      <td>False</td>\n      <td>False</td>\n      <td>baldi</td>\n      <td>...</td>\n      <td>13</td>\n      <td>1</td>\n      <td>0</td>\n      <td>12</td>\n      <td>1</td>\n      <td>0</td>\n      <td>9</td>\n      <td>5.182</td>\n      <td>29</td>\n      <td>0.0</td>\n    </tr>\n    <tr>\n      <th>7</th>\n      <td>alfa</td>\n      <td>1983</td>\n      <td>8</td>\n      <td>villeneuve</td>\n      <td>True</td>\n      <td>False</td>\n      <td>False</td>\n      <td>False</td>\n      <td>False</td>\n      <td>baldi</td>\n      <td>...</td>\n      <td>14</td>\n      <td>1</td>\n      <td>0</td>\n      <td>13</td>\n      <td>1</td>\n      <td>0</td>\n      <td>10</td>\n      <td>6.026</td>\n      <td>29</td>\n      <td>0.0</td>\n    </tr>\n    <tr>\n      <th>8</th>\n      <td>alfa</td>\n      <td>1983</td>\n      <td>9</td>\n      <td>silverstone</td>\n      <td>False</td>\n      <td>False</td>\n      <td>False</td>\n      <td>False</td>\n      <td>False</td>\n      <td>baldi</td>\n      <td>...</td>\n      <td>13</td>\n      <td>1</td>\n      <td>0</td>\n      <td>14</td>\n      <td>1</td>\n      <td>0</td>\n      <td>9</td>\n      <td>3.398</td>\n      <td>29</td>\n      <td>NaN</td>\n    </tr>\n    <tr>\n      <th>9</th>\n      <td>alfa</td>\n      <td>1983</td>\n      <td>10</td>\n      <td>hockenheimring</td>\n      <td>False</td>\n      <td>False</td>\n      <td>True</td>\n      <td>False</td>\n      <td>False</td>\n      <td>baldi</td>\n      <td>...</td>\n      <td>14</td>\n      <td>1</td>\n      <td>0</td>\n      <td>13</td>\n      <td>1</td>\n      <td>0</td>\n      <td>9</td>\n      <td>2.539</td>\n      <td>29</td>\n      <td>NaN</td>\n    </tr>\n  </tbody>\n</table>\n<p>10 rows × 25 columns</p>\n</div>"
     },
     "metadata": {},
     "execution_count": 3
    }
   ],
   "source": [
    "# The goal of this exercise will be, for every Constructor, to modelate 0s for repeated Drivers after every Season and 1s for different ones. Thus we will get a binary idea of how many times a Team switched Drivers between Seasons.\n",
    "\n",
    "# Step one, pulverize the problem into various subsets of things. Let's only get the Constructor, their Season, and with which Driver they competed. \n",
    "\n",
    "constructors = dataset.groupby('constructor').apply(lambda a: a.drop('constructor', axis=1)[:])\n",
    "\n",
    "df = constructors.reset_index().drop(['level_1'], axis=1)\n",
    "\n",
    "driver_change_dataset = df.sort_values(by=['season','constructor','driver']).reset_index().drop(['index'], axis=1)\n",
    "\n",
    "driver_change_dataset.head(10)"
   ]
  },
  {
   "cell_type": "code",
   "execution_count": 4,
   "metadata": {},
   "outputs": [],
   "source": [
    "# Now here's the trick, we will use a where clause to codify our data.\n",
    "\n",
    "driver_change_dataset['change_drivers'] = np.where((driver_change_dataset['constructor'] == driver_change_dataset['constructor'].shift(periods=-1,axis=0)) & (driver_change_dataset['driver'] == driver_change_dataset['driver'].shift(periods=-1,axis=0)),0,1)\n"
   ]
  },
  {
   "cell_type": "code",
   "execution_count": 5,
   "metadata": {},
   "outputs": [
    {
     "output_type": "execute_result",
     "data": {
      "text/plain": "    constructor  season  driver  change_drivers\n161     mclaren    1983   lauda               0\n162     mclaren    1983   lauda               0\n163     mclaren    1983   lauda               0\n164     mclaren    1983   lauda               0\n165     mclaren    1983   lauda               0\n166     mclaren    1983   lauda               0\n167     mclaren    1983   lauda               0\n168     mclaren    1983   lauda               0\n169     mclaren    1983   lauda               0\n170     mclaren    1983   lauda               0\n171     mclaren    1983   lauda               0\n172     mclaren    1983   lauda               0\n173     mclaren    1983   lauda               0\n174     mclaren    1983   lauda               1\n175     mclaren    1983  watson               0\n176     mclaren    1983  watson               0\n177     mclaren    1983  watson               0\n178     mclaren    1983  watson               0\n179     mclaren    1983  watson               0\n180     mclaren    1983  watson               0\n181     mclaren    1983  watson               0\n182     mclaren    1983  watson               0\n183     mclaren    1983  watson               0\n184     mclaren    1983  watson               0\n185     mclaren    1983  watson               0\n186     mclaren    1983  watson               0\n187     mclaren    1983  watson               0\n188     mclaren    1983  watson               1\n549     mclaren    1984   lauda               0\n550     mclaren    1984   lauda               0\n551     mclaren    1984   lauda               0\n552     mclaren    1984   lauda               0\n553     mclaren    1984   lauda               0\n554     mclaren    1984   lauda               0\n555     mclaren    1984   lauda               0\n556     mclaren    1984   lauda               0\n557     mclaren    1984   lauda               0\n558     mclaren    1984   lauda               0\n559     mclaren    1984   lauda               0\n560     mclaren    1984   lauda               0\n561     mclaren    1984   lauda               0\n562     mclaren    1984   lauda               0\n563     mclaren    1984   lauda               0\n564     mclaren    1984   lauda               1\n565     mclaren    1984   prost               0\n566     mclaren    1984   prost               0\n567     mclaren    1984   prost               0\n568     mclaren    1984   prost               0\n569     mclaren    1984   prost               0\n570     mclaren    1984   prost               0",
      "text/html": "<div>\n<style scoped>\n    .dataframe tbody tr th:only-of-type {\n        vertical-align: middle;\n    }\n\n    .dataframe tbody tr th {\n        vertical-align: top;\n    }\n\n    .dataframe thead th {\n        text-align: right;\n    }\n</style>\n<table border=\"1\" class=\"dataframe\">\n  <thead>\n    <tr style=\"text-align: right;\">\n      <th></th>\n      <th>constructor</th>\n      <th>season</th>\n      <th>driver</th>\n      <th>change_drivers</th>\n    </tr>\n  </thead>\n  <tbody>\n    <tr>\n      <th>161</th>\n      <td>mclaren</td>\n      <td>1983</td>\n      <td>lauda</td>\n      <td>0</td>\n    </tr>\n    <tr>\n      <th>162</th>\n      <td>mclaren</td>\n      <td>1983</td>\n      <td>lauda</td>\n      <td>0</td>\n    </tr>\n    <tr>\n      <th>163</th>\n      <td>mclaren</td>\n      <td>1983</td>\n      <td>lauda</td>\n      <td>0</td>\n    </tr>\n    <tr>\n      <th>164</th>\n      <td>mclaren</td>\n      <td>1983</td>\n      <td>lauda</td>\n      <td>0</td>\n    </tr>\n    <tr>\n      <th>165</th>\n      <td>mclaren</td>\n      <td>1983</td>\n      <td>lauda</td>\n      <td>0</td>\n    </tr>\n    <tr>\n      <th>166</th>\n      <td>mclaren</td>\n      <td>1983</td>\n      <td>lauda</td>\n      <td>0</td>\n    </tr>\n    <tr>\n      <th>167</th>\n      <td>mclaren</td>\n      <td>1983</td>\n      <td>lauda</td>\n      <td>0</td>\n    </tr>\n    <tr>\n      <th>168</th>\n      <td>mclaren</td>\n      <td>1983</td>\n      <td>lauda</td>\n      <td>0</td>\n    </tr>\n    <tr>\n      <th>169</th>\n      <td>mclaren</td>\n      <td>1983</td>\n      <td>lauda</td>\n      <td>0</td>\n    </tr>\n    <tr>\n      <th>170</th>\n      <td>mclaren</td>\n      <td>1983</td>\n      <td>lauda</td>\n      <td>0</td>\n    </tr>\n    <tr>\n      <th>171</th>\n      <td>mclaren</td>\n      <td>1983</td>\n      <td>lauda</td>\n      <td>0</td>\n    </tr>\n    <tr>\n      <th>172</th>\n      <td>mclaren</td>\n      <td>1983</td>\n      <td>lauda</td>\n      <td>0</td>\n    </tr>\n    <tr>\n      <th>173</th>\n      <td>mclaren</td>\n      <td>1983</td>\n      <td>lauda</td>\n      <td>0</td>\n    </tr>\n    <tr>\n      <th>174</th>\n      <td>mclaren</td>\n      <td>1983</td>\n      <td>lauda</td>\n      <td>1</td>\n    </tr>\n    <tr>\n      <th>175</th>\n      <td>mclaren</td>\n      <td>1983</td>\n      <td>watson</td>\n      <td>0</td>\n    </tr>\n    <tr>\n      <th>176</th>\n      <td>mclaren</td>\n      <td>1983</td>\n      <td>watson</td>\n      <td>0</td>\n    </tr>\n    <tr>\n      <th>177</th>\n      <td>mclaren</td>\n      <td>1983</td>\n      <td>watson</td>\n      <td>0</td>\n    </tr>\n    <tr>\n      <th>178</th>\n      <td>mclaren</td>\n      <td>1983</td>\n      <td>watson</td>\n      <td>0</td>\n    </tr>\n    <tr>\n      <th>179</th>\n      <td>mclaren</td>\n      <td>1983</td>\n      <td>watson</td>\n      <td>0</td>\n    </tr>\n    <tr>\n      <th>180</th>\n      <td>mclaren</td>\n      <td>1983</td>\n      <td>watson</td>\n      <td>0</td>\n    </tr>\n    <tr>\n      <th>181</th>\n      <td>mclaren</td>\n      <td>1983</td>\n      <td>watson</td>\n      <td>0</td>\n    </tr>\n    <tr>\n      <th>182</th>\n      <td>mclaren</td>\n      <td>1983</td>\n      <td>watson</td>\n      <td>0</td>\n    </tr>\n    <tr>\n      <th>183</th>\n      <td>mclaren</td>\n      <td>1983</td>\n      <td>watson</td>\n      <td>0</td>\n    </tr>\n    <tr>\n      <th>184</th>\n      <td>mclaren</td>\n      <td>1983</td>\n      <td>watson</td>\n      <td>0</td>\n    </tr>\n    <tr>\n      <th>185</th>\n      <td>mclaren</td>\n      <td>1983</td>\n      <td>watson</td>\n      <td>0</td>\n    </tr>\n    <tr>\n      <th>186</th>\n      <td>mclaren</td>\n      <td>1983</td>\n      <td>watson</td>\n      <td>0</td>\n    </tr>\n    <tr>\n      <th>187</th>\n      <td>mclaren</td>\n      <td>1983</td>\n      <td>watson</td>\n      <td>0</td>\n    </tr>\n    <tr>\n      <th>188</th>\n      <td>mclaren</td>\n      <td>1983</td>\n      <td>watson</td>\n      <td>1</td>\n    </tr>\n    <tr>\n      <th>549</th>\n      <td>mclaren</td>\n      <td>1984</td>\n      <td>lauda</td>\n      <td>0</td>\n    </tr>\n    <tr>\n      <th>550</th>\n      <td>mclaren</td>\n      <td>1984</td>\n      <td>lauda</td>\n      <td>0</td>\n    </tr>\n    <tr>\n      <th>551</th>\n      <td>mclaren</td>\n      <td>1984</td>\n      <td>lauda</td>\n      <td>0</td>\n    </tr>\n    <tr>\n      <th>552</th>\n      <td>mclaren</td>\n      <td>1984</td>\n      <td>lauda</td>\n      <td>0</td>\n    </tr>\n    <tr>\n      <th>553</th>\n      <td>mclaren</td>\n      <td>1984</td>\n      <td>lauda</td>\n      <td>0</td>\n    </tr>\n    <tr>\n      <th>554</th>\n      <td>mclaren</td>\n      <td>1984</td>\n      <td>lauda</td>\n      <td>0</td>\n    </tr>\n    <tr>\n      <th>555</th>\n      <td>mclaren</td>\n      <td>1984</td>\n      <td>lauda</td>\n      <td>0</td>\n    </tr>\n    <tr>\n      <th>556</th>\n      <td>mclaren</td>\n      <td>1984</td>\n      <td>lauda</td>\n      <td>0</td>\n    </tr>\n    <tr>\n      <th>557</th>\n      <td>mclaren</td>\n      <td>1984</td>\n      <td>lauda</td>\n      <td>0</td>\n    </tr>\n    <tr>\n      <th>558</th>\n      <td>mclaren</td>\n      <td>1984</td>\n      <td>lauda</td>\n      <td>0</td>\n    </tr>\n    <tr>\n      <th>559</th>\n      <td>mclaren</td>\n      <td>1984</td>\n      <td>lauda</td>\n      <td>0</td>\n    </tr>\n    <tr>\n      <th>560</th>\n      <td>mclaren</td>\n      <td>1984</td>\n      <td>lauda</td>\n      <td>0</td>\n    </tr>\n    <tr>\n      <th>561</th>\n      <td>mclaren</td>\n      <td>1984</td>\n      <td>lauda</td>\n      <td>0</td>\n    </tr>\n    <tr>\n      <th>562</th>\n      <td>mclaren</td>\n      <td>1984</td>\n      <td>lauda</td>\n      <td>0</td>\n    </tr>\n    <tr>\n      <th>563</th>\n      <td>mclaren</td>\n      <td>1984</td>\n      <td>lauda</td>\n      <td>0</td>\n    </tr>\n    <tr>\n      <th>564</th>\n      <td>mclaren</td>\n      <td>1984</td>\n      <td>lauda</td>\n      <td>1</td>\n    </tr>\n    <tr>\n      <th>565</th>\n      <td>mclaren</td>\n      <td>1984</td>\n      <td>prost</td>\n      <td>0</td>\n    </tr>\n    <tr>\n      <th>566</th>\n      <td>mclaren</td>\n      <td>1984</td>\n      <td>prost</td>\n      <td>0</td>\n    </tr>\n    <tr>\n      <th>567</th>\n      <td>mclaren</td>\n      <td>1984</td>\n      <td>prost</td>\n      <td>0</td>\n    </tr>\n    <tr>\n      <th>568</th>\n      <td>mclaren</td>\n      <td>1984</td>\n      <td>prost</td>\n      <td>0</td>\n    </tr>\n    <tr>\n      <th>569</th>\n      <td>mclaren</td>\n      <td>1984</td>\n      <td>prost</td>\n      <td>0</td>\n    </tr>\n    <tr>\n      <th>570</th>\n      <td>mclaren</td>\n      <td>1984</td>\n      <td>prost</td>\n      <td>0</td>\n    </tr>\n  </tbody>\n</table>\n</div>"
     },
     "metadata": {},
     "execution_count": 5
    }
   ],
   "source": [
    "# Let's check Mclaren's career again, we should see the correct codification now!\n",
    "\n",
    "driver_change_dataset[['constructor','season','driver','change_drivers']][(driver_change_dataset['constructor']=='mclaren')].head(50)"
   ]
  },
  {
   "cell_type": "code",
   "execution_count": 6,
   "metadata": {},
   "outputs": [],
   "source": [
    "# Now let's sort things out in order to be able to use the dataset as a time series.\n",
    "\n",
    "driver_change_dataset = driver_change_dataset.sort_values(by=['season','round','constructor','driver']).reset_index().drop(['index'], axis=1)\n"
   ]
  },
  {
   "cell_type": "code",
   "execution_count": 7,
   "metadata": {},
   "outputs": [],
   "source": [
    "driver_change_dataset.to_csv(r'/Users/alejandropalacios/Desktop/Ironhack/Data Analytics Bootcamp/Advanced Data Analysis Techniques/Project/F1-Grand-Prix-Predictor/Data Manipulation/Modeling/driver_change_dataset.csv', index = False)"
   ]
  }
 ]
}